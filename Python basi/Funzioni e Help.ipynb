{
 "cells": [
  {
   "cell_type": "markdown",
   "id": "f4ea90a1",
   "metadata": {},
   "source": [
    "## Help"
   ]
  },
  {
   "cell_type": "markdown",
   "id": "98573908",
   "metadata": {},
   "source": [
    "La funzione help() è forse la funzione Python più importante che si possa imparare. Se riuscite a ricordare come si usa help(), avete la chiave per capire la maggior parte delle altre funzioni.\n",
    "\n",
    "help() visualizza due cose:\n",
    "\n",
    "- l'intestazione della funzione round(number, ndigits=None). In questo caso, ci dice che round() accetta un argomento che possiamo descrivere come numero. Inoltre, è possibile fornire facoltativamente un argomento separato, che potrebbe essere descritto come ndigits.\n",
    "- Una breve descrizione in inglese di ciò che fa la funzione."
   ]
  },
  {
   "cell_type": "code",
   "execution_count": 1,
   "id": "ec28366a",
   "metadata": {},
   "outputs": [
    {
     "name": "stdout",
     "output_type": "stream",
     "text": [
      "Help on built-in function round in module builtins:\n",
      "\n",
      "round(number, ndigits=None)\n",
      "    Round a number to a given precision in decimal digits.\n",
      "    \n",
      "    The return value is an integer if ndigits is omitted or None.  Otherwise\n",
      "    the return value has the same type as the number.  ndigits may be negative.\n",
      "\n"
     ]
    }
   ],
   "source": [
    "help(round)"
   ]
  },
  {
   "cell_type": "markdown",
   "id": "6f5d97be",
   "metadata": {},
   "source": [
    "## Funzioni"
   ]
  },
  {
   "cell_type": "markdown",
   "id": "1e9753d2",
   "metadata": {},
   "source": [
    "Le funzioni integrate sono ottime, ma si può arrivare solo fino a un certo punto prima di dover iniziare a definire le proprie funzioni.\n",
    "\n",
    "In questo modo si crea una funzione chiamata least_difference, che prende tre argomenti, a, b e c.\n",
    "\n",
    "Le funzioni iniziano con un'intestazione introdotta dalla parola chiave def. Il blocco di codice rientrato dopo il : viene eseguito quando la funzione viene chiamata.\n",
    "\n",
    "return è un'altra parola chiave associata in modo univoco alle funzioni. Quando Python incontra un'istruzione return, esce immediatamente dalla funzione e passa il valore sul lato destro al contesto chiamante."
   ]
  },
  {
   "cell_type": "code",
   "execution_count": 6,
   "id": "35c12f45",
   "metadata": {},
   "outputs": [],
   "source": [
    "def least_difference(a, b, c):\n",
    "    \"\"\"Return the smallest difference between any two numbers\n",
    "    among a, b and c.\n",
    "    \n",
    "    >>> least_difference(1, 5, -5)\n",
    "    4\n",
    "    \"\"\"\n",
    "    diff1 = abs(a - b)\n",
    "    diff2 = abs(b - c)\n",
    "    diff3 = abs(a - c)\n",
    "    return min(diff1, diff2, diff3)"
   ]
  },
  {
   "cell_type": "code",
   "execution_count": 7,
   "id": "30caaa9d",
   "metadata": {},
   "outputs": [
    {
     "name": "stdout",
     "output_type": "stream",
     "text": [
      "9 0 1\n"
     ]
    }
   ],
   "source": [
    "print(\n",
    "    least_difference(1, 10, 100),\n",
    "    least_difference(1, 10, 10),\n",
    "    least_difference(5, 6, 7), # Python allows trailing commas in argument lists. How nice is that?\n",
    ")"
   ]
  },
  {
   "cell_type": "code",
   "execution_count": 8,
   "id": "a78b28dc",
   "metadata": {},
   "outputs": [
    {
     "name": "stdout",
     "output_type": "stream",
     "text": [
      "Help on function least_difference in module __main__:\n",
      "\n",
      "least_difference(a, b, c)\n",
      "    Return the smallest difference between any two numbers\n",
      "    among a, b and c.\n",
      "    \n",
      "    >>> least_difference(1, 5, -5)\n",
      "    4\n",
      "\n"
     ]
    }
   ],
   "source": [
    "help(least_difference)"
   ]
  },
  {
   "cell_type": "markdown",
   "id": "774de26c",
   "metadata": {},
   "source": [
    "Python ci consente di definire tali funzioni. Il risultato della loro chiamata è il valore speciale None. (Questo è simile al concetto di \"null\" in altri linguaggi).\n",
    "\n",
    "Senza una dichiarazione di return, least_difference è completamente inutile, ma una funzione con effetti collaterali può fare qualcosa di utile senza restituire nulla. Ne abbiamo già visto due esempi: print() e help() non restituiscono nulla. Le chiamiamo solo per i loro effetti collaterali (mettere del testo sullo schermo)."
   ]
  },
  {
   "cell_type": "code",
   "execution_count": 9,
   "id": "d959d142",
   "metadata": {},
   "outputs": [
    {
     "name": "stdout",
     "output_type": "stream",
     "text": [
      "1 < 2 < 3\n"
     ]
    }
   ],
   "source": [
    "print(1, 2, 3, sep=' < ')"
   ]
  },
  {
   "cell_type": "code",
   "execution_count": 10,
   "id": "1f474d42",
   "metadata": {},
   "outputs": [
    {
     "name": "stdout",
     "output_type": "stream",
     "text": [
      "Hello, Colin\n",
      "Hello, Kaggle\n",
      "Hello, world\n"
     ]
    }
   ],
   "source": [
    "def greet(who=\"Colin\"):\n",
    "    print(\"Hello,\", who)\n",
    "    \n",
    "greet()\n",
    "greet(who=\"Kaggle\")\n",
    "# (In this case, we don't need to specify the name of the argument, because it's unambiguous.)\n",
    "greet(\"world\")"
   ]
  },
  {
   "cell_type": "markdown",
   "id": "9a6383da",
   "metadata": {},
   "source": [
    "Ecco qualcosa di potente, anche se all'inizio può sembrare molto astratto. È possibile fornire funzioni come argomenti ad altre funzioni.\n"
   ]
  },
  {
   "cell_type": "code",
   "execution_count": 11,
   "id": "b739daa5",
   "metadata": {},
   "outputs": [
    {
     "name": "stdout",
     "output_type": "stream",
     "text": [
      "5\n",
      "25\n"
     ]
    }
   ],
   "source": [
    "def mult_by_five(x):\n",
    "    return 5 * x\n",
    "\n",
    "def call(fn, arg):\n",
    "    \"\"\"Call fn on arg\"\"\"\n",
    "    return fn(arg)\n",
    "\n",
    "def squared_call(fn, arg):\n",
    "    \"\"\"Call fn on the result of calling fn on arg\"\"\"\n",
    "    return fn(fn(arg))\n",
    "\n",
    "print(\n",
    "    call(mult_by_five, 1),\n",
    "    squared_call(mult_by_five, 1), \n",
    "    sep='\\n', # '\\n' is the newline character - it starts a new line\n",
    ")"
   ]
  },
  {
   "cell_type": "markdown",
   "id": "f3ee432f",
   "metadata": {},
   "source": [
    "Le funzioni che operano su altre funzioni sono chiamate \"funzioni di ordine superiore\". Ma ci sono funzioni di ordine superiore integrate in Python che potrebbe essere utile chiamare.\n",
    "\n",
    "Per impostazione predefinita, max restituisce il più grande dei suoi argomenti. Ma se si passa una funzione utilizzando l'argomento opzionale key, restituisce l'argomento x che massimizza key(x) (detto anche 'argmax')."
   ]
  },
  {
   "cell_type": "code",
   "execution_count": 12,
   "id": "d86107bc",
   "metadata": {},
   "outputs": [
    {
     "name": "stdout",
     "output_type": "stream",
     "text": [
      "Which number is biggest?\n",
      "100\n",
      "Which number is the biggest modulo 5?\n",
      "14\n"
     ]
    }
   ],
   "source": [
    "def mod_5(x):\n",
    "    \"\"\"Return the remainder of x after dividing by 5\"\"\"\n",
    "    return x % 5\n",
    "\n",
    "print(\n",
    "    'Which number is biggest?',\n",
    "    max(100, 51, 14),\n",
    "    'Which number is the biggest modulo 5?',\n",
    "    max(100, 51, 14, key=mod_5),\n",
    "    sep='\\n',\n",
    ")"
   ]
  },
  {
   "cell_type": "markdown",
   "id": "034d0753",
   "metadata": {},
   "source": [
    "## Esercizi"
   ]
  },
  {
   "cell_type": "code",
   "execution_count": 13,
   "id": "a1e42a05",
   "metadata": {},
   "outputs": [
    {
     "name": "stdout",
     "output_type": "stream",
     "text": [
      "Setup complete.\n"
     ]
    }
   ],
   "source": [
    "# SETUP. You don't need to worry for now about what this code does or how it works.\n",
    "from learntools.core import binder; binder.bind(globals())\n",
    "from learntools.python.ex2 import *\n",
    "print('Setup complete.')"
   ]
  },
  {
   "cell_type": "markdown",
   "id": "a78b7d05",
   "metadata": {},
   "source": [
    "### Domanda 1"
   ]
  },
  {
   "cell_type": "code",
   "execution_count": 14,
   "id": "8002a743",
   "metadata": {},
   "outputs": [
    {
     "data": {
      "application/javascript": [
       "parent.postMessage({\"jupyterEvent\": \"custom.exercise_interaction\", \"data\": {\"outcomeType\": 1, \"valueTowardsCompletion\": 0.16666666666666666, \"interactionType\": 1, \"questionType\": 2, \"questionId\": \"1_RoundFunctionProblem\", \"learnToolsVersion\": \"0.3.4\", \"failureMessage\": \"\", \"exceptionClass\": \"\", \"trace\": \"\"}}, \"*\")"
      ],
      "text/plain": [
       "<IPython.core.display.Javascript object>"
      ]
     },
     "metadata": {},
     "output_type": "display_data"
    },
    {
     "data": {
      "text/markdown": [
       "<span style=\"color:#33cc33\">Correct</span>"
      ],
      "text/plain": [
       "Correct"
      ]
     },
     "metadata": {},
     "output_type": "display_data"
    }
   ],
   "source": [
    "def round_to_two_places(num):\n",
    "    \"\"\"Return the given number rounded to two decimal places. \n",
    "    \n",
    "    >>> round_to_two_places(3.14159)\n",
    "    3.14\n",
    "    \"\"\"\n",
    "    # Replace this body with your own code.\n",
    "    # (\"pass\" is a keyword that does literally nothing. We used it as a placeholder\n",
    "    # because after we begin a code block, Python requires at least one line of code)\n",
    "    return round(num, 2)\n",
    "\n",
    "# Check your answer\n",
    "q1.check()"
   ]
  },
  {
   "cell_type": "markdown",
   "id": "fb699bf0",
   "metadata": {},
   "source": [
    "### Domanda 2"
   ]
  },
  {
   "cell_type": "markdown",
   "id": "6eaac42a",
   "metadata": {},
   "source": [
    "La guida per round dice che ndigits (il secondo argomento) può essere negativo. Cosa pensate che succeda quando lo è? Provate a fare qualche esempio nella cella seguente."
   ]
  },
  {
   "cell_type": "code",
   "execution_count": 17,
   "id": "918c3821",
   "metadata": {},
   "outputs": [
    {
     "name": "stdout",
     "output_type": "stream",
     "text": [
      "0\n"
     ]
    }
   ],
   "source": [
    "ndigits = round(1, -5)\n",
    "print(ndigits)"
   ]
  },
  {
   "cell_type": "markdown",
   "id": "97cbbd72",
   "metadata": {},
   "source": [
    "### Domanda 3"
   ]
  },
  {
   "cell_type": "markdown",
   "id": "6b55e7da",
   "metadata": {},
   "source": [
    "Nell'esercizio precedente, gli amici Alice, Bob e Carol hanno cercato di dividere le caramelle in modo equo. Per il bene della loro amicizia, le caramelle rimaste sarebbero state frantumate. Ad esempio, se insieme portano a casa 91 caramelle, ne prenderanno 30 a testa e ne distruggeranno 1.\n",
    "\n",
    "Di seguito è riportata una semplice funzione che calcola il numero di caramelle da distruggere per qualsiasi numero di caramelle totali.\n",
    "\n",
    "Modificatela in modo che accetti facoltativamente un secondo argomento che rappresenta il numero di amici tra i quali vengono divise le caramelle. Se non viene fornito un secondo argomento, il calcolo deve assumere 3 amici, come in precedenza.\n",
    "\n",
    "Aggiornare la documentazione per riflettere questo nuovo comportamento."
   ]
  },
  {
   "cell_type": "code",
   "execution_count": 18,
   "id": "ccba0ece",
   "metadata": {},
   "outputs": [
    {
     "data": {
      "application/javascript": [
       "parent.postMessage({\"jupyterEvent\": \"custom.exercise_interaction\", \"data\": {\"outcomeType\": 1, \"valueTowardsCompletion\": 0.16666666666666666, \"interactionType\": 1, \"questionType\": 2, \"questionId\": \"3_CandySmashingFunctionProblem\", \"learnToolsVersion\": \"0.3.4\", \"failureMessage\": \"\", \"exceptionClass\": \"\", \"trace\": \"\"}}, \"*\")"
      ],
      "text/plain": [
       "<IPython.core.display.Javascript object>"
      ]
     },
     "metadata": {},
     "output_type": "display_data"
    },
    {
     "data": {
      "text/markdown": [
       "<span style=\"color:#33cc33\">Correct</span>"
      ],
      "text/plain": [
       "Correct"
      ]
     },
     "metadata": {},
     "output_type": "display_data"
    }
   ],
   "source": [
    "def to_smash(total_candies, n_friends=3):\n",
    "    \"\"\"Return the number of leftover candies that must be smashed after distributing\n",
    "    the given number of candies evenly between 3 friends.\n",
    "    \n",
    "    >>> to_smash(91)\n",
    "    1\n",
    "    \"\"\"\n",
    "    return total_candies % n_friends\n",
    "# Check your answer\n",
    "q3.check()"
   ]
  },
  {
   "cell_type": "markdown",
   "id": "bd95222a",
   "metadata": {},
   "source": [
    "### Domanda 4"
   ]
  },
  {
   "cell_type": "markdown",
   "id": "c84b9846",
   "metadata": {},
   "source": [
    "Può non essere divertente, ma leggere e capire i messaggi di errore sarà una parte importante della vostra carriera in Python.\n",
    "\n",
    "Ogni cella di codice qui sotto contiene del codice commentato con errori. Per ogni cella...\n",
    "\n",
    "Leggete il codice e prevedete cosa pensate che accadrà quando verrà eseguito.\n",
    "Poi decommentate il codice ed eseguitelo per vedere cosa succede. (Suggerimento: nell'editor del kernel, è possibile evidenziare diverse righe e premere ctrl+/ per alternare i commenti).\n",
    "Correggere il codice (in modo che raggiunga lo scopo previsto senza lanciare un'eccezione)"
   ]
  },
  {
   "cell_type": "code",
   "execution_count": 19,
   "id": "6dec7b80",
   "metadata": {},
   "outputs": [
    {
     "data": {
      "text/plain": [
       "10.0"
      ]
     },
     "execution_count": 19,
     "metadata": {},
     "output_type": "execute_result"
    }
   ],
   "source": [
    "round_to_two_places(9.9999)"
   ]
  },
  {
   "cell_type": "code",
   "execution_count": 20,
   "id": "e0fde795",
   "metadata": {},
   "outputs": [
    {
     "name": "stdout",
     "output_type": "stream",
     "text": [
      "5\n"
     ]
    }
   ],
   "source": [
    "x = -10\n",
    "y = 5\n",
    "# # Which of the two variables above has the smallest absolute value?\n",
    "smallest_abs = min(abs(x), abs(y))\n",
    "print(smallest_abs)"
   ]
  },
  {
   "cell_type": "code",
   "execution_count": 21,
   "id": "82521b2e",
   "metadata": {},
   "outputs": [
    {
     "name": "stdout",
     "output_type": "stream",
     "text": [
      "5\n"
     ]
    }
   ],
   "source": [
    "def f(x):\n",
    "    y = abs(x)\n",
    "    return y\n",
    "\n",
    "print(f(-5))"
   ]
  }
 ],
 "metadata": {
  "kernelspec": {
   "display_name": "Python 3 (ipykernel)",
   "language": "python",
   "name": "python3"
  },
  "language_info": {
   "codemirror_mode": {
    "name": "ipython",
    "version": 3
   },
   "file_extension": ".py",
   "mimetype": "text/x-python",
   "name": "python",
   "nbconvert_exporter": "python",
   "pygments_lexer": "ipython3",
   "version": "3.9.7"
  }
 },
 "nbformat": 4,
 "nbformat_minor": 5
}
