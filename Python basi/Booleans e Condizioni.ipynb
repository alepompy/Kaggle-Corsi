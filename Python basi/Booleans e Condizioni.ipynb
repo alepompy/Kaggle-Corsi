{
 "cells": [
  {
   "cell_type": "markdown",
   "id": "6259d71e",
   "metadata": {},
   "source": [
    "### Booleans"
   ]
  },
  {
   "cell_type": "code",
   "execution_count": 1,
   "id": "b1061ebe",
   "metadata": {},
   "outputs": [
    {
     "name": "stdout",
     "output_type": "stream",
     "text": [
      "True\n",
      "<class 'bool'>\n"
     ]
    }
   ],
   "source": [
    "x = True\n",
    "print(x)\n",
    "print(type(x))"
   ]
  },
  {
   "cell_type": "markdown",
   "id": "d87a362e",
   "metadata": {},
   "source": [
    "**Comparison**"
   ]
  },
  {
   "attachments": {
    "image.png": {
     "image/png": "[encoded data removed]"
    }
   },
   "cell_type": "markdown",
   "id": "5d08adda",
   "metadata": {},
   "source": [
    "![image.png](attachment:image.png)"
   ]
  },
  {
   "cell_type": "code",
   "execution_count": 2,
   "id": "1d23b6c6",
   "metadata": {},
   "outputs": [
    {
     "name": "stdout",
     "output_type": "stream",
     "text": [
      "Can a 19-year-old run for president? False\n",
      "Can a 45-year-old run for president? True\n"
     ]
    }
   ],
   "source": [
    "def can_run_for_president(age):\n",
    "    \"\"\"Can someone of the given age run for president in the US?\"\"\"\n",
    "    # The US Constitution says you must be at least 35 years old\n",
    "    return age >= 35\n",
    "\n",
    "print(\"Can a 19-year-old run for president?\", can_run_for_president(19))\n",
    "print(\"Can a 45-year-old run for president?\", can_run_for_president(45))"
   ]
  },
  {
   "cell_type": "code",
   "execution_count": 3,
   "id": "e5bce209",
   "metadata": {},
   "outputs": [
    {
     "data": {
      "text/plain": [
       "True"
      ]
     },
     "execution_count": 3,
     "metadata": {},
     "output_type": "execute_result"
    }
   ],
   "source": [
    "3.0 == 3"
   ]
  },
  {
   "cell_type": "code",
   "execution_count": 5,
   "id": "d5210a83",
   "metadata": {},
   "outputs": [
    {
     "data": {
      "text/plain": [
       "False"
      ]
     },
     "execution_count": 5,
     "metadata": {},
     "output_type": "execute_result"
    }
   ],
   "source": [
    "'3' == 3"
   ]
  },
  {
   "cell_type": "code",
   "execution_count": 6,
   "id": "caf06194",
   "metadata": {},
   "outputs": [
    {
     "name": "stdout",
     "output_type": "stream",
     "text": [
      "Is 100 odd? False\n",
      "Is -1 odd? True\n"
     ]
    }
   ],
   "source": [
    "def is_odd(n):\n",
    "    return (n % 2) == 1\n",
    "\n",
    "print(\"Is 100 odd?\", is_odd(100))\n",
    "print(\"Is -1 odd?\", is_odd(-1))"
   ]
  },
  {
   "cell_type": "markdown",
   "id": "b5dfc772",
   "metadata": {},
   "source": [
    "È possibile combinare i valori booleani utilizzando i concetti standard di **and**, **or** e **not**. Con queste parole, possiamo rendere più precisa la nostra funzione can_run_for_president."
   ]
  },
  {
   "cell_type": "code",
   "execution_count": 7,
   "id": "2c9333e2",
   "metadata": {},
   "outputs": [
    {
     "name": "stdout",
     "output_type": "stream",
     "text": [
      "False\n",
      "False\n",
      "True\n"
     ]
    }
   ],
   "source": [
    "def can_run_for_president(age, is_natural_born_citizen):\n",
    "    \"\"\"Can someone of the given age and citizenship status run for president in the US?\"\"\"\n",
    "    # The US Constitution says you must be a natural born citizen *and* at least 35 years old\n",
    "    return is_natural_born_citizen and (age >= 35)\n",
    "\n",
    "print(can_run_for_president(19, True))\n",
    "print(can_run_for_president(55, False))\n",
    "print(can_run_for_president(55, True))"
   ]
  },
  {
   "cell_type": "code",
   "execution_count": 8,
   "id": "01986afa",
   "metadata": {},
   "outputs": [
    {
     "data": {
      "text/plain": [
       "True"
      ]
     },
     "execution_count": 8,
     "metadata": {},
     "output_type": "execute_result"
    }
   ],
   "source": [
    "True or True and False"
   ]
  },
  {
   "cell_type": "markdown",
   "id": "2e4d71c1",
   "metadata": {},
   "source": [
    "Ad esempio, **and** viene valutato prima di **or**. Ecco perché la prima espressione qui sopra è True. Se l'avessimo valutata da sinistra a destra, avremmo calcolato prima **True or True** (che è True), e poi avremmo preso il e di questo risultato con False, ottenendo il valore finale di False.\n",
    "\n",
    "Si può provare a memorizzare l'ordine di precedenza, ma una scelta più sicura è quella di usare solo parentesi libere. Questo non solo aiuta a prevenire i bug, ma rende più chiare le vostre intenzioni a chiunque legga il codice.\n",
    "\n",
    "Ad esempio, si consideri la seguente espressione:"
   ]
  },
  {
   "cell_type": "markdown",
   "id": "447b0a05",
   "metadata": {},
   "source": [
    "**prepared_for_weather = have_umbrella o rain_level < 5 e have_hood o not rain_level > 0 e is_workday**\n",
    "Sto cercando di dire che sono al sicuro dal tempo di oggi....\n",
    "\n",
    "- se ho un ombrello...\n",
    "- o se la pioggia non è troppo forte e ho un cappuccio...\n",
    "- altrimenti, sono ancora al sicuro, a meno che non piova e non sia un giorno di lavoro.\n",
    "\n",
    "Ma il mio codice Python non solo è difficile da leggere, ma ha anche un bug. Possiamo risolvere entrambi i problemi aggiungendo alcune parentesi:\n",
    "\n",
    "**prepared_for_weather = have_umbrella or (rain_level < 5 and have_hood) or not (rain_level > 0 and is_workday)**\n",
    "\n",
    "È possibile aggiungere altre parentesi se si ritiene che ciò aiuti la leggibilità:\n",
    "\n",
    "**prepared_for_weather = have_umbrella or ((rain_level < 5) and have_hood) or (not (rain_level > 0 and is_workday))**\n",
    "\n",
    "Possiamo anche dividerlo su più righe per enfatizzare la struttura a tre parti descritta sopra:\n",
    "\n",
    "preparato_per_il_tempo = (\n",
    "\n",
    "    avere_ombrello \n",
    "    o ((livello_pioggia < 5) e avere_l'ombrello) \n",
    "    o (not (rain_level > 0 and is_workday))\n",
    ")"
   ]
  },
  {
   "cell_type": "markdown",
   "id": "2da509b8",
   "metadata": {},
   "source": [
    "## Condizioni"
   ]
  },
  {
   "cell_type": "markdown",
   "id": "c0056ee2",
   "metadata": {},
   "source": [
    "#### if\n",
    "I booleani sono più utili quando vengono combinati con dichiarazioni condizionali, utilizzando le parole chiave if, elif e else.\n",
    "\n",
    "Le dichiarazioni condizionali, spesso chiamate if-then, consentono di controllare quali parti di codice vengono eseguite in base al valore di una condizione booleana.\n",
    "\n",
    "Le parole chiave if e else sono spesso usate in altri linguaggi; la parola chiave più particolare è elif, contrazione di \"else if\". In queste clausole condizionali, i blocchi elif e else sono facoltativi; inoltre, è possibile includere tutti gli enunciati elif che si desidera.\n",
    "\n",
    "Si noti in particolare l'uso dei due punti (:) e degli spazi bianchi per indicare blocchi di codice separati. Ciò è simile a quanto accade quando si definisce una funzione: l'intestazione della funzione termina con : e la riga successiva è rientrata di 4 spazi. Tutte le righe rientrate successive appartengono al corpo della funzione, finché non si incontra una riga non rientrata, che conclude la definizione della funzione."
   ]
  },
  {
   "cell_type": "code",
   "execution_count": 9,
   "id": "a9b6f71f",
   "metadata": {},
   "outputs": [],
   "source": [
    "def inspect(x):\n",
    "    if x == 0:\n",
    "        print(x, \"is zero\")\n",
    "    elif x > 0:\n",
    "        print(x, \"is positive\")\n",
    "    elif x < 0:\n",
    "        print(x, \"is negative\")\n",
    "    else:\n",
    "        print(x, \"is unlike anything I've ever seen...\")"
   ]
  },
  {
   "cell_type": "code",
   "execution_count": 10,
   "id": "1a603f29",
   "metadata": {},
   "outputs": [
    {
     "name": "stdout",
     "output_type": "stream",
     "text": [
      "0 is zero\n",
      "-15 is negative\n"
     ]
    }
   ],
   "source": [
    "inspect(0)\n",
    "inspect(-15)"
   ]
  },
  {
   "cell_type": "code",
   "execution_count": 12,
   "id": "d3e59623",
   "metadata": {},
   "outputs": [],
   "source": [
    "def f(x):\n",
    "    if x > 0:\n",
    "        print(\"Only printed when x is positive; x =\", x)\n",
    "        print(\"Also only printed when x is positive; x =\", x)\n",
    "    print(\"Always printed, regardless of x's value; x =\", x)"
   ]
  },
  {
   "cell_type": "code",
   "execution_count": 13,
   "id": "abfca05a",
   "metadata": {},
   "outputs": [
    {
     "name": "stdout",
     "output_type": "stream",
     "text": [
      "Only printed when x is positive; x = 1\n",
      "Also only printed when x is positive; x = 1\n",
      "Always printed, regardless of x's value; x = 1\n",
      "Always printed, regardless of x's value; x = 0\n"
     ]
    }
   ],
   "source": [
    "f(1)\n",
    "f(0)"
   ]
  },
  {
   "cell_type": "markdown",
   "id": "6e5054b7",
   "metadata": {},
   "source": [
    "Abbiamo visto int(), che trasforma le cose in int, e float(), che trasforma le cose in float, quindi non vi sorprenderà sapere che Python ha una funzione bool() che trasforma le cose in bool."
   ]
  },
  {
   "cell_type": "code",
   "execution_count": 14,
   "id": "696db716",
   "metadata": {},
   "outputs": [
    {
     "name": "stdout",
     "output_type": "stream",
     "text": [
      "True\n",
      "False\n",
      "True\n",
      "False\n"
     ]
    }
   ],
   "source": [
    "print(bool(1)) # all numbers are treated as true, except 0\n",
    "print(bool(0))\n",
    "print(bool(\"asf\")) # all strings are treated as true, except the empty string \"\"\n",
    "print(bool(\"\"))\n",
    "# Generally empty sequences (strings, lists, and other types we've yet to see like lists and tuples)\n",
    "# are \"falsey\" and the rest are \"truthy\""
   ]
  },
  {
   "cell_type": "code",
   "execution_count": 15,
   "id": "cd25d56e",
   "metadata": {},
   "outputs": [
    {
     "name": "stdout",
     "output_type": "stream",
     "text": [
      "spam\n"
     ]
    }
   ],
   "source": [
    "if 0:\n",
    "    print(0)\n",
    "elif \"spam\":\n",
    "    print(\"spam\")"
   ]
  },
  {
   "cell_type": "markdown",
   "id": "143c5fef",
   "metadata": {},
   "source": [
    "## Esercizi"
   ]
  },
  {
   "cell_type": "code",
   "execution_count": 17,
   "id": "f09997e2",
   "metadata": {},
   "outputs": [
    {
     "name": "stdout",
     "output_type": "stream",
     "text": [
      "Setup complete.\n"
     ]
    }
   ],
   "source": [
    "from learntools.core import binder; binder.bind(globals())\n",
    "from learntools.python.ex3 import *\n",
    "print('Setup complete.')"
   ]
  },
  {
   "cell_type": "markdown",
   "id": "01544ff8",
   "metadata": {},
   "source": [
    "### Domanda 1"
   ]
  },
  {
   "cell_type": "markdown",
   "id": "d02a17dc",
   "metadata": {},
   "source": [
    "Molti linguaggi di programmazione hanno il sign come funzione incorporata. Python non ce l'ha, ma possiamo definirne una nostra!\n",
    "\n",
    "Nella cella qui sotto, definiamo una funzione chiamata **sign** che prende un argomento numerico e restituisce -1 se è negativo, 1 se è positivo e 0 se è 0."
   ]
  },
  {
   "cell_type": "code",
   "execution_count": 18,
   "id": "97cf290d",
   "metadata": {},
   "outputs": [
    {
     "data": {
      "application/javascript": [
       "parent.postMessage({\"jupyterEvent\": \"custom.exercise_interaction\", \"data\": {\"outcomeType\": 1, \"valueTowardsCompletion\": 0.2, \"interactionType\": 1, \"questionType\": 2, \"questionId\": \"1_SignFunctionProblem\", \"learnToolsVersion\": \"0.3.4\", \"failureMessage\": \"\", \"exceptionClass\": \"\", \"trace\": \"\"}}, \"*\")"
      ],
      "text/plain": [
       "<IPython.core.display.Javascript object>"
      ]
     },
     "metadata": {},
     "output_type": "display_data"
    },
    {
     "data": {
      "text/markdown": [
       "<span style=\"color:#33cc33\">Correct</span>"
      ],
      "text/plain": [
       "Correct"
      ]
     },
     "metadata": {},
     "output_type": "display_data"
    }
   ],
   "source": [
    "# Your code goes here. Define a function called 'sign'\n",
    "def sign(x):\n",
    "    if x > 0:\n",
    "        return 1\n",
    "    elif x < 0:\n",
    "        return -1\n",
    "    else:\n",
    "        return 0\n",
    "# Check your answer\n",
    "q1.check()"
   ]
  },
  {
   "cell_type": "markdown",
   "id": "1235b233",
   "metadata": {},
   "source": [
    "### Domanda 2"
   ]
  },
  {
   "cell_type": "markdown",
   "id": "9f831843",
   "metadata": {},
   "source": [
    "Abbiamo deciso di aggiungere \"logging\" alla nostra funzione to_smash dell'esercizio precedente."
   ]
  },
  {
   "cell_type": "code",
   "execution_count": 23,
   "id": "2bd97418",
   "metadata": {},
   "outputs": [
    {
     "name": "stdout",
     "output_type": "stream",
     "text": [
      "Splitting 91 candies\n"
     ]
    },
    {
     "data": {
      "text/plain": [
       "1"
      ]
     },
     "execution_count": 23,
     "metadata": {},
     "output_type": "execute_result"
    }
   ],
   "source": [
    "def to_smash(total_candies):\n",
    "    \"\"\"Return the number of leftover candies that must be smashed after distributing\n",
    "    the given number of candies evenly between 3 friends.\n",
    "    \n",
    "    >>> to_smash(91)\n",
    "    1\n",
    "    \"\"\"\n",
    "    print(\"Splitting\", total_candies, \"candies\")\n",
    "    return total_candies % 3\n",
    "\n",
    "to_smash(91)"
   ]
  },
  {
   "cell_type": "code",
   "execution_count": 24,
   "id": "048c74d8",
   "metadata": {},
   "outputs": [
    {
     "name": "stdout",
     "output_type": "stream",
     "text": [
      "Splitting 1 candies\n"
     ]
    },
    {
     "data": {
      "text/plain": [
       "1"
      ]
     },
     "execution_count": 24,
     "metadata": {},
     "output_type": "execute_result"
    }
   ],
   "source": [
    "to_smash(1)"
   ]
  },
  {
   "cell_type": "markdown",
   "id": "5fbd1ba0",
   "metadata": {},
   "source": [
    "Modificate la definizione nella cella sottostante per correggere la grammatica della nostra dichiarazione di stampa. (Se c'è una sola caramella, dovremmo usare il singolare \"caramelle\" invece del plurale \"caramelle\")."
   ]
  },
  {
   "cell_type": "code",
   "execution_count": 25,
   "id": "f6f97a27",
   "metadata": {},
   "outputs": [
    {
     "name": "stdout",
     "output_type": "stream",
     "text": [
      "Splitting 91 candies\n",
      "Splitting 1 candy\n"
     ]
    },
    {
     "data": {
      "application/javascript": [
       "parent.postMessage({\"jupyterEvent\": \"custom.exercise_interaction\", \"data\": {\"outcomeType\": 1, \"valueTowardsCompletion\": 0.2, \"interactionType\": 1, \"questionType\": 4, \"questionId\": \"2_PluralizationProblem\", \"learnToolsVersion\": \"0.3.4\", \"failureMessage\": \"\", \"exceptionClass\": \"\", \"trace\": \"\"}}, \"*\")"
      ],
      "text/plain": [
       "<IPython.core.display.Javascript object>"
      ]
     },
     "metadata": {},
     "output_type": "display_data"
    },
    {
     "data": {
      "text/markdown": [
       "<span style=\"color:#33cc33\">Correct:</span> \n",
       "\n",
       "A straightforward (and totally fine) solution is to replace the original `print` call with:\n",
       "\n",
       "```python\n",
       "if total_candies == 1:\n",
       "    print(\"Splitting 1 candy\")\n",
       "else:\n",
       "    print(\"Splitting\", total_candies, \"candies\")\n",
       "```\n",
       "\n",
       "Here's a slightly more succinct solution using a conditional expression:\n",
       "\n",
       "```python\n",
       "print(\"Splitting\", total_candies, \"candy\" if total_candies == 1 else \"candies\")\n",
       "```"
      ],
      "text/plain": [
       "Correct: \n",
       "\n",
       "A straightforward (and totally fine) solution is to replace the original `print` call with:\n",
       "\n",
       "```python\n",
       "if total_candies == 1:\n",
       "    print(\"Splitting 1 candy\")\n",
       "else:\n",
       "    print(\"Splitting\", total_candies, \"candies\")\n",
       "```\n",
       "\n",
       "Here's a slightly more succinct solution using a conditional expression:\n",
       "\n",
       "```python\n",
       "print(\"Splitting\", total_candies, \"candy\" if total_candies == 1 else \"candies\")\n",
       "```"
      ]
     },
     "metadata": {},
     "output_type": "display_data"
    }
   ],
   "source": [
    "def to_smash(total_candies):\n",
    "    \"\"\"Return the number of leftover candies that must be smashed after distributing\n",
    "    the given number of candies evenly between 3 friends.\n",
    "    \n",
    "    >>> to_smash(91)\n",
    "    1\n",
    "    \"\"\"\n",
    "    if total_candies == 1:\n",
    "        print(\"Splitting 1 candy\")\n",
    "    else:\n",
    "        print(\"Splitting\", total_candies, \"candies\")\n",
    "    return total_candies % 3\n",
    "\n",
    "to_smash(91)\n",
    "to_smash(1)\n",
    "q2.check()"
   ]
  },
  {
   "cell_type": "markdown",
   "id": "08a27bc1",
   "metadata": {},
   "source": [
    "### Domanda 3"
   ]
  },
  {
   "cell_type": "markdown",
   "id": "83fb606e",
   "metadata": {},
   "source": [
    "Nel tutorial, abbiamo parlato di decidere se siamo preparati per il tempo. Ho detto che sono al sicuro dal tempo di oggi se...\n",
    "- Ho un ombrello...\n",
    "- o se la pioggia non è troppo forte e ho il cappuccio...\n",
    "- altrimenti sto ancora bene a meno che non piova **and** sia una giornata lavorativa\n",
    "\n",
    "La funzione seguente utilizza il nostro primo tentativo di trasformare questa logica in un'espressione Python. Ho affermato che c'era un bug in quel codice. Puoi trovarlo?\n",
    "\n",
    "Per dimostrare che `prepared_for_weather` è difettoso, trova una serie di input in cui:\n",
    "- la funzione restituisce `False` (ma avrebbe dovuto restituire `True`), o\n",
    "- la funzione ha restituito `True` (ma avrebbe dovuto restituire `False`).\n",
    "\n",
    "Per ottenere credito per aver completato questa domanda, il tuo codice dovrebbe restituire un risultato <font color='#33cc33'>Corretto</font>."
   ]
  },
  {
   "cell_type": "code",
   "execution_count": 26,
   "id": "df58415d",
   "metadata": {},
   "outputs": [
    {
     "name": "stdout",
     "output_type": "stream",
     "text": [
      "False\n"
     ]
    },
    {
     "data": {
      "application/javascript": [
       "parent.postMessage({\"jupyterEvent\": \"custom.exercise_interaction\", \"data\": {\"outcomeType\": 1, \"valueTowardsCompletion\": 0.2, \"interactionType\": 1, \"questionType\": 1, \"questionId\": \"3_WeatherDebug\", \"learnToolsVersion\": \"0.3.4\", \"failureMessage\": \"\", \"exceptionClass\": \"\", \"trace\": \"\"}}, \"*\")"
      ],
      "text/plain": [
       "<IPython.core.display.Javascript object>"
      ]
     },
     "metadata": {},
     "output_type": "display_data"
    },
    {
     "data": {
      "text/markdown": [
       "<span style=\"color:#33cc33\">Correct:</span> \n",
       "\n",
       "One example of a failing test case is:\n",
       "\n",
       "```python\n",
       "have_umbrella = False\n",
       "rain_level = 0.0\n",
       "have_hood = False\n",
       "is_workday = False\n",
       "```\n",
       "\n",
       "Clearly we're prepared for the weather in this case. It's not raining. Not only that, it's not a workday, so we don't even need to leave the house! But our function will return False on these inputs.\n",
       "\n",
       "The key problem is that Python implictly parenthesizes the last part as:\n",
       "\n",
       "```python\n",
       "(not (rain_level > 0)) and is_workday\n",
       "```\n",
       "\n",
       "Whereas what we were trying to express would look more like:\n",
       "\n",
       "```python\n",
       "not (rain_level > 0 and is_workday)\n",
       "```\n"
      ],
      "text/plain": [
       "Correct: \n",
       "\n",
       "One example of a failing test case is:\n",
       "\n",
       "```python\n",
       "have_umbrella = False\n",
       "rain_level = 0.0\n",
       "have_hood = False\n",
       "is_workday = False\n",
       "```\n",
       "\n",
       "Clearly we're prepared for the weather in this case. It's not raining. Not only that, it's not a workday, so we don't even need to leave the house! But our function will return False on these inputs.\n",
       "\n",
       "The key problem is that Python implictly parenthesizes the last part as:\n",
       "\n",
       "```python\n",
       "(not (rain_level > 0)) and is_workday\n",
       "```\n",
       "\n",
       "Whereas what we were trying to express would look more like:\n",
       "\n",
       "```python\n",
       "not (rain_level > 0 and is_workday)\n",
       "```"
      ]
     },
     "metadata": {},
     "output_type": "display_data"
    }
   ],
   "source": [
    "def prepared_for_weather(have_umbrella, rain_level, have_hood, is_workday):\n",
    "    # Don't change this code. Our goal is just to find the bug, not fix it!\n",
    "    return have_umbrella or rain_level < 5 and have_hood or not rain_level > 0 and is_workday\n",
    "\n",
    "# Change the values of these inputs so they represent a case where prepared_for_weather\n",
    "# returns the wrong answer.\n",
    "have_umbrella = False\n",
    "rain_level = 0.0\n",
    "have_hood = False\n",
    "is_workday = False\n",
    "\n",
    "# Check what the function returns given the current values of the variables above\n",
    "actual = prepared_for_weather(have_umbrella, rain_level, have_hood, is_workday)\n",
    "print(actual)\n",
    "\n",
    "# Check your answer\n",
    "q3.check()"
   ]
  },
  {
   "cell_type": "markdown",
   "id": "ef8825e4",
   "metadata": {},
   "source": [
    "### Domanda 4"
   ]
  },
  {
   "cell_type": "markdown",
   "id": "6f2bc53e",
   "metadata": {},
   "source": [
    "La funzione `is_negative` qui sotto è implementata correttamente: restituisce True se il numero dato è negativo e False altrimenti.\n",
    "\n",
    "Tuttavia, è più prolissa del necessario. Possiamo ridurre il numero di righe di codice di questa funzione del *75%*, mantenendo lo stesso comportamento. \n",
    "\n",
    "Cercate di trovare un corpo equivalente che usi solo **una riga** di codice e mettetelo nella funzione `concise_is_negative`. (SUGGERIMENTO: non è nemmeno necessaria la sintassi ternaria di Python)."
   ]
  },
  {
   "cell_type": "code",
   "execution_count": 27,
   "id": "5fe94976",
   "metadata": {},
   "outputs": [
    {
     "data": {
      "application/javascript": [
       "parent.postMessage({\"jupyterEvent\": \"custom.exercise_interaction\", \"data\": {\"outcomeType\": 1, \"valueTowardsCompletion\": 0.2, \"interactionType\": 1, \"questionType\": 2, \"questionId\": \"4_ConciseIsNegative\", \"learnToolsVersion\": \"0.3.4\", \"failureMessage\": \"\", \"exceptionClass\": \"\", \"trace\": \"\"}}, \"*\")"
      ],
      "text/plain": [
       "<IPython.core.display.Javascript object>"
      ]
     },
     "metadata": {},
     "output_type": "display_data"
    },
    {
     "data": {
      "text/markdown": [
       "<span style=\"color:#33cc33\">Correct</span>"
      ],
      "text/plain": [
       "Correct"
      ]
     },
     "metadata": {},
     "output_type": "display_data"
    }
   ],
   "source": [
    "def is_negative(number):\n",
    "    if number < 0:\n",
    "        return True\n",
    "    else:\n",
    "        return False\n",
    "\n",
    "def concise_is_negative(number):\n",
    "    return number < 0\n",
    "\n",
    "# Check your answer\n",
    "q4.check()"
   ]
  },
  {
   "cell_type": "markdown",
   "id": "47e0bec8",
   "metadata": {},
   "source": [
    "### Domanda 5"
   ]
  },
  {
   "cell_type": "markdown",
   "id": "12b6eebf",
   "metadata": {},
   "source": [
    "Le variabili booleane ketchup, mustard e onion rappresentano se un cliente vuole un particolare condimento sul suo hot dog. Vogliamo implementare una serie di funzioni booleane che corrispondono ad alcune domande \"sì o no\" sull'ordine del cliente. Ad esempio:"
   ]
  },
  {
   "cell_type": "code",
   "execution_count": 28,
   "id": "2b4d642b",
   "metadata": {},
   "outputs": [],
   "source": [
    "def onionless(ketchup, mustard, onion):\n",
    "    \"\"\"Return whether the customer doesn't want onions.\n",
    "    \"\"\"\n",
    "    return not onion"
   ]
  },
  {
   "cell_type": "code",
   "execution_count": 29,
   "id": "fddaa36f",
   "metadata": {},
   "outputs": [
    {
     "data": {
      "application/javascript": [
       "parent.postMessage({\"jupyterEvent\": \"custom.exercise_interaction\", \"data\": {\"outcomeType\": 1, \"valueTowardsCompletion\": 0.2, \"interactionType\": 1, \"questionType\": 2, \"questionId\": \"5.1_AllToppings\", \"learnToolsVersion\": \"0.3.4\", \"failureMessage\": \"\", \"exceptionClass\": \"\", \"trace\": \"\"}}, \"*\")"
      ],
      "text/plain": [
       "<IPython.core.display.Javascript object>"
      ]
     },
     "metadata": {},
     "output_type": "display_data"
    },
    {
     "data": {
      "text/markdown": [
       "<span style=\"color:#33cc33\">Correct</span>"
      ],
      "text/plain": [
       "Correct"
      ]
     },
     "metadata": {},
     "output_type": "display_data"
    }
   ],
   "source": [
    "def wants_all_toppings(ketchup, mustard, onion):\n",
    "    \"\"\"Return whether the customer wants \"the works\" (all 3 toppings)\n",
    "    \"\"\"\n",
    "    return ketchup and mustard and onion\n",
    "\n",
    "# Check your answer\n",
    "q5.a.check()"
   ]
  },
  {
   "cell_type": "markdown",
   "id": "bc250e20",
   "metadata": {},
   "source": [
    "Per la funzione successiva, compilare il corpo in modo che corrisponda alla descrizione in inglese della docstring. "
   ]
  },
  {
   "cell_type": "code",
   "execution_count": 30,
   "id": "34fc88ac",
   "metadata": {},
   "outputs": [
    {
     "data": {
      "application/javascript": [
       "parent.postMessage({\"jupyterEvent\": \"custom.exercise_interaction\", \"data\": {\"outcomeType\": 1, \"valueTowardsCompletion\": 0.2, \"interactionType\": 1, \"questionType\": 2, \"questionId\": \"5.2_PlainDog\", \"learnToolsVersion\": \"0.3.4\", \"failureMessage\": \"\", \"exceptionClass\": \"\", \"trace\": \"\"}}, \"*\")"
      ],
      "text/plain": [
       "<IPython.core.display.Javascript object>"
      ]
     },
     "metadata": {},
     "output_type": "display_data"
    },
    {
     "data": {
      "text/markdown": [
       "<span style=\"color:#33cc33\">Correct:</span> \n",
       "\n",
       "One solution looks like:\n",
       "```python\n",
       "return not ketchup and not mustard and not onion\n",
       "```\n",
       "\n",
       "We can also [\"factor out\" the nots](https://en.wikipedia.org/wiki/De_Morgan%27s_laws) to get:\n",
       "\n",
       "```python\n",
       "return not (ketchup or mustard or onion)\n",
       "```"
      ],
      "text/plain": [
       "Correct: \n",
       "\n",
       "One solution looks like:\n",
       "```python\n",
       "return not ketchup and not mustard and not onion\n",
       "```\n",
       "\n",
       "We can also [\"factor out\" the nots](https://en.wikipedia.org/wiki/De_Morgan%27s_laws) to get:\n",
       "\n",
       "```python\n",
       "return not (ketchup or mustard or onion)\n",
       "```"
      ]
     },
     "metadata": {},
     "output_type": "display_data"
    }
   ],
   "source": [
    "def wants_plain_hotdog(ketchup, mustard, onion):\n",
    "    \"\"\"Return whether the customer wants a plain hot dog with no toppings.\n",
    "    \"\"\"\n",
    "    return not ketchup and not mustard and not onion\n",
    "\n",
    "# Check your answer\n",
    "q5.b.check()"
   ]
  },
  {
   "cell_type": "markdown",
   "id": "e0a5919f",
   "metadata": {},
   "source": [
    "Sapete cosa fare: per la prossima funzione, compilate il corpo in modo che corrisponda alla descrizione in inglese della docstring."
   ]
  },
  {
   "cell_type": "code",
   "execution_count": 31,
   "id": "b1235353",
   "metadata": {},
   "outputs": [
    {
     "data": {
      "application/javascript": [
       "parent.postMessage({\"jupyterEvent\": \"custom.exercise_interaction\", \"data\": {\"outcomeType\": 1, \"valueTowardsCompletion\": 0.2, \"interactionType\": 1, \"questionType\": 2, \"questionId\": \"5.3_OneSauce\", \"learnToolsVersion\": \"0.3.4\", \"failureMessage\": \"\", \"exceptionClass\": \"\", \"trace\": \"\"}}, \"*\")"
      ],
      "text/plain": [
       "<IPython.core.display.Javascript object>"
      ]
     },
     "metadata": {},
     "output_type": "display_data"
    },
    {
     "data": {
      "text/markdown": [
       "<span style=\"color:#33cc33\">Correct</span>"
      ],
      "text/plain": [
       "Correct"
      ]
     },
     "metadata": {},
     "output_type": "display_data"
    }
   ],
   "source": [
    "def exactly_one_sauce(ketchup, mustard, onion):\n",
    "    \"\"\"Return whether the customer wants either ketchup or mustard, but not both.\n",
    "    (You may be familiar with this operation under the name \"exclusive or\")\n",
    "    \"\"\"\n",
    "    return (ketchup and not mustard) or (mustard and not ketchup)\n",
    "\n",
    "# Check your answer\n",
    "q5.c.check()"
   ]
  },
  {
   "cell_type": "markdown",
   "id": "2091d245",
   "metadata": {},
   "source": [
    "### Domanda 6"
   ]
  },
  {
   "cell_type": "markdown",
   "id": "42b611fe",
   "metadata": {},
   "source": [
    "Abbiamo visto che la chiamata bool() su un intero restituisce False se è uguale a 0 e True altrimenti. Cosa succede se chiamiamo int() su un bool? Provatelo nella cella del blocco note qui sotto.\n",
    "\n",
    "Potete approfittarne per scrivere una funzione sintetica che corrisponda alla frase inglese \"il cliente vuole esattamente un topping?\"?"
   ]
  },
  {
   "cell_type": "code",
   "execution_count": 32,
   "id": "f704d604",
   "metadata": {},
   "outputs": [
    {
     "data": {
      "application/javascript": [
       "parent.postMessage({\"jupyterEvent\": \"custom.exercise_interaction\", \"data\": {\"outcomeType\": 1, \"valueTowardsCompletion\": 0.2, \"interactionType\": 1, \"questionType\": 2, \"questionId\": \"6_OneTopping\", \"learnToolsVersion\": \"0.3.4\", \"failureMessage\": \"\", \"exceptionClass\": \"\", \"trace\": \"\"}}, \"*\")"
      ],
      "text/plain": [
       "<IPython.core.display.Javascript object>"
      ]
     },
     "metadata": {},
     "output_type": "display_data"
    },
    {
     "data": {
      "text/markdown": [
       "<span style=\"color:#33cc33\">Correct:</span> \n",
       "\n",
       "This condition would be pretty complicated to express using just `and`, `or` and `not`, but using boolean-to-integer conversion gives us this short solution:\n",
       "```python\n",
       "return (int(ketchup) + int(mustard) + int(onion)) == 1\n",
       "```\n",
       "\n",
       "Fun fact: we don't technically need to call `int` on the arguments. Just by doing addition with booleans, Python implicitly does the integer conversion. So we could also write...\n",
       "\n",
       "```python\n",
       "return (ketchup + mustard + onion) == 1\n",
       "```"
      ],
      "text/plain": [
       "Correct: \n",
       "\n",
       "This condition would be pretty complicated to express using just `and`, `or` and `not`, but using boolean-to-integer conversion gives us this short solution:\n",
       "```python\n",
       "return (int(ketchup) + int(mustard) + int(onion)) == 1\n",
       "```\n",
       "\n",
       "Fun fact: we don't technically need to call `int` on the arguments. Just by doing addition with booleans, Python implicitly does the integer conversion. So we could also write...\n",
       "\n",
       "```python\n",
       "return (ketchup + mustard + onion) == 1\n",
       "```"
      ]
     },
     "metadata": {},
     "output_type": "display_data"
    }
   ],
   "source": [
    "def exactly_one_topping(ketchup, mustard, onion):\n",
    "    \"\"\"Return whether the customer wants exactly one of the three available toppings\n",
    "    on their hot dog.\n",
    "    \"\"\"\n",
    "    return (int(ketchup) + int(mustard) + int(onion)) == 1\n",
    "\n",
    "# Check your answer\n",
    "q6.check()"
   ]
  },
  {
   "cell_type": "markdown",
   "id": "03f27a5b",
   "metadata": {},
   "source": [
    "### Domanda 7"
   ]
  },
  {
   "cell_type": "markdown",
   "id": "d1369f5d",
   "metadata": {},
   "source": [
    "In questo problema lavoreremo con una versione semplificata del [blackjack](https://en.wikipedia.org/wiki/Blackjack) (alias ventuno). In questa versione c'è un giocatore (che controllerete voi) e un mazziere. Il gioco procede come segue:\n",
    "\n",
    "- Al giocatore vengono distribuite due carte scoperte. Al mazziere viene distribuita una carta scoperta.\n",
    "- Il giocatore può chiedere che gli venga distribuita un'altra carta (\"hit\") tutte le volte che vuole. Se la somma delle sue carte supera il 21, perde immediatamente il round.\n",
    "- Il mazziere distribuisce altre carte a se stesso fino a quando:\n",
    "    - la somma delle carte del mazziere supera il 21, nel qual caso il giocatore vince il round\n",
    "    - la somma delle carte del mazziere sia maggiore o uguale a 17. Se il totale del giocatore è superiore a quello del banco, il giocatore vince. Altrimenti, vince il banco (anche in caso di pareggio).\n",
    "    \n",
    "Quando si calcola la somma delle carte, il Fante, la Regina e il Re contano per 10. Gli Assi possono contare per 1 o 11. Gli assi possono contare come 1 o 11 (quando ci si riferisce al \"totale\" di un giocatore, si intende il totale più grande che può essere fatto senza superare il 21. Quindi, ad esempio, A+8). Quindi, ad esempio, A+8 = 19, A+8+8 = 17).\n",
    "\n",
    "Per questo problema, dovrete scrivere una funzione che rappresenti la strategia decisionale del giocatore in questo gioco. Di seguito riportiamo un'implementazione poco intelligente:"
   ]
  },
  {
   "cell_type": "code",
   "execution_count": 41,
   "id": "e7533d0b",
   "metadata": {},
   "outputs": [],
   "source": [
    "def should_hit(dealer_total, player_total, player_low_aces, player_high_aces):\n",
    "    \"\"\"Return True if the player should hit (request another card) given the current game\n",
    "    state, or False if the player should stay.\n",
    "    When calculating a hand's total value, we count aces as \"high\" (with value 11) if doing so\n",
    "    doesn't bring the total above 21, otherwise we count them as low (with value 1). \n",
    "    For example, if the player's hand is {A, A, A, 7}, we will count it as 11 + 1 + 1 + 7,\n",
    "    and therefore set player_total=20, player_low_aces=2, player_high_aces=1.\n",
    "    \"\"\"\n",
    "    return False"
   ]
  },
  {
   "cell_type": "markdown",
   "id": "5d8a63e1",
   "metadata": {},
   "source": [
    "Questo agente molto conservatore si attiene sempre alla mano di due carte che gli viene distribuita.\n",
    "\n",
    "Simuleremo una partita tra il vostro agente giocatore e il nostro agente mazziere, richiamando la vostra funzione.\n",
    "\n",
    "Provate a eseguire la funzione qui sotto per vedere un esempio di gioco simulato:"
   ]
  },
  {
   "cell_type": "code",
   "execution_count": 42,
   "id": "80e03594",
   "metadata": {},
   "outputs": [
    {
     "name": "stdout",
     "output_type": "stream",
     "text": [
      "Player starts with A and K (total = 21)\n",
      "Dealer starts with Q\n",
      "\n",
      "__Player's turn__\n",
      "Player stays\n",
      "\n",
      "__Dealer's turn__\n",
      "Dealer hits and receives 7. (total = 17)\n",
      "Dealer stands.\n",
      "Player wins. 21 > 17\n"
     ]
    }
   ],
   "source": [
    "q7.simulate_one_game()"
   ]
  },
  {
   "cell_type": "code",
   "execution_count": 44,
   "id": "6dcc52a5",
   "metadata": {},
   "outputs": [
    {
     "name": "stdout",
     "output_type": "stream",
     "text": [
      "Player won 18940 out of 50000 games (win rate = 37.9%)\n"
     ]
    }
   ],
   "source": [
    "q7.simulate(n_games=50000)"
   ]
  },
  {
   "cell_type": "markdown",
   "id": "a4319bd1",
   "metadata": {},
   "source": [
    "Il nostro agente stupido che ignora completamente lo stato del gioco riesce comunque a vincere con una frequenza impressionante!\n",
    "\n",
    "Provate ad aggiungere un po' di intelligenza alla funzione should_hit e vedete come influisce sui risultati."
   ]
  },
  {
   "cell_type": "code",
   "execution_count": 45,
   "id": "93f60ddc",
   "metadata": {},
   "outputs": [
    {
     "name": "stdout",
     "output_type": "stream",
     "text": [
      "Player won 0 out of 50000 games (win rate = 0.0%)\n"
     ]
    }
   ],
   "source": [
    "def should_hit(dealer_total, player_total, player_low_aces, player_high_aces):\n",
    "    \"\"\"Return True if the player should hit (request another card) given the current game\n",
    "    state, or False if the player should stay.\n",
    "    When calculating a hand's total value, we count aces as \"high\" (with value 11) if doing so\n",
    "    doesn't bring the total above 21, otherwise we count them as low (with value 1). \n",
    "    For example, if the player's hand is {A, A, A, 7}, we will count it as 11 + 1 + 1 + 7,\n",
    "    and therefore set player_total=20, player_low_aces=2, player_high_aces=1.\n",
    "    \"\"\"\n",
    "    return True\n",
    "\n",
    "q7.simulate(n_games=50000)"
   ]
  }
 ],
 "metadata": {
  "kernelspec": {
   "display_name": "Python 3 (ipykernel)",
   "language": "python",
   "name": "python3"
  },
  "language_info": {
   "codemirror_mode": {
    "name": "ipython",
    "version": 3
   },
   "file_extension": ".py",
   "mimetype": "text/x-python",
   "name": "python",
   "nbconvert_exporter": "python",
   "pygments_lexer": "ipython3",
   "version": "3.9.7"
  }
 },
 "nbformat": 4,
 "nbformat_minor": 5
}
