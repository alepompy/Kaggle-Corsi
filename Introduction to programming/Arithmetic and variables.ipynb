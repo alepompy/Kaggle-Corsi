{
 "cells": [
  {
   "cell_type": "markdown",
   "id": "308b2cc4",
   "metadata": {},
   "source": [
    "### Printing"
   ]
  },
  {
   "cell_type": "markdown",
   "id": "4365eb6e",
   "metadata": {},
   "source": [
    "Una delle operazioni più semplici (e più importanti!) che si possono chiedere a un computer è quella di stampare un messaggio.\n",
    "\n",
    "\n",
    "In Python, chiediamo al computer di stampare un messaggio per noi scrivendo print() e mettendo il messaggio tra parentesi e tra virgolette. Di seguito, chiediamo al computer di stampare il messaggio."
   ]
  },
  {
   "cell_type": "code",
   "execution_count": 1,
   "id": "5e487916",
   "metadata": {},
   "outputs": [
    {
     "name": "stdout",
     "output_type": "stream",
     "text": [
      "Hello, world!\n"
     ]
    }
   ],
   "source": [
    "print(\"Hello, world!\")"
   ]
  },
  {
   "cell_type": "markdown",
   "id": "98cdd4c3",
   "metadata": {},
   "source": [
    "Il codice si trova all'interno della casella (detta cella di codice) e la risposta del computer (detta output del codice) è mostrata sotto la casella. Come si può vedere, il computer ha stampato il messaggio desiderato."
   ]
  },
  {
   "cell_type": "markdown",
   "id": "73995eb3",
   "metadata": {},
   "source": [
    "### Aritmetica"
   ]
  },
  {
   "cell_type": "markdown",
   "id": "68a52537",
   "metadata": {},
   "source": [
    "Si può anche stampare il valore di un'operazione aritmetica (come addizione, sottrazione, moltiplicazione o divisione).\n",
    "\n",
    "Ad esempio, nella cella di codice successiva, il computer somma 2 a 1 e stampa il risultato, che è 3. Si noti che, a differenza di quando si stampava semplicemente del testo, non si usano le virgolette."
   ]
  },
  {
   "cell_type": "code",
   "execution_count": 2,
   "id": "9ce0754a",
   "metadata": {},
   "outputs": [
    {
     "name": "stdout",
     "output_type": "stream",
     "text": [
      "3\n"
     ]
    }
   ],
   "source": [
    "print(1 + 2)"
   ]
  },
  {
   "cell_type": "code",
   "execution_count": 3,
   "id": "843afb7f",
   "metadata": {},
   "outputs": [
    {
     "name": "stdout",
     "output_type": "stream",
     "text": [
      "4\n"
     ]
    }
   ],
   "source": [
    "print(9 - 5)"
   ]
  },
  {
   "cell_type": "markdown",
   "id": "fbaf50e2",
   "metadata": {},
   "source": [
    "Con python si possono fare molti calcoli! Vedere la tabella sottostante per alcuni esempi."
   ]
  },
  {
   "attachments": {
    "image.png": {
     "image/png": "[encoded data removed]"
    }
   },
   "cell_type": "markdown",
   "id": "225fe507",
   "metadata": {},
   "source": [
    "![image.png](attachment:image.png)"
   ]
  },
  {
   "cell_type": "markdown",
   "id": "3600ca0d",
   "metadata": {},
   "source": [
    "È possibile controllare l'ordine delle operazioni nei calcoli lunghi con le parentesi."
   ]
  },
  {
   "cell_type": "markdown",
   "id": "37f82efc",
   "metadata": {},
   "source": [
    "### Commenti"
   ]
  },
  {
   "cell_type": "markdown",
   "id": "73fef3f5",
   "metadata": {},
   "source": [
    "Usiamo i commenti per annotare ciò che fa il codice. Aiutano gli altri a capire il codice e possono anche essere utili se non si guarda il proprio codice da un po' di tempo. Finora il codice che abbiamo scritto è molto breve, ma le annotazioni diventano più importanti quando si scrive molto codice.\n",
    "\n",
    "Per esempio, nella prossima cella di codice, moltiplichiamo 3 per 2. Aggiungiamo anche un commento (# Moltiplica 3 per 2) sopra il codice per descrivere ciò che il codice sta facendo.\n"
   ]
  },
  {
   "cell_type": "code",
   "execution_count": 4,
   "id": "62c874d5",
   "metadata": {},
   "outputs": [
    {
     "name": "stdout",
     "output_type": "stream",
     "text": [
      "6\n"
     ]
    }
   ],
   "source": [
    "# Multiply 3 by 2\n",
    "print(3 * 2)"
   ]
  },
  {
   "cell_type": "markdown",
   "id": "f05c0e89",
   "metadata": {},
   "source": [
    "Per indicare a Python che una riga è un commento (e non codice Python), è necessario scrivere un segno di cancelletto (#) come primo carattere.\n",
    "\n",
    "Una volta che Python vede il segno di cancelletto e riconosce che la riga è un commento, viene completamente ignorata dal computer. Questo è importante, perché proprio come l'inglese o l'hindi (o qualsiasi altra lingua!), Python è un linguaggio con regole molto rigide che devono essere seguite. Python, però, è più severo di un ascoltatore umano e darà un errore se non riesce a capire il codice."
   ]
  },
  {
   "cell_type": "markdown",
   "id": "14918bae",
   "metadata": {},
   "source": [
    "### Variabili"
   ]
  },
  {
   "cell_type": "markdown",
   "id": "2d81c687",
   "metadata": {},
   "source": [
    "Finora si è utilizzato il codice per eseguire un calcolo e stampare il risultato, che non è stato salvato da nessuna parte. Tuttavia, si può immaginare di voler salvare il risultato per lavorarci in seguito. A tale scopo, è necessario utilizzare delle variabili.\n",
    "\n",
    "La prossima cella di codice crea una variabile denominata test_var e le assegna il valore che otteniamo sommando 5 a 4.\n",
    "\n",
    "Si stampa quindi il valore assegnato alla variabile, che è 9."
   ]
  },
  {
   "cell_type": "code",
   "execution_count": 5,
   "id": "7e7d1fbb",
   "metadata": {},
   "outputs": [
    {
     "name": "stdout",
     "output_type": "stream",
     "text": [
      "9\n"
     ]
    }
   ],
   "source": [
    "# Create a variable called test_var and give it a value of 4+5\n",
    "test_var = 4 + 5\n",
    "\n",
    "# Print the value of test_var\n",
    "print(test_var)"
   ]
  },
  {
   "cell_type": "markdown",
   "id": "a073ea68",
   "metadata": {},
   "source": [
    "In generale, per lavorare con una variabile, è necessario iniziare a selezionare il nome che si desidera utilizzare. I nomi delle variabili sono idealmente brevi e descrittivi. Devono inoltre soddisfare diversi requisiti:\n",
    "\n",
    "1. Non possono contenere spazi (ad esempio, test var non è consentito)\n",
    "2. Possono includere solo lettere, numeri e trattini bassi (ad esempio, test_var! non è consentito).\n",
    "3. Devono iniziare con una lettera o un trattino basso (ad esempio, 1_var non è consentito).\n",
    "Quindi, per creare la variabile, è necessario usare = per assegnare il valore che si vuole che abbia.\n",
    "\n",
    "È sempre possibile dare un'occhiata al valore assegnato alla variabile utilizzando print() e mettendo il nome della variabile tra parentesi.\n",
    "\n",
    "Con il tempo, imparerete a scegliere i nomi giusti per le variabili Python. Non c'è nulla di male se ora non ci si sente a proprio agio, e il modo migliore per imparare è proprio quello di vedere un sacco di codice Python!"
   ]
  },
  {
   "cell_type": "markdown",
   "id": "cdcfb05c",
   "metadata": {},
   "source": [
    "È sempre possibile modificare il valore assegnato a una variabile sovrascrivendo il valore precedente.\n",
    "\n",
    "Nella cella di codice qui sotto, cambiamo il valore di my_var da 3 a 100."
   ]
  },
  {
   "cell_type": "code",
   "execution_count": 6,
   "id": "649ec5f9",
   "metadata": {},
   "outputs": [
    {
     "name": "stdout",
     "output_type": "stream",
     "text": [
      "3\n",
      "100\n"
     ]
    }
   ],
   "source": [
    "# Set the value of a new variable to 3\n",
    "my_var = 3\n",
    "\n",
    "# Print the value assigned to my_var\n",
    "print(my_var)\n",
    "\n",
    "# Change the value of the variable to 100\n",
    "my_var = 100\n",
    "\n",
    "# Print the new value assigned to my_var\n",
    "print(my_var)"
   ]
  },
  {
   "cell_type": "markdown",
   "id": "c717b47e",
   "metadata": {},
   "source": [
    "In generale, quando si definisce una variabile in una cella di codice, anche tutte le celle di codice successive hanno accesso alla variabile. Per esempio, utilizziamo la cella di codice successiva per accedere ai valori di my_var (dalla cella di codice precedente) e test_var (dalla cella precedente di questa esercitazione)."
   ]
  },
  {
   "cell_type": "code",
   "execution_count": 7,
   "id": "94ffdf11",
   "metadata": {},
   "outputs": [
    {
     "name": "stdout",
     "output_type": "stream",
     "text": [
      "100\n",
      "9\n"
     ]
    }
   ],
   "source": [
    "print(my_var)\n",
    "print(test_var)"
   ]
  },
  {
   "cell_type": "markdown",
   "id": "065a2980",
   "metadata": {},
   "source": [
    "La cella di codice successiva indica a Python di aumentare di 3 il valore attuale di my_var.\n",
    "\n",
    "Per farlo, dobbiamo ancora usare my_var = come prima. E come prima, il nuovo valore che vogliamo assegnare alla variabile si trova a destra del segno =."
   ]
  },
  {
   "cell_type": "code",
   "execution_count": 8,
   "id": "682c80a4",
   "metadata": {},
   "outputs": [
    {
     "name": "stdout",
     "output_type": "stream",
     "text": [
      "103\n"
     ]
    }
   ],
   "source": [
    "# Increase the value by 3\n",
    "my_var = my_var + 3\n",
    "\n",
    "# Print the value assigned to my_var\n",
    "print(my_var)"
   ]
  },
  {
   "cell_type": "markdown",
   "id": "880f38f2",
   "metadata": {},
   "source": [
    "It's common for code to use multiple variables. This is especially useful when we have to do a long calculation with multiple inputs.\n",
    "\n",
    "In the next code cell, we calculate the number of seconds in four years. This calculation uses five inputs."
   ]
  },
  {
   "cell_type": "code",
   "execution_count": 9,
   "id": "d5090869",
   "metadata": {},
   "outputs": [
    {
     "name": "stdout",
     "output_type": "stream",
     "text": [
      "126144000\n"
     ]
    }
   ],
   "source": [
    "# Create variables\n",
    "num_years = 4\n",
    "days_per_year = 365 \n",
    "hours_per_day = 24\n",
    "mins_per_hour = 60\n",
    "secs_per_min = 60\n",
    "\n",
    "# Calculate number of seconds in four years\n",
    "total_secs = secs_per_min * mins_per_hour * hours_per_day * days_per_year * num_years\n",
    "print(total_secs)"
   ]
  },
  {
   "cell_type": "markdown",
   "id": "799af7d8",
   "metadata": {},
   "source": [
    "Come calcolato sopra, ci sono 126144000 secondi in quattro anni.\n",
    "\n",
    "Si noti che è possibile eseguire questo calcolo senza variabili, semplicemente 60 * 60 * 24 * 365 * 4, ma è molto più difficile verificare che il calcolo senza variabili non abbia qualche errore, perché non è così leggibile. Quando si utilizzano le variabili (come num_anni, giorni_per_anno, ecc.), è possibile tenere traccia di ogni parte del calcolo e verificare e correggere più facilmente eventuali errori.\n",
    "\n",
    "È particolarmente utile utilizzare le variabili quando i valori degli input possono cambiare. Ad esempio, se vogliamo migliorare leggermente la nostra stima aggiornando il valore del numero di giorni in un anno da 365 a 365,25, per tenere conto degli anni bisestili. In questo caso possiamo cambiare il valore assegnato a giorni_per_anno senza modificare nessuna delle altre variabili e rifare il calcolo."
   ]
  },
  {
   "cell_type": "code",
   "execution_count": 10,
   "id": "d4dafc8e",
   "metadata": {},
   "outputs": [
    {
     "name": "stdout",
     "output_type": "stream",
     "text": [
      "126230400.0\n"
     ]
    }
   ],
   "source": [
    "# Update to include leap years\n",
    "days_per_year = 365.25\n",
    "\n",
    "# Calculate number of seconds in four years\n",
    "total_secs = secs_per_min * mins_per_hour * hours_per_day * days_per_year * num_years\n",
    "print(total_secs)"
   ]
  },
  {
   "cell_type": "markdown",
   "id": "f4f68c34",
   "metadata": {},
   "source": [
    "Potreste aver notato lo 0 aggiunto alla fine del numero, che potrebbe sembrare superfluo. Ciò è dovuto al fatto che nel secondo calcolo abbiamo utilizzato un numero con una parte frazionaria (365,25), mentre nel primo calcolo abbiamo moltiplicato solo numeri senza parte frazionaria. Per saperne di più, si veda la Lezione 3, quando si parlerà dei tipi di dati."
   ]
  },
  {
   "cell_type": "markdown",
   "id": "082b44d3",
   "metadata": {},
   "source": [
    "### Debug"
   ]
  },
  {
   "cell_type": "markdown",
   "id": "5f621f26",
   "metadata": {},
   "source": [
    "Un errore comune quando si lavora con le variabili è quello di introdurre accidentalmente degli errori di battitura. Per esempio, se scriviamo hours_per_day as hours_per_dy, Python darà un errore con il messaggio NameError: name 'hours_per_dy' is not defined."
   ]
  },
  {
   "cell_type": "markdown",
   "id": "2e225235",
   "metadata": {},
   "source": [
    "Quando si vede un NameError di questo tipo, è un'indicazione che indica che è necessario controllare l'ortografia della variabile a cui si fa riferimento come \"non definita\". Quindi, per correggere l'errore, è sufficiente correggere l'ortografia."
   ]
  },
  {
   "cell_type": "code",
   "execution_count": 11,
   "id": "3183234d",
   "metadata": {},
   "outputs": [
    {
     "name": "stdout",
     "output_type": "stream",
     "text": [
      "24\n"
     ]
    }
   ],
   "source": [
    "print(hours_per_day)"
   ]
  },
  {
   "cell_type": "markdown",
   "id": "128a3069",
   "metadata": {},
   "source": [
    "## Esercizi"
   ]
  },
  {
   "cell_type": "code",
   "execution_count": 12,
   "id": "2aa79728",
   "metadata": {},
   "outputs": [
    {
     "name": "stdout",
     "output_type": "stream",
     "text": [
      "Setup complete.\n"
     ]
    }
   ],
   "source": [
    "# Set up the exercise\n",
    "from learntools.core import binder\n",
    "binder.bind(globals())\n",
    "from learntools.intro_to_programming.ex1 import *\n",
    "print('Setup complete.')"
   ]
  },
  {
   "cell_type": "markdown",
   "id": "50a93151",
   "metadata": {},
   "source": [
    "Il codice qui sopra imposta il blocco note in modo che possa verificare le risposte fornite in questo esercizio. Non si deve mai modificare questo codice. (Altrimenti, il blocco note non sarà in grado di verificare che l'esercizio sia stato completato correttamente)."
   ]
  },
  {
   "cell_type": "markdown",
   "id": "908d1b44",
   "metadata": {},
   "source": [
    "Mettere nelle librerie (collegamento: **E:\\Users\\Alessio\\anaconda3\\Lib\\site-packages**) la cartella interessata (in questo caso **learntools** che sta dentro **learnstools-master**) e rimuove **python** e **ml_insights,**  da **__init.py python file**"
   ]
  },
  {
   "cell_type": "markdown",
   "id": "ac75e8d1",
   "metadata": {},
   "source": [
    "### Domanda 1\n",
    "Successivamente, si eseguirà del codice tratto dall'esercitazione, in modo da poterne verificare il funzionamento in prima persona. Eseguite la prossima cella di codice senza modifiche."
   ]
  },
  {
   "cell_type": "code",
   "execution_count": 14,
   "id": "00bcdffb",
   "metadata": {},
   "outputs": [
    {
     "name": "stdout",
     "output_type": "stream",
     "text": [
      "Hello, world!\n"
     ]
    },
    {
     "data": {
      "application/javascript": [
       "parent.postMessage({\"jupyterEvent\": \"custom.exercise_interaction\", \"data\": {\"outcomeType\": 1, \"valueTowardsCompletion\": 0.2, \"interactionType\": 1, \"questionType\": 2, \"questionId\": \"1_RunHelloWorld\", \"learnToolsVersion\": \"0.3.4\", \"failureMessage\": \"\", \"exceptionClass\": \"\", \"trace\": \"\"}}, \"*\")"
      ],
      "text/plain": [
       "<IPython.core.display.Javascript object>"
      ]
     },
     "metadata": {},
     "output_type": "display_data"
    },
    {
     "data": {
      "text/markdown": [
       "<span style=\"color:#33cc33\">If you see 'Hello, world!' above, You have successfully printed a message, and you're ready to move on to the next question.</span>"
      ],
      "text/plain": [
       "If you see 'Hello, world!' above, You have successfully printed a message, and you're ready to move on to the next question."
      ]
     },
     "metadata": {},
     "output_type": "display_data"
    }
   ],
   "source": [
    "print(\"Hello, world!\")\n",
    "\n",
    "# DO NOT REMOVE: Mark this question as completed\n",
    "q1.check() # controlla la risposta. Non si deve mai modificare questo codice di controllo; \n",
    "                    # se lo si rimuove, non si ottiene il credito per aver completato il problema."
   ]
  },
  {
   "cell_type": "markdown",
   "id": "83c589de",
   "metadata": {},
   "source": [
    "### Domanda 2\n",
    "Ora si stamperà un altro messaggio a scelta. "
   ]
  },
  {
   "cell_type": "code",
   "execution_count": 15,
   "id": "7902e36e",
   "metadata": {},
   "outputs": [
    {
     "name": "stdout",
     "output_type": "stream",
     "text": [
      "Nuovo messaggio\n"
     ]
    },
    {
     "data": {
      "application/javascript": [
       "parent.postMessage({\"jupyterEvent\": \"custom.exercise_interaction\", \"data\": {\"outcomeType\": 1, \"valueTowardsCompletion\": 0.2, \"interactionType\": 1, \"questionType\": 2, \"questionId\": \"2_PrintAnotherMsg\", \"learnToolsVersion\": \"0.3.4\", \"failureMessage\": \"\", \"exceptionClass\": \"\", \"trace\": \"\"}}, \"*\")"
      ],
      "text/plain": [
       "<IPython.core.display.Javascript object>"
      ]
     },
     "metadata": {},
     "output_type": "display_data"
    },
    {
     "data": {
      "text/markdown": [
       "<span style=\"color:#33cc33\">Once you have printed your own message, you're ready to move on to the next question.</span>"
      ],
      "text/plain": [
       "Once you have printed your own message, you're ready to move on to the next question."
      ]
     },
     "metadata": {},
     "output_type": "display_data"
    }
   ],
   "source": [
    "# TODO: Change the message\n",
    "print(\"Nuovo messaggio\")\n",
    "\n",
    "# DO NOT REMOVE: Mark this question as completed \n",
    "q2.check()"
   ]
  },
  {
   "cell_type": "markdown",
   "id": "4314f601",
   "metadata": {},
   "source": [
    "### Domanda 3\n",
    "Decommentare due righe nella cella di codice sottostante e visualizzare l'output:\n",
    "\n",
    "Rimuovete il # davanti a q3.hint(). Per evitare errori, NON rimuovete il # davanti a # Uncomment to view hint.\n",
    "Successivamente, rimuovere il # davanti a q3.solution().\n",
    "Come nelle domande precedenti, non modificate la riga di codice finale che indica il completamento del lavoro."
   ]
  },
  {
   "cell_type": "code",
   "execution_count": 16,
   "id": "489fb37d",
   "metadata": {},
   "outputs": [
    {
     "data": {
      "application/javascript": [
       "parent.postMessage({\"jupyterEvent\": \"custom.exercise_interaction\", \"data\": {\"interactionType\": 2, \"questionType\": 2, \"questionId\": \"3_LearnCheckingCode\", \"learnToolsVersion\": \"0.3.4\", \"valueTowardsCompletion\": 0.0, \"failureMessage\": \"\", \"exceptionClass\": \"\", \"trace\": \"\", \"outcomeType\": 4}}, \"*\")"
      ],
      "text/plain": [
       "<IPython.core.display.Javascript object>"
      ]
     },
     "metadata": {},
     "output_type": "display_data"
    },
    {
     "data": {
      "text/markdown": [
       "<span style=\"color:#3366cc\">Hint:</span> If you're ever stuck on a question, it's a good idea to look at the hint before viewing the solution."
      ],
      "text/plain": [
       "Hint: If you're ever stuck on a question, it's a good idea to look at the hint before viewing the solution."
      ]
     },
     "metadata": {},
     "output_type": "display_data"
    },
    {
     "data": {
      "application/javascript": [
       "parent.postMessage({\"jupyterEvent\": \"custom.exercise_interaction\", \"data\": {\"interactionType\": 3, \"questionType\": 2, \"questionId\": \"3_LearnCheckingCode\", \"learnToolsVersion\": \"0.3.4\", \"valueTowardsCompletion\": 0.0, \"failureMessage\": \"\", \"exceptionClass\": \"\", \"trace\": \"\", \"outcomeType\": 4}}, \"*\")"
      ],
      "text/plain": [
       "<IPython.core.display.Javascript object>"
      ]
     },
     "metadata": {},
     "output_type": "display_data"
    },
    {
     "data": {
      "text/markdown": [
       "<span style=\"color:#33cc99\">Solution:</span> If you're still stuck on a question after viewing the hint and re-reading the tutorial, you can view the solution.  You can also view the solution after you have successfully submitted your own answer, to check if the official solution is any different (there may be more than one right answer!)."
      ],
      "text/plain": [
       "Solution: If you're still stuck on a question after viewing the hint and re-reading the tutorial, you can view the solution.  You can also view the solution after you have successfully submitted your own answer, to check if the official solution is any different (there may be more than one right answer!)."
      ]
     },
     "metadata": {},
     "output_type": "display_data"
    },
    {
     "data": {
      "application/javascript": [
       "parent.postMessage({\"jupyterEvent\": \"custom.exercise_interaction\", \"data\": {\"outcomeType\": 1, \"valueTowardsCompletion\": 0.2, \"interactionType\": 1, \"questionType\": 2, \"questionId\": \"3_LearnCheckingCode\", \"learnToolsVersion\": \"0.3.4\", \"failureMessage\": \"\", \"exceptionClass\": \"\", \"trace\": \"\"}}, \"*\")"
      ],
      "text/plain": [
       "<IPython.core.display.Javascript object>"
      ]
     },
     "metadata": {},
     "output_type": "display_data"
    },
    {
     "data": {
      "text/markdown": [
       "<span style=\"color:#33cc33\">Once you have printed the hint and the solution, you're ready to move on to the next question.</span>"
      ],
      "text/plain": [
       "Once you have printed the hint and the solution, you're ready to move on to the next question."
      ]
     },
     "metadata": {},
     "output_type": "display_data"
    }
   ],
   "source": [
    "# Uncomment to get a hint\n",
    "q3.hint()\n",
    "\n",
    "# Uncomment to view solution\n",
    "q3.solution()\n",
    "\n",
    "# DO NOT REMOVE: Check your answer\n",
    "q3.check()"
   ]
  },
  {
   "cell_type": "markdown",
   "id": "2ad2beef",
   "metadata": {},
   "source": [
    "### Domanda 4"
   ]
  },
  {
   "cell_type": "code",
   "execution_count": 17,
   "id": "7b5067e6",
   "metadata": {},
   "outputs": [
    {
     "name": "stdout",
     "output_type": "stream",
     "text": [
      "126144000\n"
     ]
    }
   ],
   "source": [
    "# Create variables\n",
    "num_years = 4\n",
    "days_per_year = 365 \n",
    "hours_per_day = 24\n",
    "mins_per_hour = 60\n",
    "secs_per_min = 60\n",
    "\n",
    "# Calculate number of seconds in four years\n",
    "total_secs = secs_per_min * mins_per_hour * hours_per_day * days_per_year * num_years\n",
    "print(total_secs)"
   ]
  },
  {
   "cell_type": "markdown",
   "id": "3ffb0239",
   "metadata": {},
   "source": [
    "Definite una variabile births_per_min e impostatela a 250. (In media nascono 250 bambini al minuto).\n",
    "\n",
    "Definire una variabile births_per_day che contenga il numero medio di bambini nati ogni giorno. (Per impostare il valore di questa variabile, dovrete usare births_per_min e alcune delle variabili della cella di codice precedente)."
   ]
  },
  {
   "cell_type": "code",
   "execution_count": 18,
   "id": "3f0e66a5",
   "metadata": {},
   "outputs": [
    {
     "data": {
      "application/javascript": [
       "parent.postMessage({\"jupyterEvent\": \"custom.exercise_interaction\", \"data\": {\"outcomeType\": 1, \"valueTowardsCompletion\": 0.2, \"interactionType\": 1, \"questionType\": 1, \"questionId\": \"4_BirthsPerYear\", \"learnToolsVersion\": \"0.3.4\", \"failureMessage\": \"\", \"exceptionClass\": \"\", \"trace\": \"\"}}, \"*\")"
      ],
      "text/plain": [
       "<IPython.core.display.Javascript object>"
      ]
     },
     "metadata": {},
     "output_type": "display_data"
    },
    {
     "data": {
      "text/markdown": [
       "<span style=\"color:#33cc33\">Correct</span>"
      ],
      "text/plain": [
       "Correct"
      ]
     },
     "metadata": {},
     "output_type": "display_data"
    }
   ],
   "source": [
    "# TODO: Set the value of the births_per_min variable\n",
    "births_per_min = 250\n",
    "\n",
    "# TODO: Set the value of the births_per_day variable\n",
    "births_per_day = 250*60*24 # 60 minuti e 24 ore\n",
    "\n",
    "# DO NOT REMOVE: Check your answer\n",
    "q4.check()"
   ]
  },
  {
   "cell_type": "markdown",
   "id": "0e8103ec",
   "metadata": {},
   "source": [
    "### Domanda 5"
   ]
  },
  {
   "cell_type": "markdown",
   "id": "0942353d",
   "metadata": {},
   "source": [
    "I dati hanno una riga diversa per ogni passeggero.\n",
    "\n",
    "La cella di codice successiva definisce e stampa i valori di tre variabili:\n",
    "\n",
    "totale = numero totale di passeggeri che si sono imbarcati sulla nave\n",
    "sopravvissuti = numero di passeggeri sopravvissuti al naufragio\n",
    "minori = numero di passeggeri di età inferiore ai 18 anni."
   ]
  },
  {
   "cell_type": "code",
   "execution_count": 19,
   "id": "378fa91a",
   "metadata": {},
   "outputs": [
    {
     "data": {
      "text/html": [
       "<div>\n",
       "<style scoped>\n",
       "    .dataframe tbody tr th:only-of-type {\n",
       "        vertical-align: middle;\n",
       "    }\n",
       "\n",
       "    .dataframe tbody tr th {\n",
       "        vertical-align: top;\n",
       "    }\n",
       "\n",
       "    .dataframe thead th {\n",
       "        text-align: right;\n",
       "    }\n",
       "</style>\n",
       "<table border=\"1\" class=\"dataframe\">\n",
       "  <thead>\n",
       "    <tr style=\"text-align: right;\">\n",
       "      <th></th>\n",
       "      <th>PassengerId</th>\n",
       "      <th>Survived</th>\n",
       "      <th>Pclass</th>\n",
       "      <th>Name</th>\n",
       "      <th>Sex</th>\n",
       "      <th>Age</th>\n",
       "      <th>SibSp</th>\n",
       "      <th>Parch</th>\n",
       "      <th>Ticket</th>\n",
       "      <th>Fare</th>\n",
       "      <th>Cabin</th>\n",
       "      <th>Embarked</th>\n",
       "    </tr>\n",
       "  </thead>\n",
       "  <tbody>\n",
       "    <tr>\n",
       "      <th>0</th>\n",
       "      <td>1</td>\n",
       "      <td>0</td>\n",
       "      <td>3</td>\n",
       "      <td>Braund, Mr. Owen Harris</td>\n",
       "      <td>male</td>\n",
       "      <td>22.0</td>\n",
       "      <td>1</td>\n",
       "      <td>0</td>\n",
       "      <td>A/5 21171</td>\n",
       "      <td>7.2500</td>\n",
       "      <td>NaN</td>\n",
       "      <td>S</td>\n",
       "    </tr>\n",
       "    <tr>\n",
       "      <th>1</th>\n",
       "      <td>2</td>\n",
       "      <td>1</td>\n",
       "      <td>1</td>\n",
       "      <td>Cumings, Mrs. John Bradley (Florence Briggs Th...</td>\n",
       "      <td>female</td>\n",
       "      <td>38.0</td>\n",
       "      <td>1</td>\n",
       "      <td>0</td>\n",
       "      <td>PC 17599</td>\n",
       "      <td>71.2833</td>\n",
       "      <td>C85</td>\n",
       "      <td>C</td>\n",
       "    </tr>\n",
       "    <tr>\n",
       "      <th>2</th>\n",
       "      <td>3</td>\n",
       "      <td>1</td>\n",
       "      <td>3</td>\n",
       "      <td>Heikkinen, Miss. Laina</td>\n",
       "      <td>female</td>\n",
       "      <td>26.0</td>\n",
       "      <td>0</td>\n",
       "      <td>0</td>\n",
       "      <td>STON/O2. 3101282</td>\n",
       "      <td>7.9250</td>\n",
       "      <td>NaN</td>\n",
       "      <td>S</td>\n",
       "    </tr>\n",
       "    <tr>\n",
       "      <th>3</th>\n",
       "      <td>4</td>\n",
       "      <td>1</td>\n",
       "      <td>1</td>\n",
       "      <td>Futrelle, Mrs. Jacques Heath (Lily May Peel)</td>\n",
       "      <td>female</td>\n",
       "      <td>35.0</td>\n",
       "      <td>1</td>\n",
       "      <td>0</td>\n",
       "      <td>113803</td>\n",
       "      <td>53.1000</td>\n",
       "      <td>C123</td>\n",
       "      <td>S</td>\n",
       "    </tr>\n",
       "    <tr>\n",
       "      <th>4</th>\n",
       "      <td>5</td>\n",
       "      <td>0</td>\n",
       "      <td>3</td>\n",
       "      <td>Allen, Mr. William Henry</td>\n",
       "      <td>male</td>\n",
       "      <td>35.0</td>\n",
       "      <td>0</td>\n",
       "      <td>0</td>\n",
       "      <td>373450</td>\n",
       "      <td>8.0500</td>\n",
       "      <td>NaN</td>\n",
       "      <td>S</td>\n",
       "    </tr>\n",
       "  </tbody>\n",
       "</table>\n",
       "</div>"
      ],
      "text/plain": [
       "   PassengerId  Survived  Pclass  \\\n",
       "0            1         0       3   \n",
       "1            2         1       1   \n",
       "2            3         1       3   \n",
       "3            4         1       1   \n",
       "4            5         0       3   \n",
       "\n",
       "                                                Name     Sex   Age  SibSp  \\\n",
       "0                            Braund, Mr. Owen Harris    male  22.0      1   \n",
       "1  Cumings, Mrs. John Bradley (Florence Briggs Th...  female  38.0      1   \n",
       "2                             Heikkinen, Miss. Laina  female  26.0      0   \n",
       "3       Futrelle, Mrs. Jacques Heath (Lily May Peel)  female  35.0      1   \n",
       "4                           Allen, Mr. William Henry    male  35.0      0   \n",
       "\n",
       "   Parch            Ticket     Fare Cabin Embarked  \n",
       "0      0         A/5 21171   7.2500   NaN        S  \n",
       "1      0          PC 17599  71.2833   C85        C  \n",
       "2      0  STON/O2. 3101282   7.9250   NaN        S  \n",
       "3      0            113803  53.1000  C123        S  \n",
       "4      0            373450   8.0500   NaN        S  "
      ]
     },
     "execution_count": 19,
     "metadata": {},
     "output_type": "execute_result"
    }
   ],
   "source": [
    "# Load the data from the titanic competition\n",
    "import pandas as pd\n",
    "titanic_data = pd.read_csv(\"D:/Users/Alessio/OneDrive/Python/Kaggle/Introduction to programming/train.csv\")\n",
    "\n",
    "# Show the first five rows of the data\n",
    "titanic_data.head()"
   ]
  },
  {
   "cell_type": "code",
   "execution_count": 21,
   "id": "2ffc14d0",
   "metadata": {},
   "outputs": [
    {
     "name": "stdout",
     "output_type": "stream",
     "text": [
      "passeggeri totali =  891\n",
      "passeggeri sopravvissuti =  342\n",
      "passeggeri minorenni =  113\n"
     ]
    }
   ],
   "source": [
    "# Number of total passengers\n",
    "total = len(titanic_data)\n",
    "print('passeggeri totali = ', total)\n",
    "\n",
    "# Number of passengers who survived\n",
    "survived = (titanic_data.Survived == 1).sum()\n",
    "print('passeggeri sopravvissuti = ', survived)\n",
    "\n",
    "# Number of passengers under 18\n",
    "minors = (titanic_data.Age < 18).sum()\n",
    "print('passeggeri minorenni = ', minors)"
   ]
  },
  {
   "cell_type": "markdown",
   "id": "b72f6335",
   "metadata": {},
   "source": [
    "survived_fraction deve essere impostata come la frazione di passeggeri sopravvissuti al disastro del Titanic.\n",
    "\n",
    "minors_fraction deve essere la frazione di passeggeri minorenni (di età inferiore ai 18 anni).\n",
    "\n",
    "Per ciascuna variabile, la risposta deve essere un numero compreso tra 0 e 1."
   ]
  },
  {
   "cell_type": "code",
   "execution_count": 22,
   "id": "cc5c9eba",
   "metadata": {},
   "outputs": [
    {
     "name": "stdout",
     "output_type": "stream",
     "text": [
      "0.3838383838383838\n",
      "0.12682379349046016\n"
     ]
    },
    {
     "data": {
      "application/javascript": [
       "parent.postMessage({\"jupyterEvent\": \"custom.exercise_interaction\", \"data\": {\"outcomeType\": 1, \"valueTowardsCompletion\": 0.2, \"interactionType\": 1, \"questionType\": 1, \"questionId\": \"5_BonusTitanic\", \"learnToolsVersion\": \"0.3.4\", \"failureMessage\": \"\", \"exceptionClass\": \"\", \"trace\": \"\"}}, \"*\")"
      ],
      "text/plain": [
       "<IPython.core.display.Javascript object>"
      ]
     },
     "metadata": {},
     "output_type": "display_data"
    },
    {
     "data": {
      "text/markdown": [
       "<span style=\"color:#33cc33\">Correct</span>"
      ],
      "text/plain": [
       "Correct"
      ]
     },
     "metadata": {},
     "output_type": "display_data"
    }
   ],
   "source": [
    "# TODO: Fill in the value of the survived_fraction variable\n",
    "survived_fraction = survived/total \n",
    "\n",
    "# Print the value of the variable\n",
    "print(survived_fraction)\n",
    "\n",
    "# TODO: Fill in the value of the minors_fraction variable\n",
    "minors_fraction = minors/total \n",
    "\n",
    "# Print the value of the variable\n",
    "print(minors_fraction)\n",
    "\n",
    "# DO NOT REMOVE: Check your answer\n",
    "q5.check()"
   ]
  },
  {
   "cell_type": "code",
   "execution_count": null,
   "id": "ea95268a",
   "metadata": {},
   "outputs": [],
   "source": []
  }
 ],
 "metadata": {
  "kernelspec": {
   "display_name": "Python 3 (ipykernel)",
   "language": "python",
   "name": "python3"
  },
  "language_info": {
   "codemirror_mode": {
    "name": "ipython",
    "version": 3
   },
   "file_extension": ".py",
   "mimetype": "text/x-python",
   "name": "python",
   "nbconvert_exporter": "python",
   "pygments_lexer": "ipython3",
   "version": "3.9.7"
  }
 },
 "nbformat": 4,
 "nbformat_minor": 5
}
