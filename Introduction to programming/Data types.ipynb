{
 "cells": [
  {
   "cell_type": "markdown",
   "id": "f878991e",
   "metadata": {},
   "source": [
    "### Types"
   ]
  },
  {
   "cell_type": "markdown",
   "id": "f430007f",
   "metadata": {},
   "source": [
    "Ogni volta che si crea una variabile in Python, questa ha un valore con un tipo di dati corrispondente. Esistono molti tipi di dati diversi, come interi, float, booleani e stringhe, che tratteremo in questa lezione. (Questo è solo un piccolo sottoinsieme dei tipi di dati disponibili: esistono anche dizionari, insiemi, liste, tuple e molto altro).\n",
    "\n",
    "I tipi di dati sono importanti perché determinano il tipo di azioni che si possono compiere con essi. Per esempio, si possono dividere due numeri float, ma non si possono dividere due stringhe. Ad esempio, 12,0/2,0 ha senso, ma \"gatto\"/\"cane\" no.\n",
    "\n",
    "Per evitare errori, dobbiamo assicurarci che le azioni corrispondano ai tipi di dati che abbiamo."
   ]
  },
  {
   "cell_type": "markdown",
   "id": "1e1184c8",
   "metadata": {},
   "source": [
    "**Interi**\n",
    "\n",
    "Gli interi sono numeri senza parti frazionarie e possono essere positivi (1, 2, 3, ...), negativi (-1, -2, -3, ...) o zero (0).\n",
    "\n",
    "Nella cella di codice sottostante, impostiamo una variabile x su un numero intero. Verifichiamo quindi il tipo di dato con type() e dobbiamo solo passare il nome della variabile tra le parentesi."
   ]
  },
  {
   "cell_type": "code",
   "execution_count": 1,
   "id": "73635dd6",
   "metadata": {},
   "outputs": [
    {
     "name": "stdout",
     "output_type": "stream",
     "text": [
      "14\n",
      "<class 'int'>\n"
     ]
    }
   ],
   "source": [
    "x = 14\n",
    "print(x)\n",
    "print(type(x))"
   ]
  },
  {
   "cell_type": "markdown",
   "id": "06e30c56",
   "metadata": {},
   "source": [
    "**Float**\n",
    "\n",
    "I float sono numeri con parti frazionarie. Possono avere molti numeri dopo il decimale."
   ]
  },
  {
   "cell_type": "code",
   "execution_count": 2,
   "id": "2c4fde48",
   "metadata": {},
   "outputs": [
    {
     "name": "stdout",
     "output_type": "stream",
     "text": [
      "3.141592653589793\n",
      "<class 'float'>\n"
     ]
    }
   ],
   "source": [
    "nearly_pi = 3.141592653589793238462643383279502884197169399375105820974944\n",
    "print(nearly_pi)\n",
    "print(type(nearly_pi))"
   ]
  },
  {
   "cell_type": "code",
   "execution_count": 3,
   "id": "627dbb1c",
   "metadata": {},
   "outputs": [
    {
     "name": "stdout",
     "output_type": "stream",
     "text": [
      "3.142857142857143\n",
      "<class 'float'>\n"
     ]
    }
   ],
   "source": [
    "almost_pi = 22/7\n",
    "print(almost_pi)\n",
    "print(type(almost_pi))"
   ]
  },
  {
   "cell_type": "markdown",
   "id": "3664c787",
   "metadata": {},
   "source": [
    "Una funzione particolarmente utile per le frazioni è la funzione round(). Consente di arrotondare un numero a un numero specifico di cifre decimali."
   ]
  },
  {
   "cell_type": "code",
   "execution_count": 4,
   "id": "a6c7167f",
   "metadata": {},
   "outputs": [
    {
     "name": "stdout",
     "output_type": "stream",
     "text": [
      "3.14286\n",
      "<class 'float'>\n"
     ]
    }
   ],
   "source": [
    "# Round to 5 decimal places\n",
    "rounded_pi = round(almost_pi, 5)\n",
    "print(rounded_pi)\n",
    "print(type(rounded_pi))"
   ]
  },
  {
   "cell_type": "markdown",
   "id": "6ea19430",
   "metadata": {},
   "source": [
    "Ogni volta che si scrive un numero con un punto decimale, Python lo riconosce come un tipo di dati float.\n",
    "\n",
    "Ad esempio, 1. (o 1.0, 1.00, ecc.) viene riconosciuto come un float. Questo avviene anche se questi numeri tecnicamente non hanno una parte frazionaria!"
   ]
  },
  {
   "cell_type": "code",
   "execution_count": 5,
   "id": "b1ea5c0f",
   "metadata": {},
   "outputs": [
    {
     "name": "stdout",
     "output_type": "stream",
     "text": [
      "1.0\n",
      "<class 'float'>\n"
     ]
    }
   ],
   "source": [
    "y_float = 1.\n",
    "print(y_float)\n",
    "print(type(y_float))"
   ]
  },
  {
   "cell_type": "markdown",
   "id": "f08bc86d",
   "metadata": {},
   "source": [
    "**Booleans**\n",
    "I booleani rappresentano uno dei due valori: True o False. Nella cella di codice sottostante, z_one è impostato su un booleano con valore True."
   ]
  },
  {
   "cell_type": "code",
   "execution_count": 6,
   "id": "268c3445",
   "metadata": {},
   "outputs": [
    {
     "name": "stdout",
     "output_type": "stream",
     "text": [
      "True\n",
      "<class 'bool'>\n"
     ]
    }
   ],
   "source": [
    "z_one = True\n",
    "print(z_one)\n",
    "print(type(z_one))"
   ]
  },
  {
   "cell_type": "code",
   "execution_count": 7,
   "id": "9e44650a",
   "metadata": {},
   "outputs": [
    {
     "name": "stdout",
     "output_type": "stream",
     "text": [
      "False\n",
      "<class 'bool'>\n"
     ]
    }
   ],
   "source": [
    "z_two = False\n",
    "print(z_two)\n",
    "print(type(z_two))"
   ]
  },
  {
   "cell_type": "code",
   "execution_count": 8,
   "id": "f78e91b5",
   "metadata": {},
   "outputs": [
    {
     "name": "stdout",
     "output_type": "stream",
     "text": [
      "True\n",
      "<class 'bool'>\n"
     ]
    }
   ],
   "source": [
    "z_three = (1 < 2)\n",
    "print(z_three)\n",
    "print(type(z_three))"
   ]
  },
  {
   "cell_type": "code",
   "execution_count": 9,
   "id": "94d0723f",
   "metadata": {},
   "outputs": [
    {
     "name": "stdout",
     "output_type": "stream",
     "text": [
      "False\n",
      "<class 'bool'>\n"
     ]
    }
   ],
   "source": [
    "z_four = (5 < 3)\n",
    "print(z_four)\n",
    "print(type(z_four))"
   ]
  },
  {
   "cell_type": "code",
   "execution_count": 10,
   "id": "153b96f3",
   "metadata": {},
   "outputs": [
    {
     "name": "stdout",
     "output_type": "stream",
     "text": [
      "True\n",
      "<class 'bool'>\n"
     ]
    }
   ],
   "source": [
    "z_five = not z_four\n",
    "print(z_five)\n",
    "print(type(z_five))"
   ]
  },
  {
   "cell_type": "markdown",
   "id": "4c2861ef",
   "metadata": {},
   "source": [
    "**Stringhe**\n",
    "\n",
    "Il tipo di dati stringa è un insieme di caratteri (come lettere dell'alfabeto, punteggiatura, cifre numeriche o simboli) contenuti tra virgolette. Le stringhe sono comunemente utilizzate per rappresentare il testo."
   ]
  },
  {
   "cell_type": "code",
   "execution_count": 11,
   "id": "49afec53",
   "metadata": {},
   "outputs": [
    {
     "name": "stdout",
     "output_type": "stream",
     "text": [
      "Hello, Python!\n",
      "<class 'str'>\n"
     ]
    }
   ],
   "source": [
    "w = \"Hello, Python!\"\n",
    "print(w)\n",
    "print(type(w))"
   ]
  },
  {
   "cell_type": "markdown",
   "id": "24ab878a",
   "metadata": {},
   "source": [
    "È possibile ottenere la lunghezza di una stringa con len(). \"Hello, Python!\" ha lunghezza 14, perché ha 14 caratteri, compresi lo spazio, la virgola e il punto esclamativo. Si noti che le virgolette non sono incluse nel calcolo della lunghezza."
   ]
  },
  {
   "cell_type": "code",
   "execution_count": 12,
   "id": "09c2cc51",
   "metadata": {},
   "outputs": [
    {
     "name": "stdout",
     "output_type": "stream",
     "text": [
      "14\n"
     ]
    }
   ],
   "source": [
    "print(len(w))"
   ]
  },
  {
   "cell_type": "code",
   "execution_count": 13,
   "id": "be519315",
   "metadata": {},
   "outputs": [
    {
     "name": "stdout",
     "output_type": "stream",
     "text": [
      "<class 'str'>\n",
      "0\n"
     ]
    }
   ],
   "source": [
    "shortest_string = \"\"\n",
    "print(type(shortest_string))\n",
    "print(len(shortest_string))"
   ]
  },
  {
   "cell_type": "code",
   "execution_count": 14,
   "id": "1aa76aea",
   "metadata": {},
   "outputs": [
    {
     "name": "stdout",
     "output_type": "stream",
     "text": [
      "1.12321\n",
      "<class 'str'>\n"
     ]
    }
   ],
   "source": [
    "my_number = \"1.12321\"\n",
    "print(my_number)\n",
    "print(type(my_number))"
   ]
  },
  {
   "cell_type": "markdown",
   "id": "4771bac7",
   "metadata": {},
   "source": [
    "Se abbiamo una stringa convertibile in un float, possiamo usare float().\n",
    "\n",
    "Questo non funziona sempre! Ad esempio, possiamo convertire \"10,43430\" e \"3\" in float, ma non possiamo convertire \"Hello, Python!\" in un float."
   ]
  },
  {
   "cell_type": "code",
   "execution_count": 18,
   "id": "67ac01c6",
   "metadata": {},
   "outputs": [
    {
     "name": "stdout",
     "output_type": "stream",
     "text": [
      "1.12321\n",
      "<class 'float'>\n"
     ]
    }
   ],
   "source": [
    "# da stringa a float\n",
    "also_my_number = float(my_number) # float()\n",
    "print(also_my_number)\n",
    "print(type(also_my_number))"
   ]
  },
  {
   "cell_type": "code",
   "execution_count": 19,
   "id": "39eff247",
   "metadata": {},
   "outputs": [
    {
     "name": "stdout",
     "output_type": "stream",
     "text": [
      "abcdef\n",
      "<class 'str'>\n"
     ]
    }
   ],
   "source": [
    "# unione di stringhe\n",
    "new_string = \"abc\" + \"def\"\n",
    "print(new_string)\n",
    "print(type(new_string))"
   ]
  },
  {
   "cell_type": "markdown",
   "id": "e67f13fd",
   "metadata": {},
   "source": [
    "Si noti che non è possibile eseguire sottrazioni o divisioni con due stringhe. Non è nemmeno possibile moltiplicare due stringhe, ma è possibile moltiplicare una stringa per un numero intero. Anche in questo caso si ottiene una stringa che è solo la stringa originale concatenata con se stessa un numero specifico di volte."
   ]
  },
  {
   "cell_type": "code",
   "execution_count": 22,
   "id": "722bc43c",
   "metadata": {},
   "outputs": [
    {
     "name": "stdout",
     "output_type": "stream",
     "text": [
      "abcabcabc\n",
      "<class 'str'>\n"
     ]
    }
   ],
   "source": [
    "# moltiplicazione di una stringa\n",
    "newest_string = \"abc\" * 3 # solo interi\n",
    "print(newest_string)\n",
    "print(type(newest_string))"
   ]
  },
  {
   "cell_type": "markdown",
   "id": "7f56be4c",
   "metadata": {},
   "source": [
    "Si noti che non è possibile moltiplicare una stringa per un float! Il tentativo di farlo restituisce un errore."
   ]
  },
  {
   "cell_type": "markdown",
   "id": "a9c3f08f",
   "metadata": {},
   "source": [
    "### Esercizi"
   ]
  },
  {
   "cell_type": "code",
   "execution_count": 23,
   "id": "44aca4ba",
   "metadata": {},
   "outputs": [
    {
     "name": "stdout",
     "output_type": "stream",
     "text": [
      "Setup complete.\n"
     ]
    }
   ],
   "source": [
    "# Set up the exercise\n",
    "from learntools.core import binder\n",
    "binder.bind(globals())\n",
    "from learntools.intro_to_programming.ex3 import *\n",
    "print('Setup complete.')"
   ]
  },
  {
   "cell_type": "markdown",
   "id": "1767b43b",
   "metadata": {},
   "source": [
    "### Domanda 1"
   ]
  },
  {
   "cell_type": "code",
   "execution_count": 29,
   "id": "d1262074",
   "metadata": {},
   "outputs": [
    {
     "name": "stdout",
     "output_type": "stream",
     "text": [
      "1.0\n",
      "<class 'float'>\n",
      "1\n",
      "<class 'int'>\n"
     ]
    }
   ],
   "source": [
    "# Define a float\n",
    "y = 1.\n",
    "print(y)\n",
    "print(type(y))\n",
    "\n",
    "# Convert float to integer with the int function\n",
    "z = int(y)\n",
    "print(z)\n",
    "print(type(z))"
   ]
  },
  {
   "cell_type": "markdown",
   "id": "71d25e84",
   "metadata": {},
   "source": [
    "In questo caso, il float che si sta utilizzando non ha numeri dopo il decimale.  \n",
    "- Ma cosa succede quando si cerca di convertire un float con una parte frazionaria in un numero intero?  \n",
    "- Come cambia il risultato della funzione `int' per i numeri positivi e negativi?\n",
    "\n",
    "Utilizzate la prossima cella di codice per indagare e rispondere a queste domande. "
   ]
  },
  {
   "cell_type": "code",
   "execution_count": 32,
   "id": "75ea414a",
   "metadata": {},
   "outputs": [
    {
     "name": "stdout",
     "output_type": "stream",
     "text": [
      "1\n",
      "1\n",
      "-3\n",
      "-2\n"
     ]
    },
    {
     "data": {
      "application/javascript": [
       "parent.postMessage({\"jupyterEvent\": \"custom.exercise_interaction\", \"data\": {\"outcomeType\": 1, \"valueTowardsCompletion\": 0.2, \"interactionType\": 1, \"questionType\": 4, \"questionId\": \"1_FloatToInt\", \"learnToolsVersion\": \"0.3.4\", \"failureMessage\": \"\", \"exceptionClass\": \"\", \"trace\": \"\"}}, \"*\")"
      ],
      "text/plain": [
       "<IPython.core.display.Javascript object>"
      ]
     },
     "metadata": {},
     "output_type": "display_data"
    },
    {
     "data": {
      "text/markdown": [
       "<span style=\"color:#33cc33\">Correct:</span> \n",
       "\n",
       "Negative floats are always rounded UP to the closest integer (for instance, both -1.1 and -1.9 are rounded up to -1). Positive floats are always rounded DOWN to the closest integer (for instance, 2.1 and 2.9 are rounded down to 2)."
      ],
      "text/plain": [
       "Correct: \n",
       "\n",
       "Negative floats are always rounded UP to the closest integer (for instance, both -1.1 and -1.9 are rounded up to -1). Positive floats are always rounded DOWN to the closest integer (for instance, 2.1 and 2.9 are rounded down to 2)."
      ]
     },
     "metadata": {},
     "output_type": "display_data"
    }
   ],
   "source": [
    "# Uncomment and run this code to get started!\n",
    "print(int(1.2321))\n",
    "print(int(1.747)) # va al più piccolo\n",
    "print(int(-3.94535)) # va al più grande\n",
    "print(int(-2.19774))\n",
    "\n",
    "# Check your answer (Run this code cell to receive credit!)\n",
    "q1.check()"
   ]
  },
  {
   "cell_type": "markdown",
   "id": "ce1ee69b",
   "metadata": {},
   "source": [
    "### Domanda 2"
   ]
  },
  {
   "cell_type": "markdown",
   "id": "a2d83f08",
   "metadata": {},
   "source": [
    "- Cosa succede quando si moltiplica un intero o un float per True? Cosa succede quando li si moltiplica per Falso? Come cambia la risposta se i numeri sono positivi o negativi?\n",
    "- Cosa succede quando si moltiplica una stringa per True? Per Falso?"
   ]
  },
  {
   "cell_type": "code",
   "execution_count": 34,
   "id": "b4229e25",
   "metadata": {},
   "outputs": [
    {
     "name": "stdout",
     "output_type": "stream",
     "text": [
      "3\n",
      "-3.1\n",
      "<class 'str'>\n",
      "0\n"
     ]
    },
    {
     "data": {
      "application/javascript": [
       "parent.postMessage({\"jupyterEvent\": \"custom.exercise_interaction\", \"data\": {\"outcomeType\": 1, \"valueTowardsCompletion\": 0.2, \"interactionType\": 1, \"questionType\": 4, \"questionId\": \"2_MultiplyBooleans\", \"learnToolsVersion\": \"0.3.4\", \"failureMessage\": \"\", \"exceptionClass\": \"\", \"trace\": \"\"}}, \"*\")"
      ],
      "text/plain": [
       "<IPython.core.display.Javascript object>"
      ]
     },
     "metadata": {},
     "output_type": "display_data"
    },
    {
     "data": {
      "text/markdown": [
       "<span style=\"color:#33cc33\">Correct:</span> \n",
       "\n",
       "When you multiple an integer or float by a boolean with value `True`, it just returns that same integer or float (and is equivalent to multiplying by 1).  If you multiply an integer or float by a boolean with value `False`, it always returns 0.  This is true for both positive and negative numbers.  If you multiply a string by a boolean with value `True`, it just returns that same string.  And if you multiply a string by a boolean with value `False`, it returns an empty string (or a string with length zero)."
      ],
      "text/plain": [
       "Correct: \n",
       "\n",
       "When you multiple an integer or float by a boolean with value `True`, it just returns that same integer or float (and is equivalent to multiplying by 1).  If you multiply an integer or float by a boolean with value `False`, it always returns 0.  This is true for both positive and negative numbers.  If you multiply a string by a boolean with value `True`, it just returns that same string.  And if you multiply a string by a boolean with value `False`, it returns an empty string (or a string with length zero)."
      ]
     },
     "metadata": {},
     "output_type": "display_data"
    }
   ],
   "source": [
    "# Uncomment and run this code to get started!\n",
    "print(3 * True)\n",
    "print(-3.1 * True)\n",
    "print(type(\"abc\" * False))\n",
    "print(len(\"abc\" * False))\n",
    "\n",
    "# Check your answer (Run this code cell to receive credit!)\n",
    "q2.check()"
   ]
  },
  {
   "cell_type": "markdown",
   "id": "c2c7d731",
   "metadata": {},
   "source": [
    "### Domanda 3"
   ]
  },
  {
   "cell_type": "markdown",
   "id": "b05a1f59",
   "metadata": {},
   "source": [
    "In questa domanda, si dovrà partire dal lavoro svolto nell'esercizio precedente per scrivere una funzione che stima il valore di una casa.\n",
    "\n",
    "Utilizzate la prossima cella di codice per creare una funzione `get_expected_cost` che prende in input tre variabili:\n",
    "- `beds` = numero di camere da letto (tipo di dato float)\n",
    "- `baths` = numero di bagni (tipo di dato float)\n",
    "- `has_basement` = se la casa ha o meno un seminterrato (tipo di dati booleano).\n",
    "\n",
    "Dovrebbe restituire il costo previsto di una casa con queste caratteristiche. Si supponga che:\n",
    "- il costo previsto per una casa con 0 camere da letto, 0 bagni e senza seminterrato è di 80000, \n",
    "- ogni camera da letto aggiunge 30000 al costo previsto,\n",
    "- ogni bagno aggiunge 10000 al costo previsto e\n",
    "- un seminterrato aggiunge 40000 al costo previsto.\n",
    "\n",
    "Per esempio,\n",
    "- una casa con 1 camera da letto, 1 bagno e nessun seminterrato ha un costo previsto di 80000 + 30000 + 10000 = 120000.  Questo valore verrà calcolato con `get_expected_cost(1, 1, False)`.\n",
    "- una casa con 2 camere da letto, 1 bagno e un seminterrato ha un costo previsto di 80000 + 2*30000 + 10000 + 40000 = 190000.  Questo valore verrà calcolato con `get_expected_cost(2, 1, True)`.\n"
   ]
  },
  {
   "cell_type": "code",
   "execution_count": 35,
   "id": "38709033",
   "metadata": {},
   "outputs": [
    {
     "data": {
      "application/javascript": [
       "parent.postMessage({\"jupyterEvent\": \"custom.exercise_interaction\", \"data\": {\"outcomeType\": 1, \"valueTowardsCompletion\": 0.2, \"interactionType\": 1, \"questionType\": 2, \"questionId\": \"3_EstimateHouseValueBool\", \"learnToolsVersion\": \"0.3.4\", \"failureMessage\": \"\", \"exceptionClass\": \"\", \"trace\": \"\"}}, \"*\")"
      ],
      "text/plain": [
       "<IPython.core.display.Javascript object>"
      ]
     },
     "metadata": {},
     "output_type": "display_data"
    },
    {
     "data": {
      "text/markdown": [
       "<span style=\"color:#33cc33\">Correct</span>"
      ],
      "text/plain": [
       "Correct"
      ]
     },
     "metadata": {},
     "output_type": "display_data"
    }
   ],
   "source": [
    "# TODO: Complete the function\n",
    "def get_expected_cost(beds, baths, has_basement):\n",
    "    value = 80000 + 30000 * beds + 10000 * baths + 40000 * has_basement\n",
    "    return value\n",
    "\n",
    "# Check your answer \n",
    "q3.check()"
   ]
  },
  {
   "cell_type": "markdown",
   "id": "95c59bf6",
   "metadata": {},
   "source": [
    "### Domanda 4"
   ]
  },
  {
   "cell_type": "markdown",
   "id": "aa406bb7",
   "metadata": {},
   "source": [
    "Continuiamo a studiare l'aritmetica booleana.  Per questa domanda, il vostro compito è quello di fornire una descrizione di ciò che accade quando si sommano i booleani. "
   ]
  },
  {
   "cell_type": "code",
   "execution_count": 36,
   "id": "2fb6f16a",
   "metadata": {},
   "outputs": [
    {
     "name": "stdout",
     "output_type": "stream",
     "text": [
      "0\n",
      "1\n",
      "1\n",
      "2\n",
      "3\n"
     ]
    },
    {
     "data": {
      "application/javascript": [
       "parent.postMessage({\"jupyterEvent\": \"custom.exercise_interaction\", \"data\": {\"outcomeType\": 1, \"valueTowardsCompletion\": 0.2, \"interactionType\": 1, \"questionType\": 4, \"questionId\": \"4_AddingBooleans\", \"learnToolsVersion\": \"0.3.4\", \"failureMessage\": \"\", \"exceptionClass\": \"\", \"trace\": \"\"}}, \"*\")"
      ],
      "text/plain": [
       "<IPython.core.display.Javascript object>"
      ]
     },
     "metadata": {},
     "output_type": "display_data"
    },
    {
     "data": {
      "text/markdown": [
       "<span style=\"color:#33cc33\">Correct:</span> \n",
       "\n",
       "When you add booleans, adding `False` is equivalent to adding 0, and adding `True` is equivalent to adding 1."
      ],
      "text/plain": [
       "Correct: \n",
       "\n",
       "When you add booleans, adding `False` is equivalent to adding 0, and adding `True` is equivalent to adding 1."
      ]
     },
     "metadata": {},
     "output_type": "display_data"
    }
   ],
   "source": [
    "print(False + False)\n",
    "print(True + False)\n",
    "print(False + True)\n",
    "print(True + True)\n",
    "print(False + True + True + True)\n",
    "\n",
    "# Check your answer (Run this code cell to receive credit!)\n",
    "q4.check()"
   ]
  },
  {
   "cell_type": "markdown",
   "id": "7facc3e3",
   "metadata": {},
   "source": [
    "### Domanda 5"
   ]
  },
  {
   "cell_type": "markdown",
   "id": "16a5571d",
   "metadata": {},
   "source": [
    "Siete proprietari di un negozio online che vende anelli con incisioni personalizzate.  Offrite sia anelli placcati in oro che anelli in oro massiccio.\n",
    "- Gold plated rings hanno un costo di base di 50 dollari, con una tariffa di 7 dollari per unità incisa.  \n",
    "- Solid gold rings hanno un costo base di 100 dollari, con una tariffa di 10 dollari per unità incisa.\n",
    "- Gli spazi e la punteggiatura vengono conteggiati come unità incise.\n",
    "\n",
    "Scrivete una funzione `cost_of_progect()` che accetta due argomenti:\n",
    "- `engraving` = una stringa Python con il testo dell'incisione\n",
    "- `solid_gold` = un booleano che indica se l'anello è d'oro massiccio.\n",
    "\n",
    "Dovrebbe restituire il costo del progetto."
   ]
  },
  {
   "cell_type": "code",
   "execution_count": 37,
   "id": "7a6c5eba",
   "metadata": {},
   "outputs": [
    {
     "data": {
      "application/javascript": [
       "parent.postMessage({\"jupyterEvent\": \"custom.exercise_interaction\", \"data\": {\"outcomeType\": 1, \"valueTowardsCompletion\": 0.2, \"interactionType\": 1, \"questionType\": 2, \"questionId\": \"5_CustomEngravings\", \"learnToolsVersion\": \"0.3.4\", \"failureMessage\": \"\", \"exceptionClass\": \"\", \"trace\": \"\"}}, \"*\")"
      ],
      "text/plain": [
       "<IPython.core.display.Javascript object>"
      ]
     },
     "metadata": {},
     "output_type": "display_data"
    },
    {
     "data": {
      "text/markdown": [
       "<span style=\"color:#33cc33\">Correct</span>"
      ],
      "text/plain": [
       "Correct"
      ]
     },
     "metadata": {},
     "output_type": "display_data"
    }
   ],
   "source": [
    "def cost_of_project(engraving, solid_gold):\n",
    "    cost = solid_gold * (100 + 10 * len(engraving)) + (not solid_gold) * (50 + 7 * len(engraving))\n",
    "    return cost\n",
    "\n",
    "# Check your answer\n",
    "q5.check()"
   ]
  },
  {
   "cell_type": "code",
   "execution_count": 38,
   "id": "14623b5e",
   "metadata": {},
   "outputs": [
    {
     "name": "stdout",
     "output_type": "stream",
     "text": [
      "240\n"
     ]
    }
   ],
   "source": [
    "project_one = cost_of_project(\"Charlie+Denver\", True)\n",
    "print(project_one)"
   ]
  },
  {
   "cell_type": "code",
   "execution_count": 39,
   "id": "78a20248",
   "metadata": {},
   "outputs": [
    {
     "name": "stdout",
     "output_type": "stream",
     "text": [
      "120\n"
     ]
    }
   ],
   "source": [
    "project_two = cost_of_project(\"08/10/2000\", False)\n",
    "print(project_two)"
   ]
  }
 ],
 "metadata": {
  "kernelspec": {
   "display_name": "Python 3 (ipykernel)",
   "language": "python",
   "name": "python3"
  },
  "language_info": {
   "codemirror_mode": {
    "name": "ipython",
    "version": 3
   },
   "file_extension": ".py",
   "mimetype": "text/x-python",
   "name": "python",
   "nbconvert_exporter": "python",
   "pygments_lexer": "ipython3",
   "version": "3.9.7"
  }
 },
 "nbformat": 4,
 "nbformat_minor": 5
}
