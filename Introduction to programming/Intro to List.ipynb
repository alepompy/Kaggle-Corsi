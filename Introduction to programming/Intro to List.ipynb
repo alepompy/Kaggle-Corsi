{
 "cells": [
  {
   "cell_type": "markdown",
   "id": "202cf5e4",
   "metadata": {},
   "source": [
    "## Liste\n",
    " Rappresentare gli stessi dati in una list in Python. Per creare un list, è necessario utilizzare le parentesi quadre ([, ]) e separare ogni elemento con una virgola. Ogni elemento dell'elenco è una stringa Python, quindi ogni elemento è racchiuso tra virgolette.\n",
    " \n",
    "A prima vista, non sembra molto diverso se si rappresentano le informazioni in una stringa o in un elenco in Python. Ma come si vedrà, ci sono molte operazioni che si possono fare più facilmente con un elenco. Ad esempio, con un elenco è più facile:\n",
    "\n",
    "- ottenere un elemento in una posizione specifica (prima, seconda, terza, ecc.),\n",
    "- controllare il numero di elementi e\n",
    "- aggiungere e rimuovere elementi."
   ]
  },
  {
   "cell_type": "markdown",
   "id": "caa85139",
   "metadata": {},
   "source": [
    "**lunghezza**\n",
    "\n",
    "È possibile contare il numero di voci di qualsiasi elenco con len(), abbreviazione di \"length\". È sufficiente fornire il nome dell'elenco tra le parentesi."
   ]
  },
  {
   "cell_type": "code",
   "execution_count": 10,
   "id": "052eb4f9",
   "metadata": {},
   "outputs": [
    {
     "name": "stdout",
     "output_type": "stream",
     "text": [
      "10\n"
     ]
    }
   ],
   "source": [
    "# The list has ten entries\n",
    "flowers_list = [\"pink primrose\", \"hard-leaved pocket orchid\", \"canterbury bells\", \"sweet pea\", \"english marigold\", \"tiger lily\", \"moon orchid\", \"bird of paradise\", \"monkshood\", \"globe thistle\"]\n",
    "print(len(flowers_list))"
   ]
  },
  {
   "cell_type": "markdown",
   "id": "02ef28c4",
   "metadata": {},
   "source": [
    "**indicizzazione**\n",
    "\n",
    "Possiamo fare riferimento a qualsiasi elemento dell'elenco in base alla sua posizione nell'elenco (primo, secondo, terzo, ecc.). Questo si chiama indicizzazione.\n",
    "\n",
    "Si noti che Python utilizza un'indicizzazione basata su zero, il che significa che:\n",
    "- per estrarre la prima voce dell'elenco si usa 0,\n",
    "- per estrarre la seconda voce dell'elenco, si usa 1, e\n",
    "- per estrarre l'ultima voce dell'elenco, si usa un valore inferiore alla lunghezza dell'elenco.\n",
    "\n",
    "Nella cella di codice qui sopra, usiamo un singolo print() per stampare più elementi (sia una stringa Python (come \"Prima voce:\") che un valore dell'elenco (come fiori_elenco[0]). Per stampare più elementi in Python con un solo comando, è sufficiente separarli con una virgola."
   ]
  },
  {
   "cell_type": "code",
   "execution_count": 11,
   "id": "074b2acc",
   "metadata": {},
   "outputs": [
    {
     "name": "stdout",
     "output_type": "stream",
     "text": [
      "First entry: pink primrose\n",
      "Second entry: hard-leaved pocket orchid\n",
      "Last entry: globe thistle\n"
     ]
    }
   ],
   "source": [
    "print(\"First entry:\", flowers_list[0])\n",
    "print(\"Second entry:\", flowers_list[1])\n",
    "\n",
    "# The list has length ten, so we refer to final entry with 9\n",
    "print(\"Last entry:\", flowers_list[9])"
   ]
  },
  {
   "cell_type": "markdown",
   "id": "b0afabdd",
   "metadata": {},
   "source": [
    "**slicing**\n",
    "\n",
    "È anche possibile estrarre un segmento di un elenco (ad esempio, le prime tre voci o le ultime due voci). Questa operazione si chiama affettatura. Per esempio:\n",
    "- per estrarre le prime x voci, si usa [:x], e\n",
    "- per estrarre le ultime y voci, si usa [-y:].\n"
   ]
  },
  {
   "cell_type": "code",
   "execution_count": 12,
   "id": "14a0751b",
   "metadata": {},
   "outputs": [
    {
     "name": "stdout",
     "output_type": "stream",
     "text": [
      "First three entries: ['pink primrose', 'hard-leaved pocket orchid', 'canterbury bells']\n",
      "Final two entries: ['monkshood', 'globe thistle']\n"
     ]
    }
   ],
   "source": [
    "print(\"First three entries:\", flowers_list[:3])\n",
    "print(\"Final two entries:\", flowers_list[-2:])"
   ]
  },
  {
   "cell_type": "markdown",
   "id": "6eb6d2c1",
   "metadata": {},
   "source": [
    "**rimuovi items**\n",
    "\n",
    "Rimuovere un elemento da un elenco con .remove() e mettere tra parentesi l'elemento che si desidera rimuovere."
   ]
  },
  {
   "cell_type": "code",
   "execution_count": 13,
   "id": "fcedd7c4",
   "metadata": {},
   "outputs": [
    {
     "name": "stdout",
     "output_type": "stream",
     "text": [
      "['pink primrose', 'hard-leaved pocket orchid', 'canterbury bells', 'sweet pea', 'english marigold', 'tiger lily', 'moon orchid', 'bird of paradise', 'monkshood']\n"
     ]
    }
   ],
   "source": [
    "flowers_list.remove(\"globe thistle\")\n",
    "print(flowers_list)"
   ]
  },
  {
   "cell_type": "markdown",
   "id": "1a95c299",
   "metadata": {},
   "source": [
    "**aggiungi items**\n",
    "\n",
    "Aggiungete un elemento a un elenco con .append() e mettete tra parentesi l'elemento che volete aggiungere.Aggiungete un elemento a un elenco con .append() e mettete tra parentesi l'elemento che volete aggiungere."
   ]
  },
  {
   "cell_type": "code",
   "execution_count": 14,
   "id": "29c2f6e5",
   "metadata": {},
   "outputs": [
    {
     "name": "stdout",
     "output_type": "stream",
     "text": [
      "['pink primrose', 'hard-leaved pocket orchid', 'canterbury bells', 'sweet pea', 'english marigold', 'tiger lily', 'moon orchid', 'bird of paradise', 'monkshood', 'snapdragon']\n"
     ]
    }
   ],
   "source": [
    "flowers_list.append(\"snapdragon\")\n",
    "print(flowers_list)"
   ]
  },
  {
   "cell_type": "markdown",
   "id": "6185b817",
   "metadata": {},
   "source": [
    "Finora abbiamo lavorato solo con elenchi in cui ogni elemento dell'elenco è una stringa. Ma gli elenchi possono avere elementi di qualsiasi tipo di dati, compresi booleani, interi e float.\n",
    "\n",
    "A titolo di esempio, consideriamo le vendite di libri con copertina rigida nella prima settimana di aprile 2000 in un negozio al dettaglio."
   ]
  },
  {
   "cell_type": "code",
   "execution_count": 15,
   "id": "dfef15c7",
   "metadata": {},
   "outputs": [],
   "source": [
    "hardcover_sales = [139, 128, 172, 139, 191, 168, 170]"
   ]
  },
  {
   "cell_type": "code",
   "execution_count": 16,
   "id": "d0f28ac7",
   "metadata": {},
   "outputs": [
    {
     "name": "stdout",
     "output_type": "stream",
     "text": [
      "Length of the list: 7\n",
      "Entry at index 2: 172\n"
     ]
    }
   ],
   "source": [
    "print(\"Length of the list:\", len(hardcover_sales))\n",
    "print(\"Entry at index 2:\", hardcover_sales[2])"
   ]
  },
  {
   "cell_type": "markdown",
   "id": "de2f6918",
   "metadata": {},
   "source": [
    "Si può anche ottenere il minimo con min() e il massimo con max()"
   ]
  },
  {
   "cell_type": "code",
   "execution_count": 17,
   "id": "3cbef860",
   "metadata": {},
   "outputs": [
    {
     "name": "stdout",
     "output_type": "stream",
     "text": [
      "Minimum: 128\n",
      "Maximum: 191\n"
     ]
    }
   ],
   "source": [
    "print(\"Minimum:\", min(hardcover_sales)) # min\n",
    "print(\"Maximum:\", max(hardcover_sales))# max"
   ]
  },
  {
   "cell_type": "markdown",
   "id": "fbf5d485",
   "metadata": {},
   "source": [
    "To add every item in the list, use sum()."
   ]
  },
  {
   "cell_type": "code",
   "execution_count": 18,
   "id": "400d38c1",
   "metadata": {},
   "outputs": [
    {
     "name": "stdout",
     "output_type": "stream",
     "text": [
      "Total books sold in one week: 1107\n"
     ]
    }
   ],
   "source": [
    "print(\"Total books sold in one week:\", sum(hardcover_sales))"
   ]
  },
  {
   "cell_type": "markdown",
   "id": "1a6c8ed4",
   "metadata": {},
   "source": [
    "È possibile eseguire calcoli simili anche con fette dell'elenco. Nella cella di codice successiva, prendiamo la somma dei primi cinque giorni (sum(hardcover_sales[:5])) e poi dividiamo per cinque per ottenere il numero medio di libri venduti nei primi cinque giorni."
   ]
  },
  {
   "cell_type": "code",
   "execution_count": 19,
   "id": "c50e4b4f",
   "metadata": {},
   "outputs": [
    {
     "name": "stdout",
     "output_type": "stream",
     "text": [
      "Average books sold in first five days: 153.8\n"
     ]
    }
   ],
   "source": [
    "print(\"Average books sold in first five days:\", sum(hardcover_sales[:5])/5)"
   ]
  },
  {
   "cell_type": "markdown",
   "id": "ff0cd04f",
   "metadata": {},
   "source": [
    "## Esercizi"
   ]
  },
  {
   "cell_type": "code",
   "execution_count": 20,
   "id": "45f297d3",
   "metadata": {},
   "outputs": [
    {
     "name": "stdout",
     "output_type": "stream",
     "text": [
      "Setup complete.\n"
     ]
    }
   ],
   "source": [
    "from learntools.core import binder\n",
    "binder.bind(globals())\n",
    "from learntools.intro_to_programming.ex5 import *\n",
    "print('Setup complete.')"
   ]
  },
  {
   "cell_type": "markdown",
   "id": "fd76dc0e",
   "metadata": {},
   "source": [
    "### Domanda 1"
   ]
  },
  {
   "cell_type": "markdown",
   "id": "9afd028c",
   "metadata": {},
   "source": [
    "Si possiede un ristorante con cinque piatti, organizzati nell'elenco Python `menu` sottostante. Un giorno si decide di:\n",
    "- togliere la zuppa di fagioli (`'bean soup'') dal menu \n",
    "- aggiungere al menu l'insalata di barbabietole arrostite (`'roasted beet salad'').\n",
    "\n",
    "Implementare questa modifica all'elenco sottostante.  Durante il completamento di questo compito, \n",
    "- non modificate la riga che crea l'elenco `menu`.  \n",
    "- La risposta deve utilizzare `.remove()` e `.append()`.  "
   ]
  },
  {
   "cell_type": "code",
   "execution_count": 21,
   "id": "157a8167",
   "metadata": {},
   "outputs": [
    {
     "data": {
      "application/javascript": [
       "parent.postMessage({\"jupyterEvent\": \"custom.exercise_interaction\", \"data\": {\"outcomeType\": 1, \"valueTowardsCompletion\": 0.2, \"interactionType\": 1, \"questionType\": 2, \"questionId\": \"1_FoodMenu\", \"learnToolsVersion\": \"0.3.4\", \"failureMessage\": \"\", \"exceptionClass\": \"\", \"trace\": \"\"}}, \"*\")"
      ],
      "text/plain": [
       "<IPython.core.display.Javascript object>"
      ]
     },
     "metadata": {},
     "output_type": "display_data"
    },
    {
     "data": {
      "text/markdown": [
       "<span style=\"color:#33cc33\">Correct</span>"
      ],
      "text/plain": [
       "Correct"
      ]
     },
     "metadata": {},
     "output_type": "display_data"
    }
   ],
   "source": [
    "# Do not change: Initial menu for your restaurant\n",
    "menu = ['stewed meat with onions', 'bean soup', 'risotto with trout and shrimp',\n",
    "       'fish soup with cream and onion', 'gyro']\n",
    "\n",
    "# TODO: remove 'bean soup', and add 'roasted beet salad' to the end of the menu\n",
    "menu.remove('bean soup')\n",
    "menu.append('roasted beet salad')\n",
    "\n",
    "# Do not change: Check your answer\n",
    "q1.check()"
   ]
  },
  {
   "cell_type": "markdown",
   "id": "77834779",
   "metadata": {},
   "source": [
    "### Domanda 2"
   ]
  },
  {
   "cell_type": "markdown",
   "id": "c6f3f56c",
   "metadata": {},
   "source": [
    "L'elenco `num_costumers` contiene il numero di clienti che sono entrati nel vostro ristorante ogni giorno nell'ultimo mese (che dura trenta giorni).  Compilare i valori per ciascuno dei seguenti elementi:\n",
    "- `avg_first_seven` - numero medio di clienti che hanno visitato il ristorante nei primi sette giorni\n",
    "- `avg_last_seven` - numero medio di clienti visitati negli ultimi sette giorni\n",
    "- `max_mese` - numero di clienti nel giorno che ha ottenuto il maggior numero di clienti nell'ultimo mese\n",
    "- `min_mese` - numero di clienti nel giorno che ha avuto meno clienti nell'ultimo mese\n",
    "\n",
    "Rispondete a questa domanda scrivendo del codice.  Per esempio, se si deve trovare il valore minimo in un elenco, usare `min()` invece di cercare il valore più piccolo e inserire direttamente un numero."
   ]
  },
  {
   "cell_type": "code",
   "execution_count": 22,
   "id": "f2b1e77d",
   "metadata": {},
   "outputs": [
    {
     "data": {
      "application/javascript": [
       "parent.postMessage({\"jupyterEvent\": \"custom.exercise_interaction\", \"data\": {\"outcomeType\": 1, \"valueTowardsCompletion\": 0.2, \"interactionType\": 1, \"questionType\": 1, \"questionId\": \"2_NumCustomers\", \"learnToolsVersion\": \"0.3.4\", \"failureMessage\": \"\", \"exceptionClass\": \"\", \"trace\": \"\"}}, \"*\")"
      ],
      "text/plain": [
       "<IPython.core.display.Javascript object>"
      ]
     },
     "metadata": {},
     "output_type": "display_data"
    },
    {
     "data": {
      "text/markdown": [
       "<span style=\"color:#33cc33\">Correct</span>"
      ],
      "text/plain": [
       "Correct"
      ]
     },
     "metadata": {},
     "output_type": "display_data"
    }
   ],
   "source": [
    "# Do not change: Number of customers each day for the last month\n",
    "num_customers = [137, 147, 135, 128, 170, 174, 165, 146, 126, 159,\n",
    "                 141, 148, 132, 147, 168, 153, 170, 161, 148, 152,\n",
    "                 141, 151, 131, 149, 164, 163, 143, 143, 166, 171]\n",
    "\n",
    "# TODO: Fill in values for the variables below\n",
    "avg_first_seven = sum(num_customers[:7])/7 # somma (partendo dal primo al 7°) diviso il numero di 7 osservazioni\n",
    "avg_last_seven = sum(num_customers[-7:])/7 # somma (partendo dal 7 ultimo all'ultimo) diviso il numero di 7 osservazioni\n",
    "max_month = max(num_customers)\n",
    "min_month = min(num_customers)\n",
    "\n",
    "# Do not change: Check your answer\n",
    "q2.check()"
   ]
  },
  {
   "cell_type": "markdown",
   "id": "2865ca43",
   "metadata": {},
   "source": [
    "### Domanda 3"
   ]
  },
  {
   "cell_type": "code",
   "execution_count": 24,
   "id": "0e9b16b5",
   "metadata": {},
   "outputs": [],
   "source": [
    "flowers = \"pink primrose,hard-leaved pocket orchid,canterbury bells,sweet pea,english marigold,tiger lily,moon orchid,bird of paradise,monkshood,globe thistle\""
   ]
  },
  {
   "cell_type": "markdown",
   "id": "be9fbeb2",
   "metadata": {},
   "source": [
    "È possibile utilizzare Python per trasformare rapidamente questa stringa in un elenco con .split(). Tra le parentesi, dobbiamo indicare il carattere da usare per segnare la fine di un elemento dell'elenco e l'inizio di un altro, racchiudendolo tra virgolette. In questo caso, il carattere è una virgola."
   ]
  },
  {
   "cell_type": "code",
   "execution_count": 25,
   "id": "93d5888d",
   "metadata": {},
   "outputs": [
    {
     "name": "stdout",
     "output_type": "stream",
     "text": [
      "['pink primrose', 'hard-leaved pocket orchid', 'canterbury bells', 'sweet pea', 'english marigold', 'tiger lily', 'moon orchid', 'bird of paradise', 'monkshood', 'globe thistle']\n"
     ]
    }
   ],
   "source": [
    " print(flowers.split(\",\"))"
   ]
  },
  {
   "cell_type": "markdown",
   "id": "1daccb6e",
   "metadata": {},
   "source": [
    "Ora tocca a voi provarlo!  Create due liste Python:\n",
    "- `letters` deve essere una lista Python in cui ogni voce è una lettera maiuscola dell'alfabeto inglese.  Per esempio, le prime due voci devono essere `\"A\"` e `\"B\"`, mentre le ultime due voci devono essere `\"Y\"` e `\"Z\"`.  Utilizzare la stringa `alfabeto` per creare questo elenco.\n",
    "- `address` deve essere un elenco Python in cui ogni riga di `addreess` è un elemento diverso dell'elenco.  Attualmente, ogni riga di `address` è separata da una virgola."
   ]
  },
  {
   "cell_type": "code",
   "execution_count": 26,
   "id": "0a3ca2bb",
   "metadata": {},
   "outputs": [
    {
     "data": {
      "application/javascript": [
       "parent.postMessage({\"jupyterEvent\": \"custom.exercise_interaction\", \"data\": {\"outcomeType\": 1, \"valueTowardsCompletion\": 0.2, \"interactionType\": 1, \"questionType\": 1, \"questionId\": \"3_SplitString\", \"learnToolsVersion\": \"0.3.4\", \"failureMessage\": \"\", \"exceptionClass\": \"\", \"trace\": \"\"}}, \"*\")"
      ],
      "text/plain": [
       "<IPython.core.display.Javascript object>"
      ]
     },
     "metadata": {},
     "output_type": "display_data"
    },
    {
     "data": {
      "text/markdown": [
       "<span style=\"color:#33cc33\">Correct</span>"
      ],
      "text/plain": [
       "Correct"
      ]
     },
     "metadata": {},
     "output_type": "display_data"
    }
   ],
   "source": [
    "# DO not change: Define two Python strings\n",
    "alphabet = \"A.B.C.D.E.F.G.H.I.J.K.L.M.N.O.P.Q.R.S.T.U.V.W.X.Y.Z\"\n",
    "address = \"Mr. H. Potter,The cupboard under the Stairs,4 Privet Drive,Little Whinging,Surrey\"\n",
    "\n",
    "# TODO: Convert strings into Python lists\n",
    "letters = alphabet.split(\".\")\n",
    "formatted_address = address.split(\",\")\n",
    "\n",
    "# Do not change: Check your answer\n",
    "q3.check()"
   ]
  },
  {
   "cell_type": "markdown",
   "id": "fb4cb829",
   "metadata": {},
   "source": [
    "### Domanda 4"
   ]
  },
  {
   "cell_type": "code",
   "execution_count": 27,
   "id": "c5595159",
   "metadata": {},
   "outputs": [],
   "source": [
    "test_ratings = [1, 2, 3, 4, 5]"
   ]
  },
  {
   "cell_type": "code",
   "execution_count": 28,
   "id": "53a7c8a2",
   "metadata": {},
   "outputs": [
    {
     "name": "stdout",
     "output_type": "stream",
     "text": [
      "[False, False, False, True, True]\n"
     ]
    }
   ],
   "source": [
    "test_liked = [i>=4 for i in test_ratings]\n",
    "print(test_liked)"
   ]
  },
  {
   "cell_type": "markdown",
   "id": "35d9f989",
   "metadata": {},
   "source": [
    "In questa domanda, si utilizzerà la comprensione di questa lista per definire una funzione `percentage_liked()` che prende in input un argomento:\n",
    "- `ratings`: elenco di valutazioni che le persone hanno dato a un film, dove ogni valutazione è un numero compreso tra 1-5, incluso\n",
    "\n",
    "Si dice che a qualcuno è piaciuto il film se ha dato una valutazione di 4 o 5. La funzione deve restituire la percentuale di persone a cui è piaciuto il film.\n",
    "\n",
    "Per esempio, se forniamo un valore di `[1, 2, 3, 4, 5, 4, 5, 1]`, allora il film è piaciuto al 50% (4/8) delle persone e la funzione deve restituire `0,5`.\n",
    "\n",
    "Una parte della funzione è già stata completata per voi. È sufficiente utilizzare `list_liked` per calcolare `percentage_liked`."
   ]
  },
  {
   "cell_type": "code",
   "execution_count": 29,
   "id": "f9c32014",
   "metadata": {},
   "outputs": [
    {
     "data": {
      "application/javascript": [
       "parent.postMessage({\"jupyterEvent\": \"custom.exercise_interaction\", \"data\": {\"outcomeType\": 1, \"valueTowardsCompletion\": 0.2, \"interactionType\": 1, \"questionType\": 2, \"questionId\": \"4_PercentageLiked\", \"learnToolsVersion\": \"0.3.4\", \"failureMessage\": \"\", \"exceptionClass\": \"\", \"trace\": \"\"}}, \"*\")"
      ],
      "text/plain": [
       "<IPython.core.display.Javascript object>"
      ]
     },
     "metadata": {},
     "output_type": "display_data"
    },
    {
     "data": {
      "text/markdown": [
       "<span style=\"color:#33cc33\">Correct</span>"
      ],
      "text/plain": [
       "Correct"
      ]
     },
     "metadata": {},
     "output_type": "display_data"
    }
   ],
   "source": [
    "# TODO: Complete the function\n",
    "def percentage_liked(ratings):\n",
    "    list_liked = [i>=4 for i in ratings]\n",
    "    percentage_liked = sum(list_liked)/len(list_liked)\n",
    "    return percentage_liked\n",
    "\n",
    "# Do not change: should return 0.5\n",
    "percentage_liked([1, 2, 3, 4, 5, 4, 5, 1])\n",
    "\n",
    "# Do not change: Check your answer\n",
    "q4.check()"
   ]
  },
  {
   "cell_type": "markdown",
   "id": "424a3fb4",
   "metadata": {},
   "source": [
    "### Domanda 5"
   ]
  },
  {
   "cell_type": "markdown",
   "id": "73f2ce90",
   "metadata": {},
   "source": [
    "# 🌶️ Domanda 5\n",
    " \n",
    "Supponiamo che stiate facendo analisi per un sito web.  Dovete scrivere una funzione che restituisca la crescita percentuale del numero totale di utenti rispetto a un determinato numero di anni fa.\n",
    "\n",
    "La funzione `percentage_growth()` deve prendere in input due argomenti:\n",
    "- `num_users` = elenco Python con il numero totale di utenti per ogni anno.  Quindi `num_users[0]` è il numero totale di utenti del primo anno, `num_users[1]` è il numero totale di utenti del secondo anno e così via.  L'ultima voce dell'elenco fornisce il numero totale di utenti nell'ultimo anno concluso.\n",
    "- `yrs_ago` = numero di anni per andare indietro nel tempo quando si calcola la percentuale di crescita.\n",
    "\n",
    "Per esempio, diciamo `num_users = [920344, 1043553, 1204334, 1458996, 1503323, 1593432, 1623463, 1843064, 1930992, 2001078]`.\n",
    "- Se `yrs_ago = 1`, vogliamo che la funzione restituisca un valore di circa `0,036'. Ciò corrisponde a una crescita percentuale di circa il 3,6%, calcolata come (2001078 - 1930992)/1930992.\n",
    "- se `yrs_ago = 7`, vorremmo restituire un valore di circa `0,66`.  Ciò corrisponde a una crescita percentuale di circa il 66%, calcolata come (2001078 - 1204334)/1204334.\n",
    "\n",
    "Il vostro collega vi ha inviato una bozza di funzione, ma non sembra eseguire il calcolo corretto. Siete in grado di capire cosa è andato storto e di apportare le modifiche necessarie?"
   ]
  },
  {
   "cell_type": "code",
   "execution_count": 30,
   "id": "087aaa3b",
   "metadata": {},
   "outputs": [
    {
     "name": "stdout",
     "output_type": "stream",
     "text": [
      "0.03629533421163837\n",
      "0.6615639847417742\n"
     ]
    },
    {
     "data": {
      "application/javascript": [
       "parent.postMessage({\"jupyterEvent\": \"custom.exercise_interaction\", \"data\": {\"outcomeType\": 1, \"valueTowardsCompletion\": 0.2, \"interactionType\": 1, \"questionType\": 2, \"questionId\": \"5_WebsiteAnalytics\", \"learnToolsVersion\": \"0.3.4\", \"failureMessage\": \"\", \"exceptionClass\": \"\", \"trace\": \"\"}}, \"*\")"
      ],
      "text/plain": [
       "<IPython.core.display.Javascript object>"
      ]
     },
     "metadata": {},
     "output_type": "display_data"
    },
    {
     "data": {
      "text/markdown": [
       "<span style=\"color:#33cc33\">Correct</span>"
      ],
      "text/plain": [
       "Correct"
      ]
     },
     "metadata": {},
     "output_type": "display_data"
    }
   ],
   "source": [
    "# TODO: Edit the function\n",
    "def percentage_growth(num_users, yrs_ago):\n",
    "    growth = (num_users[len(num_users)-1] - num_users[len(num_users)-yrs_ago-1])/num_users[len(num_users)-yrs_ago-1]\n",
    "    return growth\n",
    "# Do not change: Variable for calculating some test examples\n",
    "num_users_test = [920344, 1043553, 1204334, 1458996, 1503323, 1593432, 1623463, 1843064, 1930992, 2001078]\n",
    "\n",
    "# Do not change: Should return .036\n",
    "print(percentage_growth(num_users_test, 1))\n",
    "\n",
    "# Do not change: Should return 0.66\n",
    "print(percentage_growth(num_users_test, 7))\n",
    "\n",
    "# Do not change: Check your answer\n",
    "q5.check()"
   ]
  }
 ],
 "metadata": {
  "kernelspec": {
   "display_name": "Python 3 (ipykernel)",
   "language": "python",
   "name": "python3"
  },
  "language_info": {
   "codemirror_mode": {
    "name": "ipython",
    "version": 3
   },
   "file_extension": ".py",
   "mimetype": "text/x-python",
   "name": "python",
   "nbconvert_exporter": "python",
   "pygments_lexer": "ipython3",
   "version": "3.9.7"
  }
 },
 "nbformat": 4,
 "nbformat_minor": 5
}
