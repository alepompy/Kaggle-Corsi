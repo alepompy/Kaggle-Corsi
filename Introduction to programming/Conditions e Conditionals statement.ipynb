{
 "cells": [
  {
   "cell_type": "markdown",
   "id": "3963da6f",
   "metadata": {},
   "source": [
    "### Condizioni"
   ]
  },
  {
   "cell_type": "markdown",
   "id": "55323908",
   "metadata": {},
   "source": [
    "Nella programmazione, le condizioni sono affermazioni che possono essere True o False. Esistono molti modi diversi per scrivere condizioni in Python, ma alcuni dei modi più comuni di scrivere condizioni si limitano a confrontare due valori diversi. Ad esempio, è possibile verificare se 2 è maggiore di 3."
   ]
  },
  {
   "cell_type": "code",
   "execution_count": 1,
   "id": "50f7e780",
   "metadata": {},
   "outputs": [
    {
     "name": "stdout",
     "output_type": "stream",
     "text": [
      "False\n",
      "True\n"
     ]
    }
   ],
   "source": [
    "var_one = 1\n",
    "var_two = 2\n",
    "\n",
    "print(var_one < 1)\n",
    "print(var_two >= var_one)"
   ]
  },
  {
   "attachments": {
    "image.png": {
     "image/png": "[encoded data removed]"
    }
   },
   "cell_type": "markdown",
   "id": "bdd74360",
   "metadata": {},
   "source": [
    "![image.png](attachment:image.png)"
   ]
  },
  {
   "cell_type": "code",
   "execution_count": 3,
   "id": "0464479d",
   "metadata": {},
   "outputs": [],
   "source": [
    "var_one==1 # checks if the value of var_one is 1, but\n",
    "var_one=1 # sets the value of var_one to 1."
   ]
  },
  {
   "cell_type": "markdown",
   "id": "7ab81a43",
   "metadata": {},
   "source": [
    "### Istruzioni Condizionali"
   ]
  },
  {
   "cell_type": "markdown",
   "id": "d084f703",
   "metadata": {},
   "source": [
    "Le istruzioni condizionali utilizzano le condizioni per modificare l'esecuzione della funzione. Esse controllano il valore di una condizione e, se la condizione è True, viene eseguito un determinato blocco di codice. (Altrimenti, se la condizione è False, il codice non viene eseguito)."
   ]
  },
  {
   "cell_type": "markdown",
   "id": "a1b0626c",
   "metadata": {},
   "source": [
    "#### If\n",
    "\n",
    "Il tipo più semplice di dichiarazione condizionale è l'istruzione \"if\". Un esempio è rappresentato dalla funzione evaluate_temp(), riportata di seguito. La funzione accetta come input la temperatura corporea (in gradi Celsius).\n",
    "\n",
    "Inizialmente, il messaggio è impostato su \"Normal Temperature\".\n",
    "Poi, se temp > 38 è True (ad esempio, la temperatura corporea è superiore a 38°C), il messaggio viene aggiornato a \"Feverr!\". Altrimenti, se temp > 38 è False, il messaggio non viene aggiornato.\n",
    "Infine, la funzione restituisce il messaggio."
   ]
  },
  {
   "cell_type": "code",
   "execution_count": 6,
   "id": "32cbebbc",
   "metadata": {},
   "outputs": [],
   "source": [
    "def evaluate_temp(temp):\n",
    "    # Set an initial message\n",
    "    message = \"Normal temperature.\"\n",
    "    # Update value of message only if temperature greater than 38\n",
    "    if temp > 38:\n",
    "        message = \"Fever!\"\n",
    "    return message"
   ]
  },
  {
   "cell_type": "code",
   "execution_count": 7,
   "id": "5802fac2",
   "metadata": {},
   "outputs": [
    {
     "name": "stdout",
     "output_type": "stream",
     "text": [
      "Normal temperature.\n"
     ]
    }
   ],
   "source": [
    "print(evaluate_temp(37))"
   ]
  },
  {
   "cell_type": "code",
   "execution_count": 8,
   "id": "fa84bd5e",
   "metadata": {},
   "outputs": [
    {
     "name": "stdout",
     "output_type": "stream",
     "text": [
      "Fever!\n"
     ]
    }
   ],
   "source": [
    "print(evaluate_temp(39))"
   ]
  },
  {
   "cell_type": "markdown",
   "id": "536e5b22",
   "metadata": {},
   "source": [
    "Si noti che ci sono due livelli di indentazione:\n",
    "\n",
    "- Il primo livello di indentazione è dovuto alla necessità di indentare sempre il blocco di codice all'interno di una funzione.\n",
    "- Il secondo livello di rientro è dovuto alla necessità di rientrare anche il blocco di codice appartenente all'istruzione \"if\". (Come si vedrà, sarà necessario rientrare anche i blocchi di codice per le istruzioni \"elif\" e \"else\").\n",
    "\n",
    "Si noti che, poiché l'istruzione return non è rientrata sotto l'istruzione \"if\", essa viene sempre eseguita, sia che temp > 38 sia True o False."
   ]
  },
  {
   "cell_type": "markdown",
   "id": "0e9fb8e5",
   "metadata": {},
   "source": [
    "#### if ... esle\n",
    "È possibile utilizzare le istruzioni \"else\" per eseguire il codice se un'istruzione è False. Il codice sotto l'istruzione \"if\" viene eseguito se l'istruzione è Vera, mentre il codice sotto \"else\" viene eseguito se l'istruzione è Falsa."
   ]
  },
  {
   "cell_type": "code",
   "execution_count": 9,
   "id": "0972085c",
   "metadata": {},
   "outputs": [],
   "source": [
    "def evaluate_temp_with_else(temp):\n",
    "    if temp > 38:\n",
    "        message = \"Fever!\"\n",
    "    else:\n",
    "        message = \"Normal temperature.\"\n",
    "    return message"
   ]
  },
  {
   "cell_type": "code",
   "execution_count": 10,
   "id": "66f5b90c",
   "metadata": {},
   "outputs": [
    {
     "name": "stdout",
     "output_type": "stream",
     "text": [
      "Normal temperature.\n"
     ]
    }
   ],
   "source": [
    "print(evaluate_temp_with_else(37))"
   ]
  },
  {
   "cell_type": "markdown",
   "id": "42c090ad",
   "metadata": {},
   "source": [
    "#### if ... elif ... esle\n",
    "Possiamo usare \"elif\" (abbreviazione di \"else if\") per verificare se più condizioni possono essere vere. La funzione qui sotto:\n",
    "\n",
    "- Innanzitutto controlla se la temperatura è > 38. Se è True, il messaggio viene impostato su \"Fever!\".\n",
    "- Se il messaggio non è già stato impostato, la funzione controlla se la temperatura è > 35. Se questo è True, il messaggio viene impostato su \"Fever!\". Se questo è True, il messaggio viene impostato su \"Temperatura normale\".\n",
    "- Quindi, se non è stato ancora impostato alcun messaggio, l'istruzione \"else\" assicura che il messaggio sia impostato su \"Temperatura bassa\".\n",
    "\n",
    "Si può pensare a \"elif\" come se dicesse ... \"Ok, la condizione precedente (ad esempio, temperatura > 38) era False, quindi controlliamo se questa nuova condizione (ad esempio, temperatura > 35) potrebbe essere True!\"."
   ]
  },
  {
   "cell_type": "code",
   "execution_count": 11,
   "id": "4d3ba1d0",
   "metadata": {},
   "outputs": [],
   "source": [
    "def evaluate_temp_with_elif(temp):\n",
    "    if temp > 38:\n",
    "        message = \"Fever!\"\n",
    "    elif temp > 35:\n",
    "        message = \"Normal temperature.\"\n",
    "    else:\n",
    "        message = \"Low temperature.\"\n",
    "    return message"
   ]
  },
  {
   "cell_type": "code",
   "execution_count": 12,
   "id": "302452f9",
   "metadata": {},
   "outputs": [
    {
     "data": {
      "text/plain": [
       "'Normal temperature.'"
      ]
     },
     "execution_count": 12,
     "metadata": {},
     "output_type": "execute_result"
    }
   ],
   "source": [
    "evaluate_temp_with_elif(36)"
   ]
  },
  {
   "cell_type": "code",
   "execution_count": 13,
   "id": "02fa6f6f",
   "metadata": {},
   "outputs": [
    {
     "data": {
      "text/plain": [
       "'Low temperature.'"
      ]
     },
     "execution_count": 13,
     "metadata": {},
     "output_type": "execute_result"
    }
   ],
   "source": [
    "evaluate_temp_with_elif(34)"
   ]
  },
  {
   "cell_type": "markdown",
   "id": "37cae604",
   "metadata": {},
   "source": [
    "Negli esempi precedenti, le dichiarazioni condizionali sono state utilizzate per decidere come impostare i valori delle variabili. Ma è possibile utilizzare le dichiarazioni condizionali anche per eseguire diversi calcoli.\n",
    "\n",
    "Nel prossimo esempio, supponiamo di vivere in un Paese con due sole fasce fiscali. Chi guadagna meno di 12.000 euro paga il 25% di tasse, mentre chi guadagna 12.000 o più paga il 30%. La funzione seguente calcola l'ammontare delle imposte dovute."
   ]
  },
  {
   "cell_type": "code",
   "execution_count": 14,
   "id": "9d5d51d4",
   "metadata": {},
   "outputs": [],
   "source": [
    "def get_taxes(earnings):\n",
    "    if earnings < 12000:\n",
    "        tax_owed = .25 * earnings\n",
    "    else:\n",
    "        tax_owed = .30 * earnings\n",
    "    return tax_owed"
   ]
  },
  {
   "cell_type": "code",
   "execution_count": 15,
   "id": "4a518fbb",
   "metadata": {},
   "outputs": [
    {
     "name": "stdout",
     "output_type": "stream",
     "text": [
      "2250.0\n",
      "4500.0\n"
     ]
    }
   ],
   "source": [
    "ana_taxes = get_taxes(9000)\n",
    "bob_taxes = get_taxes(15000)\n",
    "\n",
    "print(ana_taxes)\n",
    "print(bob_taxes)"
   ]
  },
  {
   "cell_type": "markdown",
   "id": "3f94d520",
   "metadata": {},
   "source": [
    "In ogni caso, si chiama la funzione get_taxes() e si utilizza il valore restituito per impostare il valore di una variabile.\n",
    "\n",
    "- Per ana_taxes, calcoliamo le imposte dovute da una persona che guadagna 9.000 dollari. In questo caso, chiamiamo la funzione get_taxes() con il guadagno impostato a 9000. Pertanto, guadagno < 12000 è True, e tasse_dovute è impostato a .25 * 9000. Quindi restituiamo il valore di tax_owed.\n",
    "- Per bob_taxes, calcoliamo le tasse dovute da una persona che guadagna 15.000 dollari. In questo caso, chiamiamo la funzione get_taxes() con il guadagno impostato a 15000. Pertanto, il guadagno < 12000 è False e tax_owed è impostato a .30 * 15000. Quindi si restituisce il valore di tax_owed."
   ]
  },
  {
   "cell_type": "markdown",
   "id": "5577354c",
   "metadata": {},
   "source": [
    "Finora abbiamo visto l'uso di \"elif\" solo una volta in una funzione. Ma non c'è limite al numero di istruzioni \"elif\" che si possono usare. Ad esempio, il prossimo blocco di codice calcola la dose di farmaco (in millilitri) da somministrare a un bambino, in base al peso (in chilogrammi).\n",
    "\n",
    "In questo caso, l'istruzione \"if\" è False e tutte le istruzioni \"elif\" sono valutate False, fino a quando non si arriva a peso < 15,9, che è True, e la dose è impostata a 5.\n",
    "\n",
    "Una volta che un'istruzione \"elif\" viene valutata come True e il blocco di codice viene eseguito, la funzione salta tutte le altre istruzioni \"elif\" e \"else\". Dopo averle saltate, rimane solo l'istruzione return, che restituisce il valore della dose.\n",
    "\n",
    "L'ordine delle istruzioni elif è importante! Riordinando le istruzioni si otterrà un risultato molto diverso."
   ]
  },
  {
   "cell_type": "code",
   "execution_count": 16,
   "id": "52bf71ac",
   "metadata": {},
   "outputs": [],
   "source": [
    "def get_dose(weight):\n",
    "    # Dosage is 1.25 ml for anyone under 5.2 kg\n",
    "    if weight < 5.2:\n",
    "        dose = 1.25\n",
    "    elif weight < 7.9:\n",
    "        dose = 2.5\n",
    "    elif weight < 10.4:\n",
    "        dose = 3.75\n",
    "    elif weight < 15.9:\n",
    "        dose = 5\n",
    "    elif weight < 21.2:\n",
    "        dose = 7.5\n",
    "    # Dosage is 10 ml for anyone 21.2 kg or over\n",
    "    else:\n",
    "        dose = 10\n",
    "    return dose"
   ]
  },
  {
   "cell_type": "code",
   "execution_count": 17,
   "id": "bd69e7f9",
   "metadata": {},
   "outputs": [
    {
     "name": "stdout",
     "output_type": "stream",
     "text": [
      "5\n"
     ]
    }
   ],
   "source": [
    "print(get_dose(12))"
   ]
  },
  {
   "cell_type": "markdown",
   "id": "e898e691",
   "metadata": {},
   "source": [
    "## Exercise"
   ]
  },
  {
   "cell_type": "code",
   "execution_count": 18,
   "id": "012a63f3",
   "metadata": {},
   "outputs": [
    {
     "name": "stdout",
     "output_type": "stream",
     "text": [
      "Setup complete.\n"
     ]
    }
   ],
   "source": [
    "from learntools.core import binder\n",
    "binder.bind(globals())\n",
    "from learntools.intro_to_programming.ex4 import *\n",
    "print('Setup complete.')"
   ]
  },
  {
   "cell_type": "markdown",
   "id": "bc810c1e",
   "metadata": {},
   "source": [
    "### Domanda 1\n",
    "Lavorate in un ufficio di ammissione all'università. Durante l'ispezione di un insieme di dati di candidati all'università, si nota che alcuni studenti hanno rappresentato i loro voti con delle lettere (`\"A\"`, `\"B\"`, `\"C\"`, `\"D\"`, `\"F\"`), mentre altri hanno rappresentato i loro voti con un numero compreso tra 0 e 100.\n",
    "\n",
    "Ci si rende conto che, per coerenza, tutti i voti dovrebbero essere formattati allo stesso modo e si decide di formattarli tutti come lettere.  Per la conversione, si decide di assegnare:\n",
    "- `\"A\"` = qualsiasi voto da 90 a 100, incluso\n",
    "- `\"B\"` = qualsiasi voto 80-89, incluso\n",
    "- `\"C\"` = qualsiasi voto 70-79, incluso\n",
    "- `\"D\"` = qualsiasi voto 60-69, incluso\n",
    "- `\"F\"` = qualsiasi voto <60\n",
    "\n",
    "Scrivere una funzione `get_grade()` che prenda come input:\n",
    "- `punteggio` = un numero intero da 0 a 100 corrispondente a un voto numerico.\n",
    "\n",
    "Dovrebbe restituire una stringa Python con la lettera del voto a cui corrisponde.  Per esempio,\n",
    "- Un punteggio di 85 corrisponde a un voto B.  In altre parole, `get_grade(85)` dovrebbe restituire `\"B\"`.\n",
    "- Un punteggio di 49 corrisponde a un voto F.  In altre parole, `get_grade(49)` dovrebbe restituire `\"F\"`.\n",
    "\n",
    "Assicurarsi che quando si fornisce il voto restituito dalla funzione, questo sia racchiuso tra virgolette.  (Per esempio, se si vuole restituire `\"A\"`, si deve scrivere `return \"A\"` e non `return A`)."
   ]
  },
  {
   "cell_type": "code",
   "execution_count": 27,
   "id": "a190c943",
   "metadata": {},
   "outputs": [
    {
     "data": {
      "application/javascript": [
       "parent.postMessage({\"jupyterEvent\": \"custom.exercise_interaction\", \"data\": {\"outcomeType\": 1, \"valueTowardsCompletion\": 0.2, \"interactionType\": 1, \"questionType\": 2, \"questionId\": \"1_GetGrade\", \"learnToolsVersion\": \"0.3.4\", \"failureMessage\": \"\", \"exceptionClass\": \"\", \"trace\": \"\"}}, \"*\")"
      ],
      "text/plain": [
       "<IPython.core.display.Javascript object>"
      ]
     },
     "metadata": {},
     "output_type": "display_data"
    },
    {
     "data": {
      "text/markdown": [
       "<span style=\"color:#33cc33\">Correct</span>"
      ],
      "text/plain": [
       "Correct"
      ]
     },
     "metadata": {},
     "output_type": "display_data"
    }
   ],
   "source": [
    "# TODO: Edit the function to return the correct grade for different scores\n",
    "def get_grade(score):\n",
    "    if score >= 90:\n",
    "        grade = \"A\"\n",
    "    elif score >= 80:\n",
    "        grade = \"B\"\n",
    "    elif score >= 70:\n",
    "        grade = \"C\"\n",
    "    elif score >= 60:\n",
    "        grade = \"D\"\n",
    "    else:\n",
    "        grade = \"F\"\n",
    "    return grade\n",
    "    \n",
    "# Check your answer\n",
    "q1.check()"
   ]
  },
  {
   "cell_type": "markdown",
   "id": "e8d1c2db",
   "metadata": {},
   "source": [
    "### Domanda 2\n",
    "Nell'esercizio della lezione precedente, avete scritto una funzione `cost_of_project()` che stimava il prezzo degli anelli per un negozio online che vende anelli con incisioni personalizzate. Questa funzione non utilizzava dichiarazioni condizionali.  In questo esercizio, riscriverete la funzione in modo da utilizzare le dichiarazioni condizionali.  Ricordiamo che il negozio online ha la seguente struttura dei prezzi:\n",
    "- Gli anelli placcati in oro hanno un costo base di 50 dollari, e voi fate pagare 7 dollari per ogni unità incisa.  \n",
    "- Gli anelli in oro massiccio hanno un costo di base di 100 dollari, con una tariffa di 10 dollari per unità incisa.\n",
    "- Gli spazi e la punteggiatura vengono contati come unità incise.\n",
    "\n",
    "La funzione `cost_of_project()` accetta due argomenti:\n",
    "- `incisione` - una stringa Python con il testo dell'incisione\n",
    "- `solid_gold` - un booleano che indica se l'anello è d'oro massiccio.\n",
    "\n",
    "Dovrebbe restituire il costo del progetto.  "
   ]
  },
  {
   "cell_type": "code",
   "execution_count": 28,
   "id": "5f8e6a4d",
   "metadata": {},
   "outputs": [
    {
     "data": {
      "application/javascript": [
       "parent.postMessage({\"jupyterEvent\": \"custom.exercise_interaction\", \"data\": {\"outcomeType\": 1, \"valueTowardsCompletion\": 0.2, \"interactionType\": 1, \"questionType\": 2, \"questionId\": \"2_CostProjectPartDeux\", \"learnToolsVersion\": \"0.3.4\", \"failureMessage\": \"\", \"exceptionClass\": \"\", \"trace\": \"\"}}, \"*\")"
      ],
      "text/plain": [
       "<IPython.core.display.Javascript object>"
      ]
     },
     "metadata": {},
     "output_type": "display_data"
    },
    {
     "data": {
      "text/markdown": [
       "<span style=\"color:#33cc33\">Correct</span>"
      ],
      "text/plain": [
       "Correct"
      ]
     },
     "metadata": {},
     "output_type": "display_data"
    }
   ],
   "source": [
    "def cost_of_project(engraving, solid_gold):\n",
    "    num_units = len(engraving)\n",
    "    if solid_gold == True:\n",
    "        cost = 100 + 10 * num_units\n",
    "    else:\n",
    "        cost = 50 + 7 * num_units\n",
    "    return cost\n",
    "\n",
    "# Check your answer\n",
    "q2.check()"
   ]
  },
  {
   "cell_type": "markdown",
   "id": "61baac6e",
   "metadata": {},
   "source": [
    "### Domanda 3"
   ]
  },
  {
   "cell_type": "markdown",
   "id": "a05d1059",
   "metadata": {},
   "source": [
    "Siete un programmatore di un'agenzia idrica. Recentemente, vi è stato chiesto di scrivere una funzione `get_water_bill()` che prende come input:\n",
    "- `num_gallons` = il numero di galloni d'acqua utilizzati da un cliente nel mese. (Questo sarà sempre un numero intero senza parte decimale).\n",
    "\n",
    "Dovrebbe produrre la bolletta dell'acqua.  \n",
    "\n",
    "L'agenzia idrica utilizza questa struttura tariffaria:\n",
    "<table style=\"width: 100%;\">\n",
    "<tbody>\n",
    "<tr><th><b>Tier</b></th><th><b>Amount in gallons</b></th><th><b>Price per 1000 gallons</b></th></tr>\n",
    "<tr>\n",
    "<td>Tier 1</td>\n",
    "<td>0 - 8,000</td>\n",
    "<td>\\$5</td>\n",
    "</tr>\n",
    "<tr>\n",
    "<td>Tier 2</td>\n",
    "<td>8,001 - 22,000</td>\n",
    "<td>\\$6</td>\n",
    "</tr>\n",
    "<tr>\n",
    "<td>Tier 3</td>\n",
    "<td>22,001 - 30,000</td>\n",
    "<td>\\$7</td>\n",
    "</tr>\n",
    "<tr>\n",
    "<td>Tier 4</td>\n",
    "<td>30,001+</td>\n",
    "<td>\\$10</td>\n",
    "</tr>\n",
    "</tbody>\n",
    "</table>\n",
    "\n",
    "Ad esempio: \n",
    "- Una persona che consuma 10.000 galloni di acqua in un mese viene collocata nel livello 2 e deve pagare una bolletta dell'acqua di 6$ * 10 = 60$.  In altre parole, `get_water_bill(10000)` dovrebbe restituire `60.0`.\n",
    "- Chi consuma 25.000 galloni d'acqua in un mese viene collocato nel livello 3 e deve pagare una bolletta dell'acqua di 7 * 25 = 175 dollari.  In altre parole, `get_water_bill(25000)` dovrebbe restituire `175.0`.\n",
    "\n",
    "**Non arrotondare la risposta **La risposta potrebbe quindi restituire frazioni di centesimo."
   ]
  },
  {
   "cell_type": "code",
   "execution_count": 29,
   "id": "04bb2382",
   "metadata": {},
   "outputs": [
    {
     "data": {
      "application/javascript": [
       "parent.postMessage({\"jupyterEvent\": \"custom.exercise_interaction\", \"data\": {\"outcomeType\": 1, \"valueTowardsCompletion\": 0.2, \"interactionType\": 1, \"questionType\": 2, \"questionId\": \"3_GetWaterBill\", \"learnToolsVersion\": \"0.3.4\", \"failureMessage\": \"\", \"exceptionClass\": \"\", \"trace\": \"\"}}, \"*\")"
      ],
      "text/plain": [
       "<IPython.core.display.Javascript object>"
      ]
     },
     "metadata": {},
     "output_type": "display_data"
    },
    {
     "data": {
      "text/markdown": [
       "<span style=\"color:#33cc33\">Correct</span>"
      ],
      "text/plain": [
       "Correct"
      ]
     },
     "metadata": {},
     "output_type": "display_data"
    }
   ],
   "source": [
    "# TODO: Edit the function to return the correct bill for different\n",
    "# values of num_gallons\n",
    "def get_water_bill(num_gallons):\n",
    "    if num_gallons <= 8000:\n",
    "        bill = 5 * num_gallons / 1000\n",
    "    elif num_gallons <= 22000:\n",
    "        bill = 6 * num_gallons / 1000\n",
    "    elif num_gallons <= 30000:\n",
    "        bill = 7 * num_gallons / 1000\n",
    "    else:\n",
    "        bill = 10 * num_gallons / 1000\n",
    "    return bill\n",
    "\n",
    "# Check your answer\n",
    "q3.check()"
   ]
  },
  {
   "cell_type": "markdown",
   "id": "bdf3475a",
   "metadata": {},
   "source": [
    "### Domanda 4"
   ]
  },
  {
   "cell_type": "markdown",
   "id": "c13176f2",
   "metadata": {},
   "source": [
    "Lavorate per un'azienda che fornisce servizi di trasmissione dati.  Per 100 dollari al mese, l'azienda fornisce 15 gigabyte (GB) di dati.  Ogni dato aggiuntivo viene poi fatturato a 0,10$/MB (o 100$/GB, dato che 1.000 MB sono 1 GB).\n",
    "\n",
    "Utilizzare la cella di codice successiva per scrivere una funzione `get_phone_bill()` che prenda come input:\n",
    "- `gb` = numero di GB utilizzati dal cliente in un mese.\n",
    "\n",
    "Dovrebbe restituire il totale della bolletta telefonica del cliente.\n",
    "\n",
    "Per esempio:\n",
    "- Un cliente che utilizza 10 GB di dati in un mese riceve una fattura di soli 100 dollari, poiché l'utilizzo è inferiore a 15 GB.  In altre parole, `get_phone_bill(10)` dovrebbe restituire `100`.\n",
    "- Un cliente che utilizza 15,1 GB (o 15 GB + 100 MB) di dati in un mese ha superato di 0,1 GB, quindi deve pagare 100 dollari (costo del piano), più 0,10 * 100 = 10 dollari, per una fattura totale di 110 dollari.  In altre parole, `get_phone_bill(15.1)` dovrebbe restituire `110`.\n",
    "\n",
    "Non arrotondare la risposta."
   ]
  },
  {
   "cell_type": "code",
   "execution_count": 31,
   "id": "3276a94c",
   "metadata": {},
   "outputs": [
    {
     "data": {
      "application/javascript": [
       "parent.postMessage({\"jupyterEvent\": \"custom.exercise_interaction\", \"data\": {\"outcomeType\": 1, \"valueTowardsCompletion\": 0.2, \"interactionType\": 1, \"questionType\": 2, \"questionId\": \"4_GetPhoneBill\", \"learnToolsVersion\": \"0.3.4\", \"failureMessage\": \"\", \"exceptionClass\": \"\", \"trace\": \"\"}}, \"*\")"
      ],
      "text/plain": [
       "<IPython.core.display.Javascript object>"
      ]
     },
     "metadata": {},
     "output_type": "display_data"
    },
    {
     "data": {
      "text/markdown": [
       "<span style=\"color:#33cc33\">Correct</span>"
      ],
      "text/plain": [
       "Correct"
      ]
     },
     "metadata": {},
     "output_type": "display_data"
    }
   ],
   "source": [
    "# TODO: Edit the function to return the correct bill for different\n",
    "# values of GB\n",
    "def get_phone_bill(gb):\n",
    "    if gb <= 15:\n",
    "        bill = 100\n",
    "    else:\n",
    "        bill = 100 + (gb - 15) * 100\n",
    "    return bill\n",
    "\n",
    "# Check your answer\n",
    "q4.check()"
   ]
  },
  {
   "cell_type": "markdown",
   "id": "4ce5baac",
   "metadata": {},
   "source": [
    "### Domanda 5"
   ]
  },
  {
   "cell_type": "markdown",
   "id": "6e427dc7",
   "metadata": {},
   "source": [
    "In Messico, gli alimenti e le bevande ad alto contenuto di grassi saturi, grassi trans, zuccheri, sodio e/o calorie sono contrassegnati da etichette di avvertimento che hanno lo scopo di aiutare i consumatori a fare scelte alimentari sane.\n",
    "\n",
    "Ad esempio, il [box of cookies](https://world.openfoodfacts.org/product/7501000673209/florentinas-gamesa) nell'immagine sottostante appare con due etichette (nell'angolo in alto a destra):\n",
    "- EXCESO CALORÍAS (in English, EXCESS CALORIES)\n",
    "- EXCESO AZÚCARES (in English, EXCESS SUGAR)\n",
    "\n",
    "<center><img src=\"https://i.imgur.com/VXYKHnM.png\" alt=\"drawing\" width=\"500\"/></center>\n",
    "\n",
    "In questa domanda, lavorerete con la funzione `get_labels()` che prende i dettagli nutrizionali di un alimento e stampa le etichette di avvertimento necessarie. Questa funzione riceve diversi input:\n",
    "- `food_type` = uno tra `\"solid\"` o `\"liquid\"`\n",
    "- `serving_size` = dimensione di una porzione (se solida, in grammi; se liquida, in millilitri)\n",
    "- `calories_per_serving` = calorie in una porzione\n",
    "- `saturated_fat_g` = grammi di grassi saturi in una porzione\n",
    "- `trans_fat_g` =  grammi di grassi trans in una porzione\n",
    "- `sodium_mg` = mg di sodio in una porzione\n",
    "- `sugars_g` = grammi di zucchero in una porzione\n",
    "\n",
    "Si noti che alcuni dei codici qui riportati non vi sembreranno familiari, dal momento che non abbiamo condiviso i dettagli di come funzionano alcune funzioni come `excess_sugar()` o `excess_saturated_fat()`. A grandi linee, però, si tratta di funzioni che restituiscono il valore `True` se si ritiene che l'alimento abbia un eccesso di zuccheri o di grassi saturi, rispettivamente. Queste funzioni sono usate all'interno della funzione `get_labels()` e ogni volta che c'è un eccesso (di zuccheri o grassi saturi, ma anche di grassi trans, sodio o calorie), viene stampata l'etichetta corrispondente."
   ]
  },
  {
   "cell_type": "code",
   "execution_count": 32,
   "id": "60b0cbd8",
   "metadata": {},
   "outputs": [],
   "source": [
    "# import functions needed to make get_labels work\n",
    "from learntools.intro_to_programming.ex4q5 import excess_sugar, excess_saturated_fat, excess_trans_fat, excess_sodium, excess_calories\n",
    "\n",
    "def get_labels(food_type, serving_size, calories_per_serving, saturated_fat_g, trans_fat_g, sodium_mg, sugars_g):\n",
    "    # Print messages based on findings\n",
    "    if excess_sugar(sugars_g, calories_per_serving) == True:\n",
    "        print(\"EXCESO AZÚCARES / EXCESS SUGAR\")\n",
    "    if excess_saturated_fat(saturated_fat_g, calories_per_serving) == True:\n",
    "        print(\"EXCESO GRASAS SATURADAS / EXCESS SATURATED FAT\")\n",
    "    if excess_trans_fat(trans_fat_g, calories_per_serving) == True:\n",
    "        print(\"EXCESO GRASAS TRANS / EXCESS TRANS FAT\")\n",
    "    if excess_sodium(calories_per_serving, sodium_mg) == True:\n",
    "        print(\"EXCESO SODIO / EXCESS SODIUM\")\n",
    "    if excess_calories(food_type, calories_per_serving, serving_size) == True:\n",
    "        print(\"EXCESO CALORÍAS / EXCESS CALORIES\")"
   ]
  },
  {
   "cell_type": "markdown",
   "id": "6fc8fe69",
   "metadata": {},
   "source": [
    "La prossima cella di codice mostra come utilizzare `get_labels()` per ottenere le etichette di avvertenza che l'alimento dovrebbe contenere.  Cominciamo con [bologna](https://world.openfoodfacts.org/product/4099100179378/bologna). Ecco [an image](https://imgur.com/Cfcx72e) con tutte le informazioni nutrizionali. Si noti che per questo alimento:\n",
    "- `food_type = solid` (perché la mortadella è un solido e non un liquido)\n",
    "- `serving_size = 32` (la dimensione della porzione è di 32 grammi)\n",
    "- `calories_per_serving = 110` (ci sono 110 calorie per porzione)\n",
    "- `saturated_fat_g = 2,5` (ci sono 2,5 grammi di grassi saturi per porzione)\n",
    "- `trans_fat_g = 0` (ci sono 0 grammi di grassi trans per porzione)\n",
    "- `sodium_mg = 400` (ci sono 400 mg di sodio per porzione)\n",
    "- `sugar_g = 1` (i dati nutrizionali dicono <1g, ma noi arrotondiamo a 1 grammo per porzione per sicurezza).\n",
    "\n",
    "Fornendo tutti questi valori alla funzione, possiamo stampare le etichette di avvertenza."
   ]
  },
  {
   "cell_type": "code",
   "execution_count": 33,
   "id": "aba0c9d6",
   "metadata": {},
   "outputs": [
    {
     "name": "stdout",
     "output_type": "stream",
     "text": [
      "EXCESO GRASAS SATURADAS / EXCESS SATURATED FAT\n",
      "EXCESO SODIO / EXCESS SODIUM\n",
      "EXCESO CALORÍAS / EXCESS CALORIES\n"
     ]
    }
   ],
   "source": [
    "# bologna https://world.openfoodfacts.org/product/4099100179378/bologna\n",
    "get_labels(\"solid\", 32, 110, 2.5, 0, 400, 1)"
   ]
  },
  {
   "cell_type": "markdown",
   "id": "314544d1",
   "metadata": {},
   "source": [
    "Questa mortadella ha tre etichette, stampate nell'output qui sopra.\n",
    "\n",
    "Per il resto di questa domanda, userete la stessa funzione `get_labels()` per determinare le etichette di altri alimenti.  Questa domanda è stata pensata per aiutarvi a fare pratica nel sentirvi a vostro agio con il codice scritto da altre persone, quando non avete il tempo di rivedere ogni singola riga di codice prima di interagire con esso.  Per esempio, quando seguirai il corso [Intro to Machine Learning course](http://www.kaggle.com/learn/intro-to-machine-learning), lavorerai con un pacchetto Python chiamato `scikit-learn`, che è una grande raccolta di codice che imparerai a eseguire senza rivedere tutto il codice in dettaglio (perché ci vorrebbe troppo tempo e puoi fidarti che sia stato implementato correttamente).\n",
    "\n",
    "In generale, man mano che si continua a codificare in Python, spesso si eseguirà codice scritto da altre persone. Questa è una pratica comune per i programmatori avanzati.\n",
    "\n",
    "Nella cella di codice successiva, inserite i valori per [this cereal](https://world.openfoodfacts.org/product/7501008023624/zucaritas-kellogg-s). Ecco [an image](https://imgur.com/a/MUxzHVU) con tutte le informazioni nutrizionali.\n",
    "\n",
    "**Nota**: l'esecuzione della riga di codice sottostante così com'è restituirà un errore. È necessario inserire prima i valori nutrizionali."
   ]
  },
  {
   "cell_type": "code",
   "execution_count": 44,
   "id": "c37e678c",
   "metadata": {},
   "outputs": [
    {
     "name": "stdout",
     "output_type": "stream",
     "text": [
      "EXCESO AZÚCARES / EXCESS SUGAR\n",
      "EXCESO SODIO / EXCESS SODIUM\n",
      "EXCESO CALORÍAS / EXCESS CALORIES\n"
     ]
    }
   ],
   "source": [
    "# zucaritas cereal https://world.openfoodfacts.org/product/7501008023624/zucaritas-kellogg-s\n",
    "# TODO: Uncomment the line below, fill in the values, and run the function\n",
    "get_labels('solid', 40, 150, 0, 0, 150, 16)"
   ]
  },
  {
   "cell_type": "code",
   "execution_count": 45,
   "id": "1059ee60",
   "metadata": {},
   "outputs": [
    {
     "name": "stdout",
     "output_type": "stream",
     "text": [
      "EXCESO GRASAS SATURADAS / EXCESS SATURATED FAT\n",
      "EXCESO GRASAS TRANS / EXCESS TRANS FAT\n",
      "EXCESO CALORÍAS / EXCESS CALORIES\n"
     ]
    }
   ],
   "source": [
    "# mozzarella sticks https://world-es.openfoodfacts.org/producto/0062325540104/mozzarella-cheese-sticks\n",
    "# TODO: Uncomment the line below, fill in the values, and run the function\n",
    "get_labels('solid', 168, 323*168/100, 14.286, 23.81-14.286,0, 1)"
   ]
  },
  {
   "cell_type": "code",
   "execution_count": 46,
   "id": "1edd0d1f",
   "metadata": {},
   "outputs": [
    {
     "name": "stdout",
     "output_type": "stream",
     "text": [
      "EXCESO GRASAS SATURADAS / EXCESS SATURATED FAT\n",
      "EXCESO CALORÍAS / EXCESS CALORIES\n"
     ]
    }
   ],
   "source": [
    "# pillsbury cookies https://world.openfoodfacts.org/product/0069700118545/biscuits-au-sucre-pretraches\n",
    "# TODO: Uncomment the line below, fill in the values, and run the function\n",
    "get_labels('solid', 30, 120, 1.5, 0.1, 110, 1)"
   ]
  },
  {
   "cell_type": "code",
   "execution_count": 47,
   "id": "c8647b03",
   "metadata": {},
   "outputs": [
    {
     "name": "stdout",
     "output_type": "stream",
     "text": [
      "EXCESO AZÚCARES / EXCESS SUGAR\n"
     ]
    }
   ],
   "source": [
    "# sunkist orange soda https://world-es.openfoodfacts.org/producto/0078000113464/orange-soda-sunkist\n",
    "# TODO: Uncomment the line below, fill in the values, and run the function\n",
    "get_labels('liquid', 355, 160, 0, 0, 65, 44)"
   ]
  },
  {
   "cell_type": "code",
   "execution_count": 48,
   "id": "e7d3696c",
   "metadata": {},
   "outputs": [
    {
     "data": {
      "application/javascript": [
       "parent.postMessage({\"jupyterEvent\": \"custom.exercise_interaction\", \"data\": {\"outcomeType\": 1, \"valueTowardsCompletion\": 0.2, \"interactionType\": 1, \"questionType\": 2, \"questionId\": \"5_GetLabels\", \"learnToolsVersion\": \"0.3.4\", \"failureMessage\": \"\", \"exceptionClass\": \"\", \"trace\": \"\"}}, \"*\")"
      ],
      "text/plain": [
       "<IPython.core.display.Javascript object>"
      ]
     },
     "metadata": {},
     "output_type": "display_data"
    },
    {
     "data": {
      "text/markdown": [
       "<span style=\"color:#33cc33\">Once you have determined the labels for all of the food items, you're ready to move on to the next lesson!</span>"
      ],
      "text/plain": [
       "Once you have determined the labels for all of the food items, you're ready to move on to the next lesson!"
      ]
     },
     "metadata": {},
     "output_type": "display_data"
    }
   ],
   "source": [
    "# Get credit for completing the problem\n",
    "q5.check()"
   ]
  }
 ],
 "metadata": {
  "kernelspec": {
   "display_name": "Python 3 (ipykernel)",
   "language": "python",
   "name": "python3"
  },
  "language_info": {
   "codemirror_mode": {
    "name": "ipython",
    "version": 3
   },
   "file_extension": ".py",
   "mimetype": "text/x-python",
   "name": "python",
   "nbconvert_exporter": "python",
   "pygments_lexer": "ipython3",
   "version": "3.9.7"
  }
 },
 "nbformat": 4,
 "nbformat_minor": 5
}
