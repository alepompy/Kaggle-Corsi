{
 "cells": [
  {
   "cell_type": "markdown",
   "id": "66ada86f",
   "metadata": {},
   "source": [
    "## Esercizio"
   ]
  },
  {
   "cell_type": "markdown",
   "id": "63fa004d",
   "metadata": {},
   "source": [
    "Le competizioni di apprendimento automatico sono un ottimo modo per migliorare le proprie competenze nella scienza dei dati e misurare i propri progressi.\n",
    "\n",
    "Nel prossimo esercizio, creerete e invierete le previsioni per la competizione House Prices per gli utenti di Kaggle Learn.(https://www.kaggle.com/c/home-data-for-ml-course)"
   ]
  },
  {
   "cell_type": "markdown",
   "id": "565cbb1a",
   "metadata": {},
   "source": [
    "In questo esercizio, creerete e invierete previsioni per una competizione Kaggle. Si potrà poi migliorare il modello (ad esempio, aggiungendo funzionalità) per applicare quanto appreso e scalare la classifica.\n",
    "\n",
    "Iniziare eseguendo la cella di codice sottostante per impostare la verifica del codice e i percorsi dei file per il set di dati."
   ]
  },
  {
   "cell_type": "code",
   "execution_count": 26,
   "id": "43e3d3c0",
   "metadata": {},
   "outputs": [
    {
     "name": "stderr",
     "output_type": "stream",
     "text": [
      "WARNING:root:Ignoring repeated attempt to bind to globals\n"
     ]
    }
   ],
   "source": [
    "# Set up code checking\n",
    "from learntools.core import binder\n",
    "binder.bind(globals())\n",
    "from learntools.machine_learning.ex7 import *\n",
    "\n",
    "# Set up filepaths\n",
    "import os\n",
    "if not os.path.exists(\"D:/Users/Alessio/OneDrive/Python/Kaggle/Intro to Machine Learning/train.csv\"):\n",
    "    os.symlink(\"D:/Users/Alessio/OneDrive/Python/Kaggle/Intro to Machine Learning/train.csv\")  \n",
    "    os.symlink(\"D:/Users/Alessio/OneDrive/Python/Kaggle/Intro to Machine Learning/test.csv\") "
   ]
  },
  {
   "cell_type": "code",
   "execution_count": 27,
   "id": "a9de87f9",
   "metadata": {},
   "outputs": [
    {
     "name": "stdout",
     "output_type": "stream",
     "text": [
      "Validation MAE for Random Forest Model: 21,857\n"
     ]
    }
   ],
   "source": [
    "# Import helpful libraries\n",
    "import pandas as pd\n",
    "from sklearn.ensemble import RandomForestRegressor\n",
    "from sklearn.metrics import mean_absolute_error\n",
    "from sklearn.model_selection import train_test_split\n",
    "\n",
    "# Load the data, and separate the target\n",
    "iowa_file_path = 'D:/Users/Alessio/OneDrive/Python/Kaggle/Intro to Machine Learning/train.csv'\n",
    "home_data = pd.read_csv(iowa_file_path)\n",
    "y = home_data.SalePrice\n",
    "\n",
    "# Create X (After completing the exercise, you can return to modify this line!)\n",
    "features = ['LotArea', 'YearBuilt', '1stFlrSF', '2ndFlrSF', 'FullBath', 'BedroomAbvGr', 'TotRmsAbvGrd']\n",
    "\n",
    "# Select columns corresponding to features, and preview the data\n",
    "X = home_data[features]\n",
    "X.head()\n",
    "\n",
    "# Split into validation and training data\n",
    "train_X, val_X, train_y, val_y = train_test_split(X, y, random_state=1)\n",
    "\n",
    "# Define a random forest model\n",
    "rf_model = RandomForestRegressor(random_state=1)\n",
    "rf_model.fit(train_X, train_y)\n",
    "rf_val_predictions = rf_model.predict(val_X)\n",
    "rf_val_mae = mean_absolute_error(rf_val_predictions, val_y)\n",
    "\n",
    "print(\"Validation MAE for Random Forest Model: {:,.0f}\".format(rf_val_mae))"
   ]
  },
  {
   "cell_type": "markdown",
   "id": "4439690c",
   "metadata": {},
   "source": [
    "### Train un modello per la competizione\n",
    "La cella di codice precedente addestra un **modello Random Forest su train_X e train_y**.\n",
    "\n",
    "Usare la cella di codice sottostante per costruire un **modello Random Forest** e addestrarlo su tutti gli elementi X e y."
   ]
  },
  {
   "cell_type": "code",
   "execution_count": 18,
   "id": "888ba0c5",
   "metadata": {},
   "outputs": [
    {
     "data": {
      "text/html": [
       "<style>#sk-container-id-3 {color: black;background-color: white;}#sk-container-id-3 pre{padding: 0;}#sk-container-id-3 div.sk-toggleable {background-color: white;}#sk-container-id-3 label.sk-toggleable__label {cursor: pointer;display: block;width: 100%;margin-bottom: 0;padding: 0.3em;box-sizing: border-box;text-align: center;}#sk-container-id-3 label.sk-toggleable__label-arrow:before {content: \"▸\";float: left;margin-right: 0.25em;color: #696969;}#sk-container-id-3 label.sk-toggleable__label-arrow:hover:before {color: black;}#sk-container-id-3 div.sk-estimator:hover label.sk-toggleable__label-arrow:before {color: black;}#sk-container-id-3 div.sk-toggleable__content {max-height: 0;max-width: 0;overflow: hidden;text-align: left;background-color: #f0f8ff;}#sk-container-id-3 div.sk-toggleable__content pre {margin: 0.2em;color: black;border-radius: 0.25em;background-color: #f0f8ff;}#sk-container-id-3 input.sk-toggleable__control:checked~div.sk-toggleable__content {max-height: 200px;max-width: 100%;overflow: auto;}#sk-container-id-3 input.sk-toggleable__control:checked~label.sk-toggleable__label-arrow:before {content: \"▾\";}#sk-container-id-3 div.sk-estimator input.sk-toggleable__control:checked~label.sk-toggleable__label {background-color: #d4ebff;}#sk-container-id-3 div.sk-label input.sk-toggleable__control:checked~label.sk-toggleable__label {background-color: #d4ebff;}#sk-container-id-3 input.sk-hidden--visually {border: 0;clip: rect(1px 1px 1px 1px);clip: rect(1px, 1px, 1px, 1px);height: 1px;margin: -1px;overflow: hidden;padding: 0;position: absolute;width: 1px;}#sk-container-id-3 div.sk-estimator {font-family: monospace;background-color: #f0f8ff;border: 1px dotted black;border-radius: 0.25em;box-sizing: border-box;margin-bottom: 0.5em;}#sk-container-id-3 div.sk-estimator:hover {background-color: #d4ebff;}#sk-container-id-3 div.sk-parallel-item::after {content: \"\";width: 100%;border-bottom: 1px solid gray;flex-grow: 1;}#sk-container-id-3 div.sk-label:hover label.sk-toggleable__label {background-color: #d4ebff;}#sk-container-id-3 div.sk-serial::before {content: \"\";position: absolute;border-left: 1px solid gray;box-sizing: border-box;top: 0;bottom: 0;left: 50%;z-index: 0;}#sk-container-id-3 div.sk-serial {display: flex;flex-direction: column;align-items: center;background-color: white;padding-right: 0.2em;padding-left: 0.2em;position: relative;}#sk-container-id-3 div.sk-item {position: relative;z-index: 1;}#sk-container-id-3 div.sk-parallel {display: flex;align-items: stretch;justify-content: center;background-color: white;position: relative;}#sk-container-id-3 div.sk-item::before, #sk-container-id-3 div.sk-parallel-item::before {content: \"\";position: absolute;border-left: 1px solid gray;box-sizing: border-box;top: 0;bottom: 0;left: 50%;z-index: -1;}#sk-container-id-3 div.sk-parallel-item {display: flex;flex-direction: column;z-index: 1;position: relative;background-color: white;}#sk-container-id-3 div.sk-parallel-item:first-child::after {align-self: flex-end;width: 50%;}#sk-container-id-3 div.sk-parallel-item:last-child::after {align-self: flex-start;width: 50%;}#sk-container-id-3 div.sk-parallel-item:only-child::after {width: 0;}#sk-container-id-3 div.sk-dashed-wrapped {border: 1px dashed gray;margin: 0 0.4em 0.5em 0.4em;box-sizing: border-box;padding-bottom: 0.4em;background-color: white;}#sk-container-id-3 div.sk-label label {font-family: monospace;font-weight: bold;display: inline-block;line-height: 1.2em;}#sk-container-id-3 div.sk-label-container {text-align: center;}#sk-container-id-3 div.sk-container {/* jupyter's `normalize.less` sets `[hidden] { display: none; }` but bootstrap.min.css set `[hidden] { display: none !important; }` so we also need the `!important` here to be able to override the default hidden behavior on the sphinx rendered scikit-learn.org. See: https://github.com/scikit-learn/scikit-learn/issues/21755 */display: inline-block !important;position: relative;}#sk-container-id-3 div.sk-text-repr-fallback {display: none;}</style><div id=\"sk-container-id-3\" class=\"sk-top-container\"><div class=\"sk-text-repr-fallback\"><pre>RandomForestRegressor()</pre><b>In a Jupyter environment, please rerun this cell to show the HTML representation or trust the notebook. <br />On GitHub, the HTML representation is unable to render, please try loading this page with nbviewer.org.</b></div><div class=\"sk-container\" hidden><div class=\"sk-item\"><div class=\"sk-estimator sk-toggleable\"><input class=\"sk-toggleable__control sk-hidden--visually\" id=\"sk-estimator-id-3\" type=\"checkbox\" checked><label for=\"sk-estimator-id-3\" class=\"sk-toggleable__label sk-toggleable__label-arrow\">RandomForestRegressor</label><div class=\"sk-toggleable__content\"><pre>RandomForestRegressor()</pre></div></div></div></div></div>"
      ],
      "text/plain": [
       "RandomForestRegressor()"
      ]
     },
     "execution_count": 18,
     "metadata": {},
     "output_type": "execute_result"
    }
   ],
   "source": [
    "# To improve accuracy, create a new Random Forest model which you will train on all training data\n",
    "rf_model_on_full_data = RandomForestRegressor()\n",
    "\n",
    "# fit rf_model_on_full_data on all data from the training data\n",
    "rf_model_on_full_data.fit(X, y)"
   ]
  },
  {
   "cell_type": "code",
   "execution_count": 31,
   "id": "e9b7d3d3",
   "metadata": {
    "scrolled": false
   },
   "outputs": [],
   "source": [
    "# path to file you will use for predictions\n",
    "test_data_path = \"D:/Users/Alessio/OneDrive/Python/Kaggle/Intro to Machine Learning/test.csv\"\n",
    "# read test data file using pandas\n",
    "test_data = pd.read_csv(test_data_path)\n",
    "# create test_X which comes from test_data but includes only the columns you used for prediction.\n",
    "# The list of columns is stored in a variable called features\n",
    "test_X = test_data[features]\n",
    "\n",
    "# make predictions which we will submit. \n",
    "test_preds = rf_model_on_full_data.predict(test_X)"
   ]
  },
  {
   "cell_type": "markdown",
   "id": "ac493fd7",
   "metadata": {},
   "source": [
    "### Genera una submission \n",
    "Eseguite la cella di codice qui sotto per generare un file CSV con i vostri pronostici che potrete utilizzare per presentare al concorso."
   ]
  },
  {
   "cell_type": "code",
   "execution_count": 32,
   "id": "6668dacf",
   "metadata": {},
   "outputs": [],
   "source": [
    "# Run the code to save predictions in the format used for competition scoring\n",
    "output = pd.DataFrame({'Id': test_data.Id,\n",
    "                       'SalePrice': test_preds})\n",
    "output.to_csv('submission.csv', index=False)"
   ]
  },
  {
   "cell_type": "markdown",
   "id": "ea89ab9e",
   "metadata": {},
   "source": [
    "### Altri progressi\n",
    "Ci sono molti modi per migliorare il modello e sperimentare è un ottimo modo per imparare a questo punto.\n",
    "\n",
    "Il modo migliore per migliorare il modello è aggiungere caratteristiche. Per aggiungere altre caratteristiche ai dati, si può tornare alla prima cella di codice e modificare questa riga di codice per includere altri nomi di colonne:\n",
    "\n",
    "features = ['LotArea', 'YearBuilt', '1stFlrSF', '2ndFlrSF', 'FullBath', 'BedroomAbvGr', 'TotRmsAbvGrd'].\n",
    "\n",
    "Alcune caratteristiche causeranno errori a causa di problemi quali valori mancanti o tipi di dati non numerici. Ecco un elenco completo di potenziali colonne da utilizzare e che non generano errori:\n",
    "\n",
    "- 'MSSubClass'\n",
    "- 'LotArea'\n",
    "- 'OverallQual'\n",
    "- 'OverallCond'\n",
    "- 'YearBuilt'\n",
    "- 'YearRemodAdd'\n",
    "- '1stFlrSF'\n",
    "- '2ndFlrSF'\n",
    "- 'LowQualFinSF'\n",
    "- 'GrLivArea'\n",
    "- 'FullBath'\n",
    "- 'HalfBath'\n",
    "- 'BedroomAbvGr'\n",
    "- 'KitchenAbvGr'\n",
    "- 'TotRmsAbvGrd'\n",
    "- 'Fireplaces'\n",
    "- 'WoodDeckSF'\n",
    "- 'OpenPorchSF'\n",
    "- 'EnclosedPorch'\n",
    "- '3SsnPorch'\n",
    "- 'ScreenPorch'\n",
    "- 'PoolArea'\n",
    "- 'MiscVal'\n",
    "- 'MoSold'\n",
    "- 'YrSold'  \n",
    "\n",
    "Osservate l'elenco delle colonne e pensate a cosa potrebbe influenzare i prezzi delle case. Per saperne di più su ciascuna di queste caratteristiche, consultare la descrizione dei dati nella pagina della concorrenza.\n",
    "\n",
    "Dopo aver aggiornato la cella di codice di cui sopra che definisce le caratteristiche, eseguire nuovamente tutte le celle di codice per valutare il modello e generare un nuovo file di presentazione."
   ]
  }
 ],
 "metadata": {
  "kernelspec": {
   "display_name": "Python 3 (ipykernel)",
   "language": "python",
   "name": "python3"
  },
  "language_info": {
   "codemirror_mode": {
    "name": "ipython",
    "version": 3
   },
   "file_extension": ".py",
   "mimetype": "text/x-python",
   "name": "python",
   "nbconvert_exporter": "python",
   "pygments_lexer": "ipython3",
   "version": "3.9.7"
  }
 },
 "nbformat": 4,
 "nbformat_minor": 5
}
