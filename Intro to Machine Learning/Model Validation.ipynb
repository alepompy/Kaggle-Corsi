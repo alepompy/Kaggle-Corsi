{
 "cells": [
  {
   "cell_type": "markdown",
   "id": "98957cb1",
   "metadata": {},
   "source": [
    "## Model Validation"
   ]
  },
  {
   "cell_type": "markdown",
   "id": "75d0ec76",
   "metadata": {},
   "source": [
    "È necessario valutare quasi tutti i modelli che si costruiscono. Nella maggior parte delle applicazioni (anche se non in tutte), la misura della qualità del modello è l'accuratezza predittiva. In altre parole, le previsioni del modello si avvicinano a ciò che accade realmente.\n",
    "\n",
    "Molte persone commettono un grosso errore quando misurano l'accuratezza predittiva. Fanno previsioni con i dati di addestramento e confrontano tali previsioni con i valori target dei dati di addestramento. Il problema di questo approccio e la sua soluzione si presenteranno tra poco, ma prima pensiamo a come fare.\n",
    "\n",
    "Per prima cosa è necessario riassumere la qualità del modello in modo comprensibile. Se si confrontano i valori previsti e quelli effettivi di 10.000 case, è probabile che si trovi un mix di previsioni buone e cattive. Esaminare un elenco di 10.000 valori previsti ed effettivi sarebbe inutile. Dobbiamo riassumere tutto questo in un'unica metrica.\n",
    "\n",
    "Esistono molte metriche per riassumere la qualità del modello, ma inizieremo con una chiamata **Errore Assoluto Medio** (detto anche Mean Absolute Error, **MAE**). Scomponiamo questa metrica partendo dall'ultima parola, errore.\n",
    "\n",
    "L'errore di previsione per ogni casa è\n",
    "$$ errore = actual - predicted $$\n",
    "Quindi, se una casa costa 150.000 dollari e voi avete previsto che sarebbe costata 100.000 dollari, l'errore è di 50.000 dollari.\n",
    "\n",
    "Con la metrica **MAE**, prendiamo il valore assoluto di ogni errore. Questo converte ogni errore in un numero positivo. Poi prendiamo la media di questi errori assoluti. Questa è la nostra misura della qualità del modello. In parole povere, si può dire che\n",
    "\n",
    "_In media, le nostre previsioni sono sbagliate di circa X._\n",
    "\n",
    "Per calcolare il MAE, abbiamo bisogno di un modello."
   ]
  },
  {
   "cell_type": "code",
   "execution_count": 1,
   "id": "11719130",
   "metadata": {},
   "outputs": [
    {
     "data": {
      "text/plain": [
       "DecisionTreeRegressor()"
      ]
     },
     "execution_count": 1,
     "metadata": {},
     "output_type": "execute_result"
    }
   ],
   "source": [
    "# Data Loading Code Hidden Here\n",
    "import pandas as pd\n",
    "\n",
    "# Load data\n",
    "melbourne_file_path = 'D:/Users/Alessio//OneDrive/Python/Kaggle/Intro to Machine Learning/melb_data.csv'\n",
    "melbourne_data = pd.read_csv(melbourne_file_path) \n",
    "# Filter rows with missing price values\n",
    "filtered_melbourne_data = melbourne_data.dropna(axis=0)\n",
    "# Choose target and features\n",
    "y = filtered_melbourne_data.Price\n",
    "melbourne_features = ['Rooms', 'Bathroom', 'Landsize', 'BuildingArea', \n",
    "                        'YearBuilt', 'Lattitude', 'Longtitude']\n",
    "X = filtered_melbourne_data[melbourne_features]\n",
    "\n",
    "from sklearn.tree import DecisionTreeRegressor\n",
    "# Define model\n",
    "melbourne_model = DecisionTreeRegressor()\n",
    "# Fit model\n",
    "melbourne_model.fit(X, y)"
   ]
  },
  {
   "cell_type": "markdown",
   "id": "2494c6de",
   "metadata": {},
   "source": [
    "Una volta ottenuto un modello, ecco come calcolare l'**errore assoluto medio, MAE**:"
   ]
  },
  {
   "cell_type": "code",
   "execution_count": 2,
   "id": "89e7af24",
   "metadata": {},
   "outputs": [
    {
     "data": {
      "text/plain": [
       "434.71594577146544"
      ]
     },
     "execution_count": 2,
     "metadata": {},
     "output_type": "execute_result"
    }
   ],
   "source": [
    "from sklearn.metrics import mean_absolute_error\n",
    "\n",
    "predicted_home_prices = melbourne_model.predict(X) # predict()\n",
    "mean_absolute_error(y, predicted_home_prices) # formula MAE"
   ]
  },
  {
   "cell_type": "markdown",
   "id": "e600c7f5",
   "metadata": {},
   "source": [
    "**Il problema dei punteggi nel campione**.\n",
    "\n",
    "La misura appena calcolata può essere definita un punteggio nel sample. Abbiamo utilizzato un unico sample di case sia per costruire il modello che per valutarlo. Ecco perché questo è negativo.\n",
    "\n",
    "Immaginate che, nel grande mercato immobiliare, il colore della porta non sia correlato al prezzo della casa.\n",
    "\n",
    "Tuttavia, nel campione di dati utilizzato per costruire il modello, tutte le case con porte verdi erano molto costose. Il modello ha il compito di trovare modelli che prevedano i prezzi delle case, quindi vedrà questo modello e prevederà sempre prezzi elevati per le case con porte verdi.\n",
    "\n",
    "Poiché questo modello è stato ricavato dai dati di addestramento, il modello apparirà accurato nei dati di addestramento.\n",
    "\n",
    "Ma se questo schema non si mantiene quando il modello vede nuovi dati, il modello sarebbe molto impreciso quando viene utilizzato nella pratica.\n",
    "\n",
    "Dal momento che il valore pratico dei modelli deriva dall'elaborazione di previsioni su nuovi dati, misuriamo le prestazioni su dati che non sono stati utilizzati per costruire il modello. Il modo più semplice per farlo è escludere alcuni dati dal processo di costruzione del modello e poi usarli per testare l'accuratezza del modello su dati che non ha mai visto prima. Questi dati sono chiamati **Validation Data**."
   ]
  },
  {
   "cell_type": "markdown",
   "id": "9a96ff5a",
   "metadata": {},
   "source": [
    "La libreria **scikit-learn** ha una funzione **train_test_split** per dividere i dati in due parti. Utilizzeremo una parte di questi dati come dati di addestramento per adattare il modello e utilizzeremo gli altri dati come dati di validazione per calcolare l'errore medio-assoluto."
   ]
  },
  {
   "cell_type": "code",
   "execution_count": 3,
   "id": "dde904ce",
   "metadata": {},
   "outputs": [
    {
     "name": "stdout",
     "output_type": "stream",
     "text": [
      "260561.22659780504\n"
     ]
    }
   ],
   "source": [
    "from sklearn.model_selection import train_test_split\n",
    "\n",
    "# split data into training and validation data, for both features and target\n",
    "# The split is based on a random number generator. Supplying a numeric value to\n",
    "# the random_state argument guarantees we get the same split every time we\n",
    "# run this script.\n",
    "train_X, val_X, train_y, val_y = train_test_split(X, y, random_state = 0) # train_test_split() per dividere i dati\n",
    "                    # random_state = Controls the shuffling applied to the data before applying the split. \n",
    "                                        # Pass an int for reproducible output across multiple function calls.\n",
    "# Define model\n",
    "melbourne_model = DecisionTreeRegressor()\n",
    "# Fit model\n",
    "melbourne_model.fit(train_X, train_y) # fttta il modello\n",
    "\n",
    "# get predicted prices on validation data\n",
    "val_predictions = melbourne_model.predict(val_X) # predict()\n",
    "print(mean_absolute_error(val_y, val_predictions)) #formula MAE"
   ]
  },
  {
   "cell_type": "markdown",
   "id": "5f101459",
   "metadata": {},
   "source": [
    "L'errore assoluto medio per i dati all'interno del campione era di circa 500 dollari. Al di fuori del campione è di oltre 250.000 dollari.\n",
    "\n",
    "Questa è la differenza tra un modello quasi esattamente corretto e uno inutilizzabile per la maggior parte degli scopi pratici. Come punto di riferimento, il valore medio delle case nei dati di validazione è di 1,1 milioni di dollari. Quindi l'errore nei nuovi dati è circa un quarto del valore medio della casa.\n",
    "\n",
    "Ci sono molti modi per migliorare questo modello, ad esempio sperimentando per trovare caratteristiche migliori o tipi di modelli diversi."
   ]
  },
  {
   "cell_type": "markdown",
   "id": "234f5ed0",
   "metadata": {},
   "source": [
    "## Esercizi"
   ]
  },
  {
   "cell_type": "code",
   "execution_count": 4,
   "id": "2ec3510b",
   "metadata": {},
   "outputs": [
    {
     "name": "stdout",
     "output_type": "stream",
     "text": [
      "First in-sample predictions: [208500. 181500. 223500. 140000. 250000.]\n",
      "Actual target values for those homes: [208500, 181500, 223500, 140000, 250000]\n",
      "Setup Complete\n"
     ]
    }
   ],
   "source": [
    "# Code you have previously used to load data\n",
    "import pandas as pd\n",
    "from sklearn.tree import DecisionTreeRegressor\n",
    "\n",
    "# Path of the file to read\n",
    "iowa_file_path = 'D:/Users/Alessio//OneDrive/Python/Kaggle/Intro to Machine Learning/train.csv'\n",
    "\n",
    "home_data = pd.read_csv(iowa_file_path)\n",
    "y = home_data.SalePrice\n",
    "feature_columns = ['LotArea', 'YearBuilt', '1stFlrSF', '2ndFlrSF', 'FullBath', 'BedroomAbvGr', 'TotRmsAbvGrd']\n",
    "X = home_data[feature_columns]\n",
    "\n",
    "# Specify Model\n",
    "iowa_model = DecisionTreeRegressor()\n",
    "# Fit Model\n",
    "iowa_model.fit(X, y)\n",
    "\n",
    "print(\"First in-sample predictions:\", iowa_model.predict(X.head()))\n",
    "print(\"Actual target values for those homes:\", y.head().tolist())\n",
    "\n",
    "# Set up code checking\n",
    "from learntools.core import binder\n",
    "binder.bind(globals())\n",
    "from learntools.machine_learning.ex4 import *\n",
    "print(\"Setup Complete\")"
   ]
  },
  {
   "cell_type": "markdown",
   "id": "d8f1422a",
   "metadata": {},
   "source": [
    "### Domanda 1\n",
    "Split your data.   \n",
    "Usare la funzione train_test_split per dividere i dati.\n",
    "\n",
    "Assegnategli l'argomento random_state=1, in modo che le funzioni di controllo sappiano cosa aspettarsi quando verificano il vostro codice.\n",
    "\n",
    "Ricordiamo che le caratteristiche sono caricate nel DataFrame **X** e l'obiettivo è caricato in **y**."
   ]
  },
  {
   "cell_type": "code",
   "execution_count": 5,
   "id": "a8596b58",
   "metadata": {},
   "outputs": [
    {
     "data": {
      "application/javascript": [
       "parent.postMessage({\"jupyterEvent\": \"custom.exercise_interaction\", \"data\": {\"outcomeType\": 1, \"valueTowardsCompletion\": 0.25, \"interactionType\": 1, \"questionType\": 2, \"questionId\": \"1_SplitData\", \"learnToolsVersion\": \"0.3.4\", \"failureMessage\": \"\", \"exceptionClass\": \"\", \"trace\": \"\"}}, \"*\")"
      ],
      "text/plain": [
       "<IPython.core.display.Javascript object>"
      ]
     },
     "metadata": {},
     "output_type": "display_data"
    },
    {
     "data": {
      "text/markdown": [
       "<span style=\"color:#33cc33\">Correct</span>"
      ],
      "text/plain": [
       "Correct"
      ]
     },
     "metadata": {},
     "output_type": "display_data"
    }
   ],
   "source": [
    "# Import the train_test_split function and uncomment\n",
    "from sklearn.model_selection import train_test_split\n",
    "\n",
    "# fill in and uncomment\n",
    "train_X, val_X, train_y, val_y = train_test_split(X, y, random_state = 1) # train_test_split() per dividere i dati\n",
    "\n",
    "# Check your answer\n",
    "step_1.check()"
   ]
  },
  {
   "cell_type": "markdown",
   "id": "fc634105",
   "metadata": {},
   "source": [
    "### Domanda 2\n",
    "Specificare e adattare il modello.   \n",
    "Creare un modello **DecisionTreeRegressor** e adattarlo ai dati pertinenti. Impostare nuovamente random_state a 1 quando si crea il modello."
   ]
  },
  {
   "cell_type": "code",
   "execution_count": 7,
   "id": "cd701dba",
   "metadata": {},
   "outputs": [
    {
     "name": "stdout",
     "output_type": "stream",
     "text": [
      "[186500. 184000. 130000.  92000. 164500. 220000. 335000. 144152. 215000.\n",
      " 262000.]\n",
      "[186500. 184000. 130000.  92000. 164500. 220000. 335000. 144152. 215000.\n",
      " 262000.]\n"
     ]
    },
    {
     "data": {
      "application/javascript": [
       "parent.postMessage({\"jupyterEvent\": \"custom.exercise_interaction\", \"data\": {\"outcomeType\": 1, \"valueTowardsCompletion\": 0.25, \"interactionType\": 1, \"questionType\": 2, \"questionId\": \"2_FitModelWithTrain\", \"learnToolsVersion\": \"0.3.4\", \"failureMessage\": \"\", \"exceptionClass\": \"\", \"trace\": \"\"}}, \"*\")"
      ],
      "text/plain": [
       "<IPython.core.display.Javascript object>"
      ]
     },
     "metadata": {},
     "output_type": "display_data"
    },
    {
     "data": {
      "text/markdown": [
       "<span style=\"color:#33cc33\">Correct</span>"
      ],
      "text/plain": [
       "Correct"
      ]
     },
     "metadata": {},
     "output_type": "display_data"
    }
   ],
   "source": [
    "# You imported DecisionTreeRegressor in your last exercise\n",
    "# and that code has been copied to the setup code above. So, no need to\n",
    "# import it again\n",
    "\n",
    "# Specify the model\n",
    "iowa_model = DecisionTreeRegressor(random_state=1)\n",
    "\n",
    "# Fit iowa_model with the training data (train_X e train_y).\n",
    "iowa_model.fit(train_X, train_y)\n",
    "\n",
    "# Check your answer\n",
    "step_2.check()"
   ]
  },
  {
   "cell_type": "markdown",
   "id": "c8249916",
   "metadata": {},
   "source": [
    "### Domanda 3\n",
    "Fai previsioni con i Validation Data."
   ]
  },
  {
   "cell_type": "code",
   "execution_count": 8,
   "id": "ce588571",
   "metadata": {},
   "outputs": [
    {
     "data": {
      "application/javascript": [
       "parent.postMessage({\"jupyterEvent\": \"custom.exercise_interaction\", \"data\": {\"outcomeType\": 1, \"valueTowardsCompletion\": 0.25, \"interactionType\": 1, \"questionType\": 2, \"questionId\": \"3_ValPreds\", \"learnToolsVersion\": \"0.3.4\", \"failureMessage\": \"\", \"exceptionClass\": \"\", \"trace\": \"\"}}, \"*\")"
      ],
      "text/plain": [
       "<IPython.core.display.Javascript object>"
      ]
     },
     "metadata": {},
     "output_type": "display_data"
    },
    {
     "data": {
      "text/markdown": [
       "<span style=\"color:#33cc33\">Correct</span>"
      ],
      "text/plain": [
       "Correct"
      ]
     },
     "metadata": {},
     "output_type": "display_data"
    }
   ],
   "source": [
    "# Predict with all validation observations\n",
    "val_predictions = iowa_model.predict(val_X)\n",
    "\n",
    "# Check your answer\n",
    "step_3.check()"
   ]
  },
  {
   "cell_type": "markdown",
   "id": "de5eae7c",
   "metadata": {},
   "source": [
    "verificare le previsioni e i valori effettivi dai dati di convalida."
   ]
  },
  {
   "cell_type": "code",
   "execution_count": 14,
   "id": "2d0ec66d",
   "metadata": {},
   "outputs": [
    {
     "name": "stdout",
     "output_type": "stream",
     "text": [
      "755000.0\n",
      "755000.0\n"
     ]
    }
   ],
   "source": [
    "# print the top few validation predictions\n",
    "print(max(val_predictions))\n",
    "# print the top few actual prices from validation data\n",
    "print(max(iowa_model.predict(X)))"
   ]
  },
  {
   "cell_type": "markdown",
   "id": "a823deac",
   "metadata": {},
   "source": [
    "### Domanda 4"
   ]
  },
  {
   "cell_type": "markdown",
   "id": "fd48fc5c",
   "metadata": {},
   "source": [
    "Calcola la Mean Absolute Error nei Validation Data"
   ]
  },
  {
   "cell_type": "code",
   "execution_count": 10,
   "id": "4e4f44f0",
   "metadata": {},
   "outputs": [
    {
     "name": "stdout",
     "output_type": "stream",
     "text": [
      "29652.931506849316\n"
     ]
    },
    {
     "data": {
      "application/javascript": [
       "parent.postMessage({\"jupyterEvent\": \"custom.exercise_interaction\", \"data\": {\"outcomeType\": 1, \"valueTowardsCompletion\": 0.25, \"interactionType\": 1, \"questionType\": 1, \"questionId\": \"4_MAE\", \"learnToolsVersion\": \"0.3.4\", \"failureMessage\": \"\", \"exceptionClass\": \"\", \"trace\": \"\"}}, \"*\")"
      ],
      "text/plain": [
       "<IPython.core.display.Javascript object>"
      ]
     },
     "metadata": {},
     "output_type": "display_data"
    },
    {
     "data": {
      "text/markdown": [
       "<span style=\"color:#33cc33\">Correct</span>"
      ],
      "text/plain": [
       "Correct"
      ]
     },
     "metadata": {},
     "output_type": "display_data"
    }
   ],
   "source": [
    "from sklearn.metrics import mean_absolute_error\n",
    "val_mae = mean_absolute_error(val_y, val_predictions)\n",
    "\n",
    "# uncomment following line to see the validation_mae\n",
    "print(val_mae)\n",
    "\n",
    "# Check your answer\n",
    "step_4.check()"
   ]
  }
 ],
 "metadata": {
  "kernelspec": {
   "display_name": "Python 3 (ipykernel)",
   "language": "python",
   "name": "python3"
  },
  "language_info": {
   "codemirror_mode": {
    "name": "ipython",
    "version": 3
   },
   "file_extension": ".py",
   "mimetype": "text/x-python",
   "name": "python",
   "nbconvert_exporter": "python",
   "pygments_lexer": "ipython3",
   "version": "3.9.7"
  }
 },
 "nbformat": 4,
 "nbformat_minor": 5
}
