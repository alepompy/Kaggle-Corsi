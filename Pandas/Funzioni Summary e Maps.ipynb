{
 "cells": [
  {
   "cell_type": "markdown",
   "id": "c4b683b3",
   "metadata": {},
   "source": [
    "Non sempre i dati escono dalla memoria nel formato desiderato. A volte dobbiamo fare un po' di lavoro in più per riformattare i dati in base al compito da svolgere. Questa esercitazione illustra le diverse operazioni che possiamo applicare ai nostri dati per ottenere un input \"giusto\".\n",
    "\n",
    "Per iniziare l'esercizio di questo argomento, fate clic qui.\n",
    "\n",
    "Per la dimostrazione utilizzeremo i dati della rivista Wine Magazine."
   ]
  },
  {
   "cell_type": "code",
   "execution_count": 2,
   "id": "3c74070a",
   "metadata": {},
   "outputs": [],
   "source": [
    "import pandas as pd\n",
    "pd.set_option('max_rows', 5)\n",
    "import numpy as np\n",
    "reviews = pd.read_csv(\"D:/Users/Alessio/OneDrive/Python/Kaggle/Pandas/winemag-data-130k-v2.csv\", index_col=0)"
   ]
  },
  {
   "cell_type": "code",
   "execution_count": 3,
   "id": "067ddd95",
   "metadata": {},
   "outputs": [
    {
     "data": {
      "text/html": [
       "<div>\n",
       "<style scoped>\n",
       "    .dataframe tbody tr th:only-of-type {\n",
       "        vertical-align: middle;\n",
       "    }\n",
       "\n",
       "    .dataframe tbody tr th {\n",
       "        vertical-align: top;\n",
       "    }\n",
       "\n",
       "    .dataframe thead th {\n",
       "        text-align: right;\n",
       "    }\n",
       "</style>\n",
       "<table border=\"1\" class=\"dataframe\">\n",
       "  <thead>\n",
       "    <tr style=\"text-align: right;\">\n",
       "      <th></th>\n",
       "      <th>country</th>\n",
       "      <th>description</th>\n",
       "      <th>designation</th>\n",
       "      <th>points</th>\n",
       "      <th>price</th>\n",
       "      <th>province</th>\n",
       "      <th>region_1</th>\n",
       "      <th>region_2</th>\n",
       "      <th>taster_name</th>\n",
       "      <th>taster_twitter_handle</th>\n",
       "      <th>title</th>\n",
       "      <th>variety</th>\n",
       "      <th>winery</th>\n",
       "    </tr>\n",
       "  </thead>\n",
       "  <tbody>\n",
       "    <tr>\n",
       "      <th>0</th>\n",
       "      <td>Italy</td>\n",
       "      <td>Aromas include tropical fruit, broom, brimston...</td>\n",
       "      <td>Vulkà Bianco</td>\n",
       "      <td>87</td>\n",
       "      <td>NaN</td>\n",
       "      <td>Sicily &amp; Sardinia</td>\n",
       "      <td>Etna</td>\n",
       "      <td>NaN</td>\n",
       "      <td>Kerin O’Keefe</td>\n",
       "      <td>@kerinokeefe</td>\n",
       "      <td>Nicosia 2013 Vulkà Bianco  (Etna)</td>\n",
       "      <td>White Blend</td>\n",
       "      <td>Nicosia</td>\n",
       "    </tr>\n",
       "    <tr>\n",
       "      <th>1</th>\n",
       "      <td>Portugal</td>\n",
       "      <td>This is ripe and fruity, a wine that is smooth...</td>\n",
       "      <td>Avidagos</td>\n",
       "      <td>87</td>\n",
       "      <td>15.0</td>\n",
       "      <td>Douro</td>\n",
       "      <td>NaN</td>\n",
       "      <td>NaN</td>\n",
       "      <td>Roger Voss</td>\n",
       "      <td>@vossroger</td>\n",
       "      <td>Quinta dos Avidagos 2011 Avidagos Red (Douro)</td>\n",
       "      <td>Portuguese Red</td>\n",
       "      <td>Quinta dos Avidagos</td>\n",
       "    </tr>\n",
       "    <tr>\n",
       "      <th>...</th>\n",
       "      <td>...</td>\n",
       "      <td>...</td>\n",
       "      <td>...</td>\n",
       "      <td>...</td>\n",
       "      <td>...</td>\n",
       "      <td>...</td>\n",
       "      <td>...</td>\n",
       "      <td>...</td>\n",
       "      <td>...</td>\n",
       "      <td>...</td>\n",
       "      <td>...</td>\n",
       "      <td>...</td>\n",
       "      <td>...</td>\n",
       "    </tr>\n",
       "    <tr>\n",
       "      <th>129969</th>\n",
       "      <td>France</td>\n",
       "      <td>A dry style of Pinot Gris, this is crisp with ...</td>\n",
       "      <td>NaN</td>\n",
       "      <td>90</td>\n",
       "      <td>32.0</td>\n",
       "      <td>Alsace</td>\n",
       "      <td>Alsace</td>\n",
       "      <td>NaN</td>\n",
       "      <td>Roger Voss</td>\n",
       "      <td>@vossroger</td>\n",
       "      <td>Domaine Marcel Deiss 2012 Pinot Gris (Alsace)</td>\n",
       "      <td>Pinot Gris</td>\n",
       "      <td>Domaine Marcel Deiss</td>\n",
       "    </tr>\n",
       "    <tr>\n",
       "      <th>129970</th>\n",
       "      <td>France</td>\n",
       "      <td>Big, rich and off-dry, this is powered by inte...</td>\n",
       "      <td>Lieu-dit Harth Cuvée Caroline</td>\n",
       "      <td>90</td>\n",
       "      <td>21.0</td>\n",
       "      <td>Alsace</td>\n",
       "      <td>Alsace</td>\n",
       "      <td>NaN</td>\n",
       "      <td>Roger Voss</td>\n",
       "      <td>@vossroger</td>\n",
       "      <td>Domaine Schoffit 2012 Lieu-dit Harth Cuvée Car...</td>\n",
       "      <td>Gewürztraminer</td>\n",
       "      <td>Domaine Schoffit</td>\n",
       "    </tr>\n",
       "  </tbody>\n",
       "</table>\n",
       "<p>129971 rows × 13 columns</p>\n",
       "</div>"
      ],
      "text/plain": [
       "         country                                        description  \\\n",
       "0          Italy  Aromas include tropical fruit, broom, brimston...   \n",
       "1       Portugal  This is ripe and fruity, a wine that is smooth...   \n",
       "...          ...                                                ...   \n",
       "129969    France  A dry style of Pinot Gris, this is crisp with ...   \n",
       "129970    France  Big, rich and off-dry, this is powered by inte...   \n",
       "\n",
       "                          designation  points  price           province  \\\n",
       "0                        Vulkà Bianco      87    NaN  Sicily & Sardinia   \n",
       "1                            Avidagos      87   15.0              Douro   \n",
       "...                               ...     ...    ...                ...   \n",
       "129969                            NaN      90   32.0             Alsace   \n",
       "129970  Lieu-dit Harth Cuvée Caroline      90   21.0             Alsace   \n",
       "\n",
       "       region_1 region_2    taster_name taster_twitter_handle  \\\n",
       "0          Etna      NaN  Kerin O’Keefe          @kerinokeefe   \n",
       "1           NaN      NaN     Roger Voss            @vossroger   \n",
       "...         ...      ...            ...                   ...   \n",
       "129969   Alsace      NaN     Roger Voss            @vossroger   \n",
       "129970   Alsace      NaN     Roger Voss            @vossroger   \n",
       "\n",
       "                                                    title         variety  \\\n",
       "0                       Nicosia 2013 Vulkà Bianco  (Etna)     White Blend   \n",
       "1           Quinta dos Avidagos 2011 Avidagos Red (Douro)  Portuguese Red   \n",
       "...                                                   ...             ...   \n",
       "129969      Domaine Marcel Deiss 2012 Pinot Gris (Alsace)      Pinot Gris   \n",
       "129970  Domaine Schoffit 2012 Lieu-dit Harth Cuvée Car...  Gewürztraminer   \n",
       "\n",
       "                      winery  \n",
       "0                    Nicosia  \n",
       "1        Quinta dos Avidagos  \n",
       "...                      ...  \n",
       "129969  Domaine Marcel Deiss  \n",
       "129970      Domaine Schoffit  \n",
       "\n",
       "[129971 rows x 13 columns]"
      ]
     },
     "execution_count": 3,
     "metadata": {},
     "output_type": "execute_result"
    }
   ],
   "source": [
    "reviews"
   ]
  },
  {
   "cell_type": "markdown",
   "id": "b80394ca",
   "metadata": {},
   "source": [
    "## Funzioni Summary\n",
    "Pandas fornisce molte semplici \"**funzioni di riepilogo**\" (non è un nome ufficiale) che ristrutturano i dati in modo utile. Ad esempio, si consideri il metodo `describe()`:"
   ]
  },
  {
   "cell_type": "code",
   "execution_count": 4,
   "id": "66f4f6c3",
   "metadata": {},
   "outputs": [
    {
     "data": {
      "text/plain": [
       "count    129971.000000\n",
       "mean         88.447138\n",
       "             ...      \n",
       "75%          91.000000\n",
       "max         100.000000\n",
       "Name: points, Length: 8, dtype: float64"
      ]
     },
     "execution_count": 4,
     "metadata": {},
     "output_type": "execute_result"
    }
   ],
   "source": [
    "reviews.points.describe()"
   ]
  },
  {
   "cell_type": "markdown",
   "id": "47489212",
   "metadata": {},
   "source": [
    "Questo metodo genera un riepilogo di alto livello degli attributi della colonna data. È consapevole del tipo di dati, il che significa che il suo output cambia in base al tipo di dati dell'input. L'output sopra riportato ha senso solo per i dati numerici; per i dati stringa ecco cosa si ottiene:"
   ]
  },
  {
   "cell_type": "code",
   "execution_count": 5,
   "id": "54678cae",
   "metadata": {},
   "outputs": [
    {
     "data": {
      "text/plain": [
       "count         103727\n",
       "unique            19\n",
       "top       Roger Voss\n",
       "freq           25514\n",
       "Name: taster_name, dtype: object"
      ]
     },
     "execution_count": 5,
     "metadata": {},
     "output_type": "execute_result"
    }
   ],
   "source": [
    "reviews.taster_name.describe()"
   ]
  },
  {
   "cell_type": "markdown",
   "id": "17d02595",
   "metadata": {},
   "source": [
    "Se si desidera ottenere qualche semplice statistica di sintesi su una colonna di un DataFrame o di una serie, di solito c'è un'utile funzione di pandas che permette di farlo.\n",
    "\n",
    "Ad esempio, per vedere la media dei punti assegnati (ad esempio, il punteggio medio di un vino), si può usare la funzione `mean()`:"
   ]
  },
  {
   "cell_type": "code",
   "execution_count": 7,
   "id": "949b2027",
   "metadata": {},
   "outputs": [
    {
     "data": {
      "text/plain": [
       "88.44713820775404"
      ]
     },
     "execution_count": 7,
     "metadata": {},
     "output_type": "execute_result"
    }
   ],
   "source": [
    "reviews.points.mean()"
   ]
  },
  {
   "cell_type": "markdown",
   "id": "fa174b72",
   "metadata": {},
   "source": [
    "Per visualizzare un elenco di valori unici si può usare la funzione `unique()`:"
   ]
  },
  {
   "cell_type": "code",
   "execution_count": 8,
   "id": "c5dab4ef",
   "metadata": {},
   "outputs": [
    {
     "data": {
      "text/plain": [
       "array(['Kerin O’Keefe', 'Roger Voss', 'Paul Gregutt',\n",
       "       'Alexander Peartree', 'Michael Schachner', 'Anna Lee C. Iijima',\n",
       "       'Virginie Boone', 'Matt Kettmann', nan, 'Sean P. Sullivan',\n",
       "       'Jim Gordon', 'Joe Czerwinski', 'Anne Krebiehl\\xa0MW',\n",
       "       'Lauren Buzzeo', 'Mike DeSimone', 'Jeff Jenssen',\n",
       "       'Susan Kostrzewa', 'Carrie Dykes', 'Fiona Adams',\n",
       "       'Christina Pickard'], dtype=object)"
      ]
     },
     "execution_count": 8,
     "metadata": {},
     "output_type": "execute_result"
    }
   ],
   "source": [
    "reviews.taster_name.unique()"
   ]
  },
  {
   "cell_type": "markdown",
   "id": "811684ef",
   "metadata": {},
   "source": [
    "Per visualizzare un elenco di valori unici e la loro frequenza nel set di dati, è possibile utilizzare il metodo `value_counts()`:"
   ]
  },
  {
   "cell_type": "code",
   "execution_count": 9,
   "id": "c9211ab7",
   "metadata": {},
   "outputs": [
    {
     "data": {
      "text/plain": [
       "Roger Voss           25514\n",
       "Michael Schachner    15134\n",
       "                     ...  \n",
       "Fiona Adams             27\n",
       "Christina Pickard        6\n",
       "Name: taster_name, Length: 19, dtype: int64"
      ]
     },
     "execution_count": 9,
     "metadata": {},
     "output_type": "execute_result"
    }
   ],
   "source": [
    "reviews.taster_name.value_counts()"
   ]
  },
  {
   "cell_type": "markdown",
   "id": "04514528",
   "metadata": {},
   "source": [
    "## Maps\n",
    "Una **mappa** è un termine, mutuato dalla matematica, per indicare una funzione che prende un insieme di valori e li \"mappa\" in un altro insieme di valori. Nella scienza dei dati abbiamo spesso bisogno di creare nuove rappresentazioni a partire da dati esistenti, o di trasformare i dati dal formato in cui si trovano ora al formato in cui vogliamo che si trovino in seguito. Le mappe gestiscono questo lavoro e sono estremamente importanti per portare a termine il vostro lavoro!\n",
    "\n",
    "Ci sono due metodi di mappatura che utilizzerete spesso.\n",
    "\n",
    "`map()` è il primo, leggermente più semplice. Per esempio, supponiamo di voler rimisurare i punteggi ricevuti dai vini a 0. Possiamo farlo come segue:"
   ]
  },
  {
   "cell_type": "code",
   "execution_count": 10,
   "id": "12dc9e08",
   "metadata": {},
   "outputs": [
    {
     "data": {
      "text/plain": [
       "0        -1.447138\n",
       "1        -1.447138\n",
       "            ...   \n",
       "129969    1.552862\n",
       "129970    1.552862\n",
       "Name: points, Length: 129971, dtype: float64"
      ]
     },
     "execution_count": 10,
     "metadata": {},
     "output_type": "execute_result"
    }
   ],
   "source": [
    "review_points_mean = reviews.points.mean()\n",
    "reviews.points.map(lambda p: p - review_points_mean)"
   ]
  },
  {
   "cell_type": "markdown",
   "id": "1032e5ca",
   "metadata": {},
   "source": [
    "La funzione che si passa a `map()` deve aspettarsi un singolo valore dalla Serie (un valore di punto, nell'esempio precedente) e restituire una versione trasformata di quel valore. `map()` restituisce una nuova Serie in cui tutti i valori sono stati trasformati dalla funzione.\n",
    "\n",
    "`apply()` è il metodo equivalente se si vuole trasformare un intero DataFrame richiamando un metodo personalizzato su ogni riga."
   ]
  },
  {
   "cell_type": "code",
   "execution_count": 11,
   "id": "97dcddf8",
   "metadata": {},
   "outputs": [
    {
     "data": {
      "text/html": [
       "<div>\n",
       "<style scoped>\n",
       "    .dataframe tbody tr th:only-of-type {\n",
       "        vertical-align: middle;\n",
       "    }\n",
       "\n",
       "    .dataframe tbody tr th {\n",
       "        vertical-align: top;\n",
       "    }\n",
       "\n",
       "    .dataframe thead th {\n",
       "        text-align: right;\n",
       "    }\n",
       "</style>\n",
       "<table border=\"1\" class=\"dataframe\">\n",
       "  <thead>\n",
       "    <tr style=\"text-align: right;\">\n",
       "      <th></th>\n",
       "      <th>country</th>\n",
       "      <th>description</th>\n",
       "      <th>designation</th>\n",
       "      <th>points</th>\n",
       "      <th>price</th>\n",
       "      <th>province</th>\n",
       "      <th>region_1</th>\n",
       "      <th>region_2</th>\n",
       "      <th>taster_name</th>\n",
       "      <th>taster_twitter_handle</th>\n",
       "      <th>title</th>\n",
       "      <th>variety</th>\n",
       "      <th>winery</th>\n",
       "    </tr>\n",
       "  </thead>\n",
       "  <tbody>\n",
       "    <tr>\n",
       "      <th>0</th>\n",
       "      <td>Italy</td>\n",
       "      <td>Aromas include tropical fruit, broom, brimston...</td>\n",
       "      <td>Vulkà Bianco</td>\n",
       "      <td>-1.447138</td>\n",
       "      <td>NaN</td>\n",
       "      <td>Sicily &amp; Sardinia</td>\n",
       "      <td>Etna</td>\n",
       "      <td>NaN</td>\n",
       "      <td>Kerin O’Keefe</td>\n",
       "      <td>@kerinokeefe</td>\n",
       "      <td>Nicosia 2013 Vulkà Bianco  (Etna)</td>\n",
       "      <td>White Blend</td>\n",
       "      <td>Nicosia</td>\n",
       "    </tr>\n",
       "    <tr>\n",
       "      <th>1</th>\n",
       "      <td>Portugal</td>\n",
       "      <td>This is ripe and fruity, a wine that is smooth...</td>\n",
       "      <td>Avidagos</td>\n",
       "      <td>-1.447138</td>\n",
       "      <td>15.0</td>\n",
       "      <td>Douro</td>\n",
       "      <td>NaN</td>\n",
       "      <td>NaN</td>\n",
       "      <td>Roger Voss</td>\n",
       "      <td>@vossroger</td>\n",
       "      <td>Quinta dos Avidagos 2011 Avidagos Red (Douro)</td>\n",
       "      <td>Portuguese Red</td>\n",
       "      <td>Quinta dos Avidagos</td>\n",
       "    </tr>\n",
       "    <tr>\n",
       "      <th>...</th>\n",
       "      <td>...</td>\n",
       "      <td>...</td>\n",
       "      <td>...</td>\n",
       "      <td>...</td>\n",
       "      <td>...</td>\n",
       "      <td>...</td>\n",
       "      <td>...</td>\n",
       "      <td>...</td>\n",
       "      <td>...</td>\n",
       "      <td>...</td>\n",
       "      <td>...</td>\n",
       "      <td>...</td>\n",
       "      <td>...</td>\n",
       "    </tr>\n",
       "    <tr>\n",
       "      <th>129969</th>\n",
       "      <td>France</td>\n",
       "      <td>A dry style of Pinot Gris, this is crisp with ...</td>\n",
       "      <td>NaN</td>\n",
       "      <td>1.552862</td>\n",
       "      <td>32.0</td>\n",
       "      <td>Alsace</td>\n",
       "      <td>Alsace</td>\n",
       "      <td>NaN</td>\n",
       "      <td>Roger Voss</td>\n",
       "      <td>@vossroger</td>\n",
       "      <td>Domaine Marcel Deiss 2012 Pinot Gris (Alsace)</td>\n",
       "      <td>Pinot Gris</td>\n",
       "      <td>Domaine Marcel Deiss</td>\n",
       "    </tr>\n",
       "    <tr>\n",
       "      <th>129970</th>\n",
       "      <td>France</td>\n",
       "      <td>Big, rich and off-dry, this is powered by inte...</td>\n",
       "      <td>Lieu-dit Harth Cuvée Caroline</td>\n",
       "      <td>1.552862</td>\n",
       "      <td>21.0</td>\n",
       "      <td>Alsace</td>\n",
       "      <td>Alsace</td>\n",
       "      <td>NaN</td>\n",
       "      <td>Roger Voss</td>\n",
       "      <td>@vossroger</td>\n",
       "      <td>Domaine Schoffit 2012 Lieu-dit Harth Cuvée Car...</td>\n",
       "      <td>Gewürztraminer</td>\n",
       "      <td>Domaine Schoffit</td>\n",
       "    </tr>\n",
       "  </tbody>\n",
       "</table>\n",
       "<p>129971 rows × 13 columns</p>\n",
       "</div>"
      ],
      "text/plain": [
       "         country                                        description  \\\n",
       "0          Italy  Aromas include tropical fruit, broom, brimston...   \n",
       "1       Portugal  This is ripe and fruity, a wine that is smooth...   \n",
       "...          ...                                                ...   \n",
       "129969    France  A dry style of Pinot Gris, this is crisp with ...   \n",
       "129970    France  Big, rich and off-dry, this is powered by inte...   \n",
       "\n",
       "                          designation    points  price           province  \\\n",
       "0                        Vulkà Bianco -1.447138    NaN  Sicily & Sardinia   \n",
       "1                            Avidagos -1.447138   15.0              Douro   \n",
       "...                               ...       ...    ...                ...   \n",
       "129969                            NaN  1.552862   32.0             Alsace   \n",
       "129970  Lieu-dit Harth Cuvée Caroline  1.552862   21.0             Alsace   \n",
       "\n",
       "       region_1 region_2    taster_name taster_twitter_handle  \\\n",
       "0          Etna      NaN  Kerin O’Keefe          @kerinokeefe   \n",
       "1           NaN      NaN     Roger Voss            @vossroger   \n",
       "...         ...      ...            ...                   ...   \n",
       "129969   Alsace      NaN     Roger Voss            @vossroger   \n",
       "129970   Alsace      NaN     Roger Voss            @vossroger   \n",
       "\n",
       "                                                    title         variety  \\\n",
       "0                       Nicosia 2013 Vulkà Bianco  (Etna)     White Blend   \n",
       "1           Quinta dos Avidagos 2011 Avidagos Red (Douro)  Portuguese Red   \n",
       "...                                                   ...             ...   \n",
       "129969      Domaine Marcel Deiss 2012 Pinot Gris (Alsace)      Pinot Gris   \n",
       "129970  Domaine Schoffit 2012 Lieu-dit Harth Cuvée Car...  Gewürztraminer   \n",
       "\n",
       "                      winery  \n",
       "0                    Nicosia  \n",
       "1        Quinta dos Avidagos  \n",
       "...                      ...  \n",
       "129969  Domaine Marcel Deiss  \n",
       "129970      Domaine Schoffit  \n",
       "\n",
       "[129971 rows x 13 columns]"
      ]
     },
     "execution_count": 11,
     "metadata": {},
     "output_type": "execute_result"
    }
   ],
   "source": [
    "def remean_points(row):\n",
    "    row.points = row.points - review_points_mean\n",
    "    return row\n",
    "\n",
    "reviews.apply(remean_points, axis='columns')"
   ]
  },
  {
   "cell_type": "markdown",
   "id": "becb6262",
   "metadata": {},
   "source": [
    "Se avessimo chiamato `reviews.apply()` con `axis='index'`, invece di passare una funzione per trasformare ogni riga, dovremmo dare una funzione per trasformare ogni colonna.\n",
    "\n",
    "Si noti che `map()` e `apply()` restituiscono rispettivamente nuove Serie e DataFrames trasformati. Non modificano i dati originali su cui sono stati chiamati. Se osserviamo la prima riga di **reviews**, possiamo notare che ha ancora il valore originale dei punti."
   ]
  },
  {
   "cell_type": "code",
   "execution_count": 12,
   "id": "0a14984f",
   "metadata": {},
   "outputs": [
    {
     "data": {
      "text/html": [
       "<div>\n",
       "<style scoped>\n",
       "    .dataframe tbody tr th:only-of-type {\n",
       "        vertical-align: middle;\n",
       "    }\n",
       "\n",
       "    .dataframe tbody tr th {\n",
       "        vertical-align: top;\n",
       "    }\n",
       "\n",
       "    .dataframe thead th {\n",
       "        text-align: right;\n",
       "    }\n",
       "</style>\n",
       "<table border=\"1\" class=\"dataframe\">\n",
       "  <thead>\n",
       "    <tr style=\"text-align: right;\">\n",
       "      <th></th>\n",
       "      <th>country</th>\n",
       "      <th>description</th>\n",
       "      <th>designation</th>\n",
       "      <th>points</th>\n",
       "      <th>price</th>\n",
       "      <th>province</th>\n",
       "      <th>region_1</th>\n",
       "      <th>region_2</th>\n",
       "      <th>taster_name</th>\n",
       "      <th>taster_twitter_handle</th>\n",
       "      <th>title</th>\n",
       "      <th>variety</th>\n",
       "      <th>winery</th>\n",
       "    </tr>\n",
       "  </thead>\n",
       "  <tbody>\n",
       "    <tr>\n",
       "      <th>0</th>\n",
       "      <td>Italy</td>\n",
       "      <td>Aromas include tropical fruit, broom, brimston...</td>\n",
       "      <td>Vulkà Bianco</td>\n",
       "      <td>87</td>\n",
       "      <td>NaN</td>\n",
       "      <td>Sicily &amp; Sardinia</td>\n",
       "      <td>Etna</td>\n",
       "      <td>NaN</td>\n",
       "      <td>Kerin O’Keefe</td>\n",
       "      <td>@kerinokeefe</td>\n",
       "      <td>Nicosia 2013 Vulkà Bianco  (Etna)</td>\n",
       "      <td>White Blend</td>\n",
       "      <td>Nicosia</td>\n",
       "    </tr>\n",
       "  </tbody>\n",
       "</table>\n",
       "</div>"
      ],
      "text/plain": [
       "  country                                        description   designation  \\\n",
       "0   Italy  Aromas include tropical fruit, broom, brimston...  Vulkà Bianco   \n",
       "\n",
       "   points  price           province region_1 region_2    taster_name  \\\n",
       "0      87    NaN  Sicily & Sardinia     Etna      NaN  Kerin O’Keefe   \n",
       "\n",
       "  taster_twitter_handle                              title      variety  \\\n",
       "0          @kerinokeefe  Nicosia 2013 Vulkà Bianco  (Etna)  White Blend   \n",
       "\n",
       "    winery  \n",
       "0  Nicosia  "
      ]
     },
     "execution_count": 12,
     "metadata": {},
     "output_type": "execute_result"
    }
   ],
   "source": [
    "reviews.head(1)"
   ]
  },
  {
   "cell_type": "markdown",
   "id": "c29c8931",
   "metadata": {},
   "source": [
    "Pandas fornisce molte operazioni di mappatura comuni come `built-in`. Per esempio, ecco un modo più veloce per rimisurare la nostra colonna di punti:"
   ]
  },
  {
   "cell_type": "code",
   "execution_count": 13,
   "id": "88e42b15",
   "metadata": {},
   "outputs": [
    {
     "data": {
      "text/plain": [
       "0        -1.447138\n",
       "1        -1.447138\n",
       "            ...   \n",
       "129969    1.552862\n",
       "129970    1.552862\n",
       "Name: points, Length: 129971, dtype: float64"
      ]
     },
     "execution_count": 13,
     "metadata": {},
     "output_type": "execute_result"
    }
   ],
   "source": [
    "review_points_mean = reviews.points.mean()\n",
    "reviews.points - review_points_mean"
   ]
  },
  {
   "cell_type": "markdown",
   "id": "df72635d",
   "metadata": {},
   "source": [
    "In questo codice stiamo eseguendo un'operazione tra molti valori sul lato sinistro (tutto ciò che è presente nella serie) e un singolo valore sul lato destro (il valore medio). Pandas esamina questa espressione e capisce che dobbiamo sottrarre il valore medio da ogni valore della serie di dati.\n",
    "\n",
    "Pandas capirà anche cosa fare se eseguiamo queste operazioni tra serie di uguale lunghezza. Per esempio, un modo semplice per **combinare le informazioni** sui paesi e sulle regioni nel set di dati sarebbe il seguente:"
   ]
  },
  {
   "cell_type": "code",
   "execution_count": 14,
   "id": "490e3ea6",
   "metadata": {},
   "outputs": [
    {
     "data": {
      "text/plain": [
       "0            Italy - Etna\n",
       "1                     NaN\n",
       "               ...       \n",
       "129969    France - Alsace\n",
       "129970    France - Alsace\n",
       "Length: 129971, dtype: object"
      ]
     },
     "execution_count": 14,
     "metadata": {},
     "output_type": "execute_result"
    }
   ],
   "source": [
    "reviews.country + \" - \" + reviews.region_1"
   ]
  },
  {
   "cell_type": "markdown",
   "id": "4df57bd7",
   "metadata": {},
   "source": [
    "Questi operatori sono più veloci di `map()` o `apply()` perché sfruttano la velocità incorporata in pandas. Tutti gli operatori standard di Python (`>`, `<`, `==` e così via) funzionano in questo modo.\n",
    "\n",
    "Tuttavia, non sono flessibili come `map()` o `apply()`, che possono fare cose più avanzate, come applicare la logica condizionale, che non può essere fatta con le sole addizioni e sottrazioni."
   ]
  },
  {
   "cell_type": "markdown",
   "id": "80fef593",
   "metadata": {},
   "source": [
    "## Esercizi\n"
   ]
  },
  {
   "cell_type": "code",
   "execution_count": 16,
   "id": "0868ccd7",
   "metadata": {},
   "outputs": [],
   "source": [
    "import pandas as pd\n",
    "pd.set_option(\"display.max_rows\", 5)\n",
    "reviews = pd.read_csv(\"D:/Users/Alessio/OneDrive/Python/Kaggle/Pandas/winemag-data-130k-v2.csv\", index_col=0)"
   ]
  },
  {
   "cell_type": "raw",
   "id": "8b66d668",
   "metadata": {},
   "source": [
    "from learntools.core import binder; binder.bind(globals())\n",
    "from learntools.pandas.summary_functions_and_maps import *\n",
    "print(\"Setup complete.\")"
   ]
  },
  {
   "cell_type": "code",
   "execution_count": 17,
   "id": "ce26cd7c",
   "metadata": {},
   "outputs": [
    {
     "data": {
      "text/html": [
       "<div>\n",
       "<style scoped>\n",
       "    .dataframe tbody tr th:only-of-type {\n",
       "        vertical-align: middle;\n",
       "    }\n",
       "\n",
       "    .dataframe tbody tr th {\n",
       "        vertical-align: top;\n",
       "    }\n",
       "\n",
       "    .dataframe thead th {\n",
       "        text-align: right;\n",
       "    }\n",
       "</style>\n",
       "<table border=\"1\" class=\"dataframe\">\n",
       "  <thead>\n",
       "    <tr style=\"text-align: right;\">\n",
       "      <th></th>\n",
       "      <th>country</th>\n",
       "      <th>description</th>\n",
       "      <th>designation</th>\n",
       "      <th>points</th>\n",
       "      <th>price</th>\n",
       "      <th>province</th>\n",
       "      <th>region_1</th>\n",
       "      <th>region_2</th>\n",
       "      <th>taster_name</th>\n",
       "      <th>taster_twitter_handle</th>\n",
       "      <th>title</th>\n",
       "      <th>variety</th>\n",
       "      <th>winery</th>\n",
       "    </tr>\n",
       "  </thead>\n",
       "  <tbody>\n",
       "    <tr>\n",
       "      <th>0</th>\n",
       "      <td>Italy</td>\n",
       "      <td>Aromas include tropical fruit, broom, brimston...</td>\n",
       "      <td>Vulkà Bianco</td>\n",
       "      <td>87</td>\n",
       "      <td>NaN</td>\n",
       "      <td>Sicily &amp; Sardinia</td>\n",
       "      <td>Etna</td>\n",
       "      <td>NaN</td>\n",
       "      <td>Kerin O’Keefe</td>\n",
       "      <td>@kerinokeefe</td>\n",
       "      <td>Nicosia 2013 Vulkà Bianco  (Etna)</td>\n",
       "      <td>White Blend</td>\n",
       "      <td>Nicosia</td>\n",
       "    </tr>\n",
       "    <tr>\n",
       "      <th>1</th>\n",
       "      <td>Portugal</td>\n",
       "      <td>This is ripe and fruity, a wine that is smooth...</td>\n",
       "      <td>Avidagos</td>\n",
       "      <td>87</td>\n",
       "      <td>15.0</td>\n",
       "      <td>Douro</td>\n",
       "      <td>NaN</td>\n",
       "      <td>NaN</td>\n",
       "      <td>Roger Voss</td>\n",
       "      <td>@vossroger</td>\n",
       "      <td>Quinta dos Avidagos 2011 Avidagos Red (Douro)</td>\n",
       "      <td>Portuguese Red</td>\n",
       "      <td>Quinta dos Avidagos</td>\n",
       "    </tr>\n",
       "    <tr>\n",
       "      <th>2</th>\n",
       "      <td>US</td>\n",
       "      <td>Tart and snappy, the flavors of lime flesh and...</td>\n",
       "      <td>NaN</td>\n",
       "      <td>87</td>\n",
       "      <td>14.0</td>\n",
       "      <td>Oregon</td>\n",
       "      <td>Willamette Valley</td>\n",
       "      <td>Willamette Valley</td>\n",
       "      <td>Paul Gregutt</td>\n",
       "      <td>@paulgwine</td>\n",
       "      <td>Rainstorm 2013 Pinot Gris (Willamette Valley)</td>\n",
       "      <td>Pinot Gris</td>\n",
       "      <td>Rainstorm</td>\n",
       "    </tr>\n",
       "    <tr>\n",
       "      <th>3</th>\n",
       "      <td>US</td>\n",
       "      <td>Pineapple rind, lemon pith and orange blossom ...</td>\n",
       "      <td>Reserve Late Harvest</td>\n",
       "      <td>87</td>\n",
       "      <td>13.0</td>\n",
       "      <td>Michigan</td>\n",
       "      <td>Lake Michigan Shore</td>\n",
       "      <td>NaN</td>\n",
       "      <td>Alexander Peartree</td>\n",
       "      <td>NaN</td>\n",
       "      <td>St. Julian 2013 Reserve Late Harvest Riesling ...</td>\n",
       "      <td>Riesling</td>\n",
       "      <td>St. Julian</td>\n",
       "    </tr>\n",
       "    <tr>\n",
       "      <th>4</th>\n",
       "      <td>US</td>\n",
       "      <td>Much like the regular bottling from 2012, this...</td>\n",
       "      <td>Vintner's Reserve Wild Child Block</td>\n",
       "      <td>87</td>\n",
       "      <td>65.0</td>\n",
       "      <td>Oregon</td>\n",
       "      <td>Willamette Valley</td>\n",
       "      <td>Willamette Valley</td>\n",
       "      <td>Paul Gregutt</td>\n",
       "      <td>@paulgwine</td>\n",
       "      <td>Sweet Cheeks 2012 Vintner's Reserve Wild Child...</td>\n",
       "      <td>Pinot Noir</td>\n",
       "      <td>Sweet Cheeks</td>\n",
       "    </tr>\n",
       "  </tbody>\n",
       "</table>\n",
       "</div>"
      ],
      "text/plain": [
       "    country                                        description  \\\n",
       "0     Italy  Aromas include tropical fruit, broom, brimston...   \n",
       "1  Portugal  This is ripe and fruity, a wine that is smooth...   \n",
       "2        US  Tart and snappy, the flavors of lime flesh and...   \n",
       "3        US  Pineapple rind, lemon pith and orange blossom ...   \n",
       "4        US  Much like the regular bottling from 2012, this...   \n",
       "\n",
       "                          designation  points  price           province  \\\n",
       "0                        Vulkà Bianco      87    NaN  Sicily & Sardinia   \n",
       "1                            Avidagos      87   15.0              Douro   \n",
       "2                                 NaN      87   14.0             Oregon   \n",
       "3                Reserve Late Harvest      87   13.0           Michigan   \n",
       "4  Vintner's Reserve Wild Child Block      87   65.0             Oregon   \n",
       "\n",
       "              region_1           region_2         taster_name  \\\n",
       "0                 Etna                NaN       Kerin O’Keefe   \n",
       "1                  NaN                NaN          Roger Voss   \n",
       "2    Willamette Valley  Willamette Valley        Paul Gregutt   \n",
       "3  Lake Michigan Shore                NaN  Alexander Peartree   \n",
       "4    Willamette Valley  Willamette Valley        Paul Gregutt   \n",
       "\n",
       "  taster_twitter_handle                                              title  \\\n",
       "0          @kerinokeefe                  Nicosia 2013 Vulkà Bianco  (Etna)   \n",
       "1            @vossroger      Quinta dos Avidagos 2011 Avidagos Red (Douro)   \n",
       "2           @paulgwine       Rainstorm 2013 Pinot Gris (Willamette Valley)   \n",
       "3                   NaN  St. Julian 2013 Reserve Late Harvest Riesling ...   \n",
       "4           @paulgwine   Sweet Cheeks 2012 Vintner's Reserve Wild Child...   \n",
       "\n",
       "          variety               winery  \n",
       "0     White Blend              Nicosia  \n",
       "1  Portuguese Red  Quinta dos Avidagos  \n",
       "2      Pinot Gris            Rainstorm  \n",
       "3        Riesling           St. Julian  \n",
       "4      Pinot Noir         Sweet Cheeks  "
      ]
     },
     "execution_count": 17,
     "metadata": {},
     "output_type": "execute_result"
    }
   ],
   "source": [
    "reviews.head()"
   ]
  },
  {
   "cell_type": "markdown",
   "id": "25a3c0c2",
   "metadata": {},
   "source": [
    "### Domanda 1\n",
    "Qual è la mediana della colonna `points` nel DataFrame `reviews`?"
   ]
  },
  {
   "cell_type": "code",
   "execution_count": 28,
   "id": "f228c784",
   "metadata": {},
   "outputs": [
    {
     "data": {
      "text/plain": [
       "88.0"
      ]
     },
     "execution_count": 28,
     "metadata": {},
     "output_type": "execute_result"
    }
   ],
   "source": [
    "median_points = reviews.points.median()\n",
    "\n",
    "# Check your answer\n",
    "# q1.check()\n",
    "median_points"
   ]
  },
  {
   "cell_type": "markdown",
   "id": "588c3e92",
   "metadata": {},
   "source": [
    "### Domanda 2 \n",
    "Quali Paesi sono rappresentati nel dataset? (La risposta non deve includere duplicati)."
   ]
  },
  {
   "cell_type": "code",
   "execution_count": 29,
   "id": "51c4fd66",
   "metadata": {},
   "outputs": [
    {
     "data": {
      "text/plain": [
       "array(['Italy', 'Portugal', 'US', 'Spain', 'France', 'Germany',\n",
       "       'Argentina', 'Chile', 'Australia', 'Austria', 'South Africa',\n",
       "       'New Zealand', 'Israel', 'Hungary', 'Greece', 'Romania', 'Mexico',\n",
       "       'Canada', nan, 'Turkey', 'Czech Republic', 'Slovenia',\n",
       "       'Luxembourg', 'Croatia', 'Georgia', 'Uruguay', 'England',\n",
       "       'Lebanon', 'Serbia', 'Brazil', 'Moldova', 'Morocco', 'Peru',\n",
       "       'India', 'Bulgaria', 'Cyprus', 'Armenia', 'Switzerland',\n",
       "       'Bosnia and Herzegovina', 'Ukraine', 'Slovakia', 'Macedonia',\n",
       "       'China', 'Egypt'], dtype=object)"
      ]
     },
     "execution_count": 29,
     "metadata": {},
     "output_type": "execute_result"
    }
   ],
   "source": [
    "countries = reviews.country.unique()\n",
    "\n",
    "# Check your answer\n",
    "# q2.check()\n",
    "countries"
   ]
  },
  {
   "cell_type": "markdown",
   "id": "27a80b25",
   "metadata": {},
   "source": [
    "### Domanda 3\n",
    "Con quale frequenza ogni paese appare nel set di dati? Creare una serie `reviews_per_country` che mappi i paesi al numero di recensioni di vini di quel paese."
   ]
  },
  {
   "cell_type": "code",
   "execution_count": 30,
   "id": "e1fbadbb",
   "metadata": {},
   "outputs": [
    {
     "data": {
      "text/plain": [
       "US        54504\n",
       "France    22093\n",
       "          ...  \n",
       "China         1\n",
       "Egypt         1\n",
       "Name: country, Length: 43, dtype: int64"
      ]
     },
     "execution_count": 30,
     "metadata": {},
     "output_type": "execute_result"
    }
   ],
   "source": [
    "reviews_per_country = reviews.country.value_counts()\n",
    "\n",
    "# Check your answer\n",
    "# q3.check()\n",
    "reviews_per_country"
   ]
  },
  {
   "cell_type": "markdown",
   "id": "86ea1c13",
   "metadata": {},
   "source": [
    "### Domanda 4\n",
    "Creare la variabile `centred_price` contenente una versione della colonna `price` con il prezzo medio sottratto.\n",
    "\n",
    "(Nota: questa trasformazione di \"centratura\" è una fase comune di pre-elaborazione prima di applicare vari algoritmi di apprendimento automatico). "
   ]
  },
  {
   "cell_type": "code",
   "execution_count": 31,
   "id": "75eefba4",
   "metadata": {},
   "outputs": [
    {
     "data": {
      "text/plain": [
       "0               NaN\n",
       "1        -20.363389\n",
       "            ...    \n",
       "129969    -3.363389\n",
       "129970   -14.363389\n",
       "Name: price, Length: 129971, dtype: float64"
      ]
     },
     "execution_count": 31,
     "metadata": {},
     "output_type": "execute_result"
    }
   ],
   "source": [
    "centered_price = reviews.price - reviews.price.mean()\n",
    "\n",
    "# Check your answer\n",
    "# q4.check()\n",
    "centered_price"
   ]
  },
  {
   "cell_type": "markdown",
   "id": "8b7386d1",
   "metadata": {},
   "source": [
    "### Domanda 5\n",
    "Sono un acquirente di vino economico. Quale vino è il \"miglior affare\"? Creare una variabile `bargain_wine` con il titolo del vino con il più alto rapporto punti/prezzo nel dataset."
   ]
  },
  {
   "cell_type": "code",
   "execution_count": 32,
   "id": "3e33edc9",
   "metadata": {},
   "outputs": [
    {
     "data": {
      "text/plain": [
       "'Bandit NV Merlot (California)'"
      ]
     },
     "execution_count": 32,
     "metadata": {},
     "output_type": "execute_result"
    }
   ],
   "source": [
    "bargain_idx = (reviews.points / reviews.price).idxmax()\n",
    "        # entrambi giusti\n",
    "bargain_wine = reviews.loc[bargain_idx, 'title']\n",
    "\n",
    "# Check your answer\n",
    "# q5.check()\n",
    "bargain_wine"
   ]
  },
  {
   "cell_type": "markdown",
   "id": "3a63f0ef",
   "metadata": {},
   "source": [
    "### Domanda 6\n",
    "Ci sono solo tante parole che si possono usare per descrivere una bottiglia di vino. È più probabile che un vino sia \"tropicale\" o \"fruttato\"? Creare una serie `descriptor_counts` che conti quante volte ciascuna di queste due parole appare nella colonna `description` del dataset. (Per semplicità, ignoriamo le versioni maiuscole di queste parole)."
   ]
  },
  {
   "cell_type": "code",
   "execution_count": 33,
   "id": "04163f0c",
   "metadata": {},
   "outputs": [
    {
     "data": {
      "text/plain": [
       "tropical    3607\n",
       "fruity      9090\n",
       "dtype: int64"
      ]
     },
     "execution_count": 33,
     "metadata": {},
     "output_type": "execute_result"
    }
   ],
   "source": [
    "n_trop = reviews.description.map(lambda desc: \"tropical\" in desc).sum()\n",
    "n_fruity = reviews.description.map(lambda desc: \"fruity\" in desc).sum()\n",
    "descriptor_counts = pd.Series([n_trop, n_fruity], index=['tropical', 'fruity'])\n",
    "\n",
    "# Check your answer\n",
    "# q6.check()\n",
    "descriptor_counts"
   ]
  },
  {
   "cell_type": "markdown",
   "id": "60ad5dd4",
   "metadata": {},
   "source": [
    "### Domanda 7\n",
    "Vorremmo ospitare queste recensioni di vini sul nostro sito web, ma un sistema di valutazione che va da 80 a 100 punti è troppo difficile da capire - vorremmo tradurle in semplici valutazioni a stelle. Un punteggio di 95 o superiore vale 3 stelle, un punteggio di almeno 85 ma inferiore a 95 vale 2 stelle. Qualsiasi altro punteggio corrisponde a 1 stella.\n",
    "\n",
    "Inoltre, la Canadian Vintners Association ha acquistato molti annunci sul sito, quindi tutti i vini canadesi dovrebbero ottenere automaticamente 3 stelle, indipendentemente dal punteggio.\n",
    "\n",
    "Creare una serie `star_ratings` con il numero di stelle corrispondente a ogni recensione nel dataset."
   ]
  },
  {
   "cell_type": "code",
   "execution_count": 27,
   "id": "fb7ff0d7",
   "metadata": {},
   "outputs": [],
   "source": [
    "def stars(row):\n",
    "    if row.country == 'Canada':\n",
    "        return 3\n",
    "    elif row.points >= 95:\n",
    "        return 3\n",
    "    elif row.points >= 85:\n",
    "        return 2\n",
    "    else:\n",
    "        return 1\n",
    "\n",
    "star_ratings = reviews.apply(stars, axis='columns')\n",
    "\n",
    "# Check your answer\n",
    "#q7.check()"
   ]
  }
 ],
 "metadata": {
  "kernelspec": {
   "display_name": "Python 3 (ipykernel)",
   "language": "python",
   "name": "python3"
  },
  "language_info": {
   "codemirror_mode": {
    "name": "ipython",
    "version": 3
   },
   "file_extension": ".py",
   "mimetype": "text/x-python",
   "name": "python",
   "nbconvert_exporter": "python",
   "pygments_lexer": "ipython3",
   "version": "3.9.7"
  }
 },
 "nbformat": 4,
 "nbformat_minor": 5
}
