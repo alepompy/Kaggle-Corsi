{
 "cells": [
  {
   "cell_type": "markdown",
   "id": "9a66cef6",
   "metadata": {},
   "source": [
    "## Dtypes\n",
    "Il tipo di dati di una colonna in un DataFrame o in una Serie è noto come `dtype`.\n",
    "\n",
    "È possibile utilizzare la proprietà dtype per ottenere il tipo di una colonna specifica. Ad esempio, è possibile ottenere il tipo di colonna prezzo nel DataFrame recensioni:"
   ]
  },
  {
   "cell_type": "code",
   "execution_count": 3,
   "id": "ceb1f5a3",
   "metadata": {},
   "outputs": [],
   "source": [
    "import pandas as pd\n",
    "reviews = pd.read_csv(\"D:/Users/Alessio/OneDrive/Python/Kaggle/Pandas/winemag-data-130k-v2.csv\", index_col=0)\n",
    "pd.set_option('max_rows', 5)"
   ]
  },
  {
   "cell_type": "code",
   "execution_count": 4,
   "id": "058e0983",
   "metadata": {},
   "outputs": [
    {
     "data": {
      "text/plain": [
       "dtype('float64')"
      ]
     },
     "execution_count": 4,
     "metadata": {},
     "output_type": "execute_result"
    }
   ],
   "source": [
    "reviews.price.dtype"
   ]
  },
  {
   "cell_type": "markdown",
   "id": "402fcd21",
   "metadata": {},
   "source": [
    "In alternativa, la proprietà `dtypes` restituisce il `dtype` di ogni colonna del DataFrame:"
   ]
  },
  {
   "cell_type": "code",
   "execution_count": 5,
   "id": "726fd93b",
   "metadata": {},
   "outputs": [
    {
     "data": {
      "text/plain": [
       "country        object\n",
       "description    object\n",
       "                ...  \n",
       "variety        object\n",
       "winery         object\n",
       "Length: 13, dtype: object"
      ]
     },
     "execution_count": 5,
     "metadata": {},
     "output_type": "execute_result"
    }
   ],
   "source": [
    "reviews.dtypes"
   ]
  },
  {
   "cell_type": "markdown",
   "id": "01614fa0",
   "metadata": {},
   "source": [
    "I **tipi di dati** ci dicono qualcosa sul modo in cui pandas memorizza i dati internamente. `float64` significa che sta usando un numero in virgola mobile a 64 bit; `int64` significa invece un intero di dimensioni simili e così via.\n",
    "\n",
    "Una particolarità da tenere presente (e qui esposta in modo molto chiaro) è che le colonne composte interamente da stringhe non hanno un proprio tipo, ma gli viene assegnato il tipo di oggetto.\n",
    "\n",
    "È possibile convertire una colonna di un tipo in un altro, quando la conversione ha senso, utilizzando la funzione `astype()`. Per esempio, possiamo trasformare la colonna punti dal suo tipo di dati `int64` in un tipo di dati `float64`:"
   ]
  },
  {
   "cell_type": "code",
   "execution_count": 6,
   "id": "cec8573f",
   "metadata": {},
   "outputs": [
    {
     "data": {
      "text/plain": [
       "0         87.0\n",
       "1         87.0\n",
       "          ... \n",
       "129969    90.0\n",
       "129970    90.0\n",
       "Name: points, Length: 129971, dtype: float64"
      ]
     },
     "execution_count": 6,
     "metadata": {},
     "output_type": "execute_result"
    }
   ],
   "source": [
    "reviews.points.astype('float64')"
   ]
  },
  {
   "cell_type": "markdown",
   "id": "7a2bde2a",
   "metadata": {},
   "source": [
    "Anche l'indice di un DataFrame o di una Serie ha il proprio **tipo di dtype**:"
   ]
  },
  {
   "cell_type": "code",
   "execution_count": 7,
   "id": "aeaeef07",
   "metadata": {},
   "outputs": [
    {
     "data": {
      "text/plain": [
       "dtype('int64')"
      ]
     },
     "execution_count": 7,
     "metadata": {},
     "output_type": "execute_result"
    }
   ],
   "source": [
    "reviews.index.dtype"
   ]
  },
  {
   "cell_type": "markdown",
   "id": "e86c8b7f",
   "metadata": {},
   "source": [
    "Pandas supporta anche tipi di dati più esotici, come i **dati categorici** e le **serie temporali**. "
   ]
  },
  {
   "cell_type": "markdown",
   "id": "e1aad58e",
   "metadata": {},
   "source": [
    "## Missing data\n",
    "Ai **valori mancanti** delle voci viene attribuito il valore `NaN`, abbreviazione di \"**Not a Number**\". Per ragioni tecniche, i valori NaN sono sempre di tipo `float64`.\n",
    "\n",
    "Pandas fornisce alcuni metodi specifici per i dati mancanti. Per selezionare le voci `NaN` si può usare `pd.isnull()` (o il suo compagno `pd.notnull())`. Questo metodo deve essere usato in questo modo:"
   ]
  },
  {
   "cell_type": "code",
   "execution_count": 8,
   "id": "cbee7cc1",
   "metadata": {},
   "outputs": [
    {
     "data": {
      "text/html": [
       "<div>\n",
       "<style scoped>\n",
       "    .dataframe tbody tr th:only-of-type {\n",
       "        vertical-align: middle;\n",
       "    }\n",
       "\n",
       "    .dataframe tbody tr th {\n",
       "        vertical-align: top;\n",
       "    }\n",
       "\n",
       "    .dataframe thead th {\n",
       "        text-align: right;\n",
       "    }\n",
       "</style>\n",
       "<table border=\"1\" class=\"dataframe\">\n",
       "  <thead>\n",
       "    <tr style=\"text-align: right;\">\n",
       "      <th></th>\n",
       "      <th>country</th>\n",
       "      <th>description</th>\n",
       "      <th>designation</th>\n",
       "      <th>points</th>\n",
       "      <th>price</th>\n",
       "      <th>province</th>\n",
       "      <th>region_1</th>\n",
       "      <th>region_2</th>\n",
       "      <th>taster_name</th>\n",
       "      <th>taster_twitter_handle</th>\n",
       "      <th>title</th>\n",
       "      <th>variety</th>\n",
       "      <th>winery</th>\n",
       "    </tr>\n",
       "  </thead>\n",
       "  <tbody>\n",
       "    <tr>\n",
       "      <th>913</th>\n",
       "      <td>NaN</td>\n",
       "      <td>Amber in color, this wine has aromas of peach ...</td>\n",
       "      <td>Asureti Valley</td>\n",
       "      <td>87</td>\n",
       "      <td>30.0</td>\n",
       "      <td>NaN</td>\n",
       "      <td>NaN</td>\n",
       "      <td>NaN</td>\n",
       "      <td>Mike DeSimone</td>\n",
       "      <td>@worldwineguys</td>\n",
       "      <td>Gotsa Family Wines 2014 Asureti Valley Chinuri</td>\n",
       "      <td>Chinuri</td>\n",
       "      <td>Gotsa Family Wines</td>\n",
       "    </tr>\n",
       "    <tr>\n",
       "      <th>3131</th>\n",
       "      <td>NaN</td>\n",
       "      <td>Soft, fruity and juicy, this is a pleasant, si...</td>\n",
       "      <td>Partager</td>\n",
       "      <td>83</td>\n",
       "      <td>NaN</td>\n",
       "      <td>NaN</td>\n",
       "      <td>NaN</td>\n",
       "      <td>NaN</td>\n",
       "      <td>Roger Voss</td>\n",
       "      <td>@vossroger</td>\n",
       "      <td>Barton &amp; Guestier NV Partager Red</td>\n",
       "      <td>Red Blend</td>\n",
       "      <td>Barton &amp; Guestier</td>\n",
       "    </tr>\n",
       "    <tr>\n",
       "      <th>...</th>\n",
       "      <td>...</td>\n",
       "      <td>...</td>\n",
       "      <td>...</td>\n",
       "      <td>...</td>\n",
       "      <td>...</td>\n",
       "      <td>...</td>\n",
       "      <td>...</td>\n",
       "      <td>...</td>\n",
       "      <td>...</td>\n",
       "      <td>...</td>\n",
       "      <td>...</td>\n",
       "      <td>...</td>\n",
       "      <td>...</td>\n",
       "    </tr>\n",
       "    <tr>\n",
       "      <th>129590</th>\n",
       "      <td>NaN</td>\n",
       "      <td>A blend of 60% Syrah, 30% Cabernet Sauvignon a...</td>\n",
       "      <td>Shah</td>\n",
       "      <td>90</td>\n",
       "      <td>30.0</td>\n",
       "      <td>NaN</td>\n",
       "      <td>NaN</td>\n",
       "      <td>NaN</td>\n",
       "      <td>Mike DeSimone</td>\n",
       "      <td>@worldwineguys</td>\n",
       "      <td>Büyülübağ 2012 Shah Red</td>\n",
       "      <td>Red Blend</td>\n",
       "      <td>Büyülübağ</td>\n",
       "    </tr>\n",
       "    <tr>\n",
       "      <th>129900</th>\n",
       "      <td>NaN</td>\n",
       "      <td>This wine offers a delightful bouquet of black...</td>\n",
       "      <td>NaN</td>\n",
       "      <td>91</td>\n",
       "      <td>32.0</td>\n",
       "      <td>NaN</td>\n",
       "      <td>NaN</td>\n",
       "      <td>NaN</td>\n",
       "      <td>Mike DeSimone</td>\n",
       "      <td>@worldwineguys</td>\n",
       "      <td>Psagot 2014 Merlot</td>\n",
       "      <td>Merlot</td>\n",
       "      <td>Psagot</td>\n",
       "    </tr>\n",
       "  </tbody>\n",
       "</table>\n",
       "<p>63 rows × 13 columns</p>\n",
       "</div>"
      ],
      "text/plain": [
       "       country                                        description  \\\n",
       "913        NaN  Amber in color, this wine has aromas of peach ...   \n",
       "3131       NaN  Soft, fruity and juicy, this is a pleasant, si...   \n",
       "...        ...                                                ...   \n",
       "129590     NaN  A blend of 60% Syrah, 30% Cabernet Sauvignon a...   \n",
       "129900     NaN  This wine offers a delightful bouquet of black...   \n",
       "\n",
       "           designation  points  price province region_1 region_2  \\\n",
       "913     Asureti Valley      87   30.0      NaN      NaN      NaN   \n",
       "3131          Partager      83    NaN      NaN      NaN      NaN   \n",
       "...                ...     ...    ...      ...      ...      ...   \n",
       "129590            Shah      90   30.0      NaN      NaN      NaN   \n",
       "129900             NaN      91   32.0      NaN      NaN      NaN   \n",
       "\n",
       "          taster_name taster_twitter_handle  \\\n",
       "913     Mike DeSimone        @worldwineguys   \n",
       "3131       Roger Voss            @vossroger   \n",
       "...               ...                   ...   \n",
       "129590  Mike DeSimone        @worldwineguys   \n",
       "129900  Mike DeSimone        @worldwineguys   \n",
       "\n",
       "                                                 title    variety  \\\n",
       "913     Gotsa Family Wines 2014 Asureti Valley Chinuri    Chinuri   \n",
       "3131                 Barton & Guestier NV Partager Red  Red Blend   \n",
       "...                                                ...        ...   \n",
       "129590                         Büyülübağ 2012 Shah Red  Red Blend   \n",
       "129900                              Psagot 2014 Merlot     Merlot   \n",
       "\n",
       "                    winery  \n",
       "913     Gotsa Family Wines  \n",
       "3131     Barton & Guestier  \n",
       "...                    ...  \n",
       "129590           Büyülübağ  \n",
       "129900              Psagot  \n",
       "\n",
       "[63 rows x 13 columns]"
      ]
     },
     "execution_count": 8,
     "metadata": {},
     "output_type": "execute_result"
    }
   ],
   "source": [
    "reviews[pd.isnull(reviews.country)]"
   ]
  },
  {
   "cell_type": "markdown",
   "id": "4f2d613e",
   "metadata": {},
   "source": [
    "La **sostituzione dei valori mancanti** è un'operazione comune. Pandas fornisce un metodo molto utile per questo problema: `fillna()`. `fillna()` fornisce alcune strategie diverse per attenuare tali dati. Ad esempio, si può semplicemente sostituire ogni `NaN` con un \"**Unknown**\":"
   ]
  },
  {
   "cell_type": "code",
   "execution_count": 9,
   "id": "eb967bfc",
   "metadata": {},
   "outputs": [
    {
     "data": {
      "text/plain": [
       "0         Unknown\n",
       "1         Unknown\n",
       "           ...   \n",
       "129969    Unknown\n",
       "129970    Unknown\n",
       "Name: region_2, Length: 129971, dtype: object"
      ]
     },
     "execution_count": 9,
     "metadata": {},
     "output_type": "execute_result"
    }
   ],
   "source": [
    "reviews.region_2.fillna(\"Unknown\")"
   ]
  },
  {
   "cell_type": "markdown",
   "id": "2692f643",
   "metadata": {},
   "source": [
    "Oppure si può riempire ogni valore mancante con il primo valore non nullo che appare qualche tempo dopo il record dato nel database. Questa strategia è nota come `backfill`.\n",
    "\n",
    "In alternativa, potremmo avere un valore non nullo che vorremmo sostituire. Ad esempio, supponiamo che da quando questo set di dati è stato pubblicato, il recensore Kerin O'Keefe abbia cambiato il suo account Twitter da @kerinokeefe a @kerino. Un modo per riflettere questo fatto nel set di dati è usare il metodo `replace()`:"
   ]
  },
  {
   "cell_type": "code",
   "execution_count": 10,
   "id": "4c4f9c84",
   "metadata": {},
   "outputs": [
    {
     "data": {
      "text/plain": [
       "0            @kerino\n",
       "1         @vossroger\n",
       "             ...    \n",
       "129969    @vossroger\n",
       "129970    @vossroger\n",
       "Name: taster_twitter_handle, Length: 129971, dtype: object"
      ]
     },
     "execution_count": 10,
     "metadata": {},
     "output_type": "execute_result"
    }
   ],
   "source": [
    "reviews.taster_twitter_handle.replace(\"@kerinokeefe\", \"@kerino\")"
   ]
  },
  {
   "cell_type": "markdown",
   "id": "204b147f",
   "metadata": {},
   "source": [
    "Il metodo `replace()` merita di essere menzionato perché è utile per sostituire i dati mancanti a cui è stato attribuito un qualche tipo di valore sentinella nel set di dati: cose come \"**Unknown**\", \"**Undisclosed**\", \"**Invalid**\" e così via."
   ]
  },
  {
   "cell_type": "markdown",
   "id": "68719a6b",
   "metadata": {},
   "source": [
    "## Esercizi\n",
    "Eseguire la seguente cella per caricare i dati e alcune funzioni di utilità."
   ]
  },
  {
   "cell_type": "code",
   "execution_count": 11,
   "id": "58470e9c",
   "metadata": {},
   "outputs": [],
   "source": [
    "import pandas as pd\n",
    "\n",
    "reviews = pd.read_csv(\"D:/Users/Alessio/OneDrive/Python/Kaggle/Pandas/winemag-data-130k-v2.csv\", index_col=0)"
   ]
  },
  {
   "cell_type": "raw",
   "id": "c8de4b52",
   "metadata": {},
   "source": [
    "from learntools.core import binder; binder.bind(globals())\n",
    "from learntools.pandas.data_types_and_missing_data import *\n",
    "print(\"Setup complete.\")"
   ]
  },
  {
   "cell_type": "markdown",
   "id": "5010758c",
   "metadata": {},
   "source": [
    "### Domanda 1 \n",
    "Qual è il tipo di dati della colonna `points` nel dataset?"
   ]
  },
  {
   "cell_type": "code",
   "execution_count": 16,
   "id": "14844a74",
   "metadata": {},
   "outputs": [
    {
     "data": {
      "text/plain": [
       "dtype('int64')"
      ]
     },
     "execution_count": 16,
     "metadata": {},
     "output_type": "execute_result"
    }
   ],
   "source": [
    "# Your code here\n",
    "dtype = reviews.points.dtype\n",
    "\n",
    "# Check your answer\n",
    "# q1.check()\n",
    "dtype"
   ]
  },
  {
   "cell_type": "markdown",
   "id": "fc4ce174",
   "metadata": {},
   "source": [
    "### Domanda 2 \n",
    "Creare una serie dalle voci della colonna `points`, ma convertire le voci in stringhe. Suggerimento: le stringhe sono `str` in Python nativo."
   ]
  },
  {
   "cell_type": "code",
   "execution_count": 17,
   "id": "3f14f8d0",
   "metadata": {},
   "outputs": [
    {
     "data": {
      "text/plain": [
       "0         87\n",
       "1         87\n",
       "          ..\n",
       "129969    90\n",
       "129970    90\n",
       "Name: points, Length: 129971, dtype: object"
      ]
     },
     "execution_count": 17,
     "metadata": {},
     "output_type": "execute_result"
    }
   ],
   "source": [
    "point_strings = reviews.points.astype(str)\n",
    "\n",
    "# Check your answer\n",
    "# q2.check()\n",
    "point_strings"
   ]
  },
  {
   "cell_type": "markdown",
   "id": "3ca52dd0",
   "metadata": {},
   "source": [
    "### Domanda 3\n",
    "A volte la colonna prezzo è nulla. A quante recensioni del dataset manca il prezzo?"
   ]
  },
  {
   "cell_type": "code",
   "execution_count": 18,
   "id": "bc43d39a",
   "metadata": {},
   "outputs": [
    {
     "data": {
      "text/plain": [
       "8996"
      ]
     },
     "execution_count": 18,
     "metadata": {},
     "output_type": "execute_result"
    }
   ],
   "source": [
    "missing_price_reviews = reviews[reviews.price.isnull()]\n",
    "n_missing_prices = len(missing_price_reviews)\n",
    "# Cute alternative solution: if we sum a boolean series, True is treated as 1 and False as 0\n",
    "n_missing_prices = reviews.price.isnull().sum()\n",
    "# or equivalently:\n",
    "n_missing_prices = pd.isnull(reviews.price).sum()\n",
    "\n",
    "# Check your answer\n",
    "# q3.check()\n",
    "n_missing_prices"
   ]
  },
  {
   "cell_type": "markdown",
   "id": "468d11e8",
   "metadata": {},
   "source": [
    "## 4.\n",
    "Quali sono le regioni produttrici di vino più comuni? Creare una serie contando il numero di volte in cui ciascun valore si presenta nel campo `region_1`. Questo campo è spesso mancante di dati, quindi sostituire i valori mancanti con `Unknown`. Ordinare in ordine decrescente. Il risultato dovrebbe essere simile a questo:\n",
    "\n",
    "```\n",
    "Sconosciuto 21247\n",
    "Valle di Napa 4480\n",
    "                           ...  \n",
    "Bardolino Superiore 1\n",
    "Primitivo del Tarantino 1\n",
    "Nome: regione_1, Lunghezza: 1230, Tipo: int64\n",
    "```"
   ]
  },
  {
   "cell_type": "code",
   "execution_count": 19,
   "id": "7631a756",
   "metadata": {},
   "outputs": [
    {
     "data": {
      "text/plain": [
       "Unknown        21247\n",
       "Napa Valley     4480\n",
       "               ...  \n",
       "Geelong            1\n",
       "Paestum            1\n",
       "Name: region_1, Length: 1230, dtype: int64"
      ]
     },
     "execution_count": 19,
     "metadata": {},
     "output_type": "execute_result"
    }
   ],
   "source": [
    "reviews_per_region = reviews.region_1.fillna('Unknown').value_counts().sort_values(ascending=False)\n",
    "\n",
    "# Check your answer\n",
    "# q4.check()\n",
    "reviews_per_region"
   ]
  }
 ],
 "metadata": {
  "kernelspec": {
   "display_name": "Python 3 (ipykernel)",
   "language": "python",
   "name": "python3"
  },
  "language_info": {
   "codemirror_mode": {
    "name": "ipython",
    "version": 3
   },
   "file_extension": ".py",
   "mimetype": "text/x-python",
   "name": "python",
   "nbconvert_exporter": "python",
   "pygments_lexer": "ipython3",
   "version": "3.9.7"
  }
 },
 "nbformat": 4,
 "nbformat_minor": 5
}
